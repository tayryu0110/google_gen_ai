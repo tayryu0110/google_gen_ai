{
 "cells": [
  {
   "cell_type": "markdown",
   "id": "efd363fe",
   "metadata": {
    "id": "jkxRSYjzA1oX",
    "papermill": {
     "duration": 0.013017,
     "end_time": "2025-03-30T23:23:23.583343",
     "exception": false,
     "start_time": "2025-03-30T23:23:23.570326",
     "status": "completed"
    },
    "tags": []
   },
   "source": [
    "##### Copyright 2025 Google LLC."
   ]
  },
  {
   "cell_type": "code",
   "execution_count": 1,
   "id": "6de7bb3f",
   "metadata": {
    "cellView": "form",
    "execution": {
     "iopub.execute_input": "2025-03-30T23:23:23.610212Z",
     "iopub.status.busy": "2025-03-30T23:23:23.609844Z",
     "iopub.status.idle": "2025-03-30T23:23:23.615108Z",
     "shell.execute_reply": "2025-03-30T23:23:23.614233Z"
    },
    "id": "5u5OZ2ShA3BA",
    "jupyter": {
     "source_hidden": true
    },
    "papermill": {
     "duration": 0.021585,
     "end_time": "2025-03-30T23:23:23.616950",
     "exception": false,
     "start_time": "2025-03-30T23:23:23.595365",
     "status": "completed"
    },
    "tags": []
   },
   "outputs": [],
   "source": [
    "# @title Licensed under the Apache License, Version 2.0 (the \"License\");\n",
    "# you may not use this file except in compliance with the License.\n",
    "# You may obtain a copy of the License at\n",
    "#\n",
    "# https://www.apache.org/licenses/LICENSE-2.0\n",
    "#\n",
    "# Unless required by applicable law or agreed to in writing, software\n",
    "# distributed under the License is distributed on an \"AS IS\" BASIS,\n",
    "# WITHOUT WARRANTIES OR CONDITIONS OF ANY KIND, either express or implied.\n",
    "# See the License for the specific language governing permissions and\n",
    "# limitations under the License."
   ]
  },
  {
   "cell_type": "markdown",
   "id": "ad4a55ca",
   "metadata": {
    "id": "csNPnkuCobmG",
    "papermill": {
     "duration": 0.011397,
     "end_time": "2025-03-30T23:23:23.640034",
     "exception": false,
     "start_time": "2025-03-30T23:23:23.628637",
     "status": "completed"
    },
    "tags": []
   },
   "source": [
    "# Day 1 - Prompting\n",
    "\n",
    "Welcome to the Kaggle 5-day Generative AI course!\n",
    "\n",
    "This notebook will show you how to get started with the Gemini API and walk you through some of the example prompts and techniques that you can also read about in the Prompting whitepaper. You don't need to read the whitepaper to use this notebook, but the papers will give you some theoretical context and background to complement this interactive notebook.\n",
    "\n",
    "\n",
    "## Before you begin\n",
    "\n",
    "In this notebook, you'll start exploring prompting using the Python SDK and AI Studio. For some inspiration, you might enjoy exploring some apps that have been built using the Gemini family of models. Here are a few that we like, and we think you will too.\n",
    "\n",
    "* [TextFX](https://textfx.withgoogle.com/) is a suite of AI-powered tools for rappers, made in collaboration with Lupe Fiasco,\n",
    "* [SQL Talk](https://sql-talk-r5gdynozbq-uc.a.run.app/) shows how you can talk directly to a database using the Gemini API,\n",
    "* [NotebookLM](https://notebooklm.google/) uses Gemini models to build your own personal AI research assistant.\n",
    "\n",
    "\n",
    "## For help\n",
    "\n",
    "**Common issues are covered in the [FAQ and troubleshooting guide](https://www.kaggle.com/code/markishere/day-0-troubleshooting-and-faqs).**\n",
    "\n",
    "## New for Gemini 2.0!\n",
    "\n",
    "This course material was first launched in November 2024. The AI and LLM space is moving incredibly fast, so we have made some updates to use the latest models and capabilities.\n",
    "\n",
    "* These codelabs have been updated to use the Gemini 2.0 family of models.\n",
    "* The Python SDK has been updated from `google-generativeai` to the new, unified [`google-genai`](https://pypi.org/project/google-genai) SDK.\n",
    "  * This new SDK works with both the developer Gemini API as well as Google Cloud Vertex AI, and switching is [as simple as changing some fields](https://pypi.org/project/google-genai/#:~:text=.Client%28%29-,API%20Selection,-By%20default%2C%20the).\n",
    "* New model capabilities have been added to the relevant codelabs, such as \"thinking mode\" in this lab.\n",
    "* Day 1 includes a new [Evaluation codelab](https://www.kaggle.com/code/markishere/day-1-evaluation-and-structured-output)."
   ]
  },
  {
   "attachments": {
    "d8299597-f771-4195-ac94-1d6f658ef2bd.png": {
     "image/png": "[encoded data removed]"
    },
    "ed25e346-2e15-4ab0-bc22-503eb1845e66.png": {
     "image/png": "[encoded data removed]"
    }
   },
   "cell_type": "markdown",
   "id": "77206024",
   "metadata": {
    "id": "f00ea7c99e44",
    "papermill": {
     "duration": 0.012765,
     "end_time": "2025-03-30T23:23:23.664342",
     "exception": false,
     "start_time": "2025-03-30T23:23:23.651577",
     "status": "completed"
    },
    "tags": []
   },
   "source": [
    "## Get started with Kaggle notebooks\n",
    "\n",
    "If this is your first time using a Kaggle notebook, welcome! You can read about how to use Kaggle notebooks [in the docs](https://www.kaggle.com/docs/notebooks).\n",
    "\n",
    "First, you will need to phone verify your account at kaggle.com/settings.\n",
    "\n",
    "![](https://storage.googleapis.com/kaggle-media/Images/5dgai_0.png)"
   ]
  },
  {
   "cell_type": "markdown",
   "id": "5fcc6f85",
   "metadata": {
    "papermill": {
     "duration": 0.011341,
     "end_time": "2025-03-30T23:23:23.687171",
     "exception": false,
     "start_time": "2025-03-30T23:23:23.675830",
     "status": "completed"
    },
    "tags": []
   },
   "source": [
    "To run this notebook, as well as the others in this course, you will need to make a copy, or fork, the notebook. Look for the `Copy and Edit` button in the top-right, and **click it** to make an editable, private copy of the notebook. It should look like this one:\n",
    "\n",
    "![Copy and Edit button](https://storage.googleapis.com/kaggle-media/Images/5gdai_sc_1.png)\n",
    "\n",
    "Your copy will now have a ▶️ **Run** button next to each code cell that you can press to execute that cell. These notebooks are expected to be run in order from top-to-bottom, but you are encouraged to add new cells, run your own code and explore. If you get stuck, you can try the `Factory reset` option in the `Run` menu, or head back to the original notebook and make a fresh copy.\n",
    "\n",
    "![Run cell button](https://storage.googleapis.com/kaggle-media/Images/5gdai_sc_2.png)\n",
    "\n",
    "### Problems?\n",
    "\n",
    "If you have any problems, head over to the [Kaggle Discord](https://discord.com/invite/kaggle), find the [`#5dgai-q-and-a` channel](https://discord.com/channels/1101210829807956100/1303438695143178251) and ask for help."
   ]
  },
  {
   "cell_type": "markdown",
   "id": "b932e191",
   "metadata": {
    "id": "ExkOXcPxtTb5",
    "papermill": {
     "duration": 0.011462,
     "end_time": "2025-03-30T23:23:23.710307",
     "exception": false,
     "start_time": "2025-03-30T23:23:23.698845",
     "status": "completed"
    },
    "tags": []
   },
   "source": [
    "## Get started with the Gemini API\n",
    "\n",
    "All of the exercises in this notebook will use the [Gemini API](https://ai.google.dev/gemini-api/) by way of the [Python SDK](https://pypi.org/project/google-genai/). Each of these prompts can be accessed directly in [Google AI Studio](https://aistudio.google.com/) too, so if you would rather use a web interface and skip the code for this activity, look for the <img src=\"https://ai.google.dev/site-assets/images/marketing/home/icon-ais.png\" style=\"height: 24px\" height=24/> AI Studio link on each prompt."
   ]
  },
  {
   "cell_type": "markdown",
   "id": "9c77a08e",
   "metadata": {
    "papermill": {
     "duration": 0.01148,
     "end_time": "2025-03-30T23:23:23.733363",
     "exception": false,
     "start_time": "2025-03-30T23:23:23.721883",
     "status": "completed"
    },
    "tags": []
   },
   "source": [
    "Next, you will need to add your API key to your Kaggle Notebook as a Kaggle User Secret.\n",
    "\n",
    "![](https://storage.googleapis.com/kaggle-media/Images/5dgai_1.png)\n",
    "![](https://storage.googleapis.com/kaggle-media/Images/5dgai_2.png)\n",
    "![](https://storage.googleapis.com/kaggle-media/Images/5dgai_3.png)\n",
    "![](https://storage.googleapis.com/kaggle-media/Images/5dgai_4.png)"
   ]
  },
  {
   "cell_type": "markdown",
   "id": "5075171e",
   "metadata": {
    "id": "UAjUV3BsvFXQ",
    "papermill": {
     "duration": 0.011197,
     "end_time": "2025-03-30T23:23:23.756025",
     "exception": false,
     "start_time": "2025-03-30T23:23:23.744828",
     "status": "completed"
    },
    "tags": []
   },
   "source": [
    "### Install the SDK"
   ]
  },
  {
   "cell_type": "code",
   "execution_count": 2,
   "id": "ef046d3e",
   "metadata": {
    "execution": {
     "iopub.execute_input": "2025-03-30T23:23:23.781888Z",
     "iopub.status.busy": "2025-03-30T23:23:23.781226Z",
     "iopub.status.idle": "2025-03-30T23:23:40.157490Z",
     "shell.execute_reply": "2025-03-30T23:23:40.156343Z"
    },
    "id": "NzwzJFU9LqkJ",
    "papermill": {
     "duration": 16.391378,
     "end_time": "2025-03-30T23:23:40.159875",
     "exception": false,
     "start_time": "2025-03-30T23:23:23.768497",
     "status": "completed"
    },
    "tags": []
   },
   "outputs": [],
   "source": [
    "!pip uninstall -qy jupyterlab  # Remove unused packages from Kaggle's base image that conflict\n",
    "!pip install -U -q \"google-genai==1.7.0\""
   ]
  },
  {
   "cell_type": "markdown",
   "id": "027d16a4",
   "metadata": {
    "papermill": {
     "duration": 0.011485,
     "end_time": "2025-03-30T23:23:40.183841",
     "exception": false,
     "start_time": "2025-03-30T23:23:40.172356",
     "status": "completed"
    },
    "tags": []
   },
   "source": [
    "Import the SDK and some helpers for rendering the output."
   ]
  },
  {
   "cell_type": "code",
   "execution_count": 3,
   "id": "5161b792",
   "metadata": {
    "execution": {
     "iopub.execute_input": "2025-03-30T23:23:40.208894Z",
     "iopub.status.busy": "2025-03-30T23:23:40.208035Z",
     "iopub.status.idle": "2025-03-30T23:23:41.378033Z",
     "shell.execute_reply": "2025-03-30T23:23:41.377286Z"
    },
    "id": "5DwxYIRavMST",
    "papermill": {
     "duration": 1.184832,
     "end_time": "2025-03-30T23:23:41.380223",
     "exception": false,
     "start_time": "2025-03-30T23:23:40.195391",
     "status": "completed"
    },
    "tags": []
   },
   "outputs": [],
   "source": [
    "from google import genai\n",
    "from google.genai import types\n",
    "\n",
    "from IPython.display import HTML, Markdown, display"
   ]
  },
  {
   "cell_type": "markdown",
   "id": "ea749ba1",
   "metadata": {
    "papermill": {
     "duration": 0.011838,
     "end_time": "2025-03-30T23:23:41.404313",
     "exception": false,
     "start_time": "2025-03-30T23:23:41.392475",
     "status": "completed"
    },
    "tags": []
   },
   "source": [
    "Set up a retry helper. This allows you to \"Run all\" without worrying about per-minute quota."
   ]
  },
  {
   "cell_type": "code",
   "execution_count": 4,
   "id": "fcb0ca3b",
   "metadata": {
    "execution": {
     "iopub.execute_input": "2025-03-30T23:23:41.429216Z",
     "iopub.status.busy": "2025-03-30T23:23:41.428455Z",
     "iopub.status.idle": "2025-03-30T23:23:41.605764Z",
     "shell.execute_reply": "2025-03-30T23:23:41.605018Z"
    },
    "papermill": {
     "duration": 0.191958,
     "end_time": "2025-03-30T23:23:41.607884",
     "exception": false,
     "start_time": "2025-03-30T23:23:41.415926",
     "status": "completed"
    },
    "tags": []
   },
   "outputs": [],
   "source": [
    "from google.api_core import retry\n",
    "\n",
    "\n",
    "is_retriable = lambda e: (isinstance(e, genai.errors.APIError) and e.code in {429, 503})\n",
    "\n",
    "genai.models.Models.generate_content = retry.Retry(\n",
    "    predicate=is_retriable)(genai.models.Models.generate_content)"
   ]
  },
  {
   "cell_type": "markdown",
   "id": "d4f608da",
   "metadata": {
    "id": "DNEt2BCOvOJ1",
    "papermill": {
     "duration": 0.011355,
     "end_time": "2025-03-30T23:23:41.631304",
     "exception": false,
     "start_time": "2025-03-30T23:23:41.619949",
     "status": "completed"
    },
    "tags": []
   },
   "source": [
    "### Set up your API key\n",
    "\n",
    "To run the following cell, your API key must be stored it in a [Kaggle secret](https://www.kaggle.com/discussions/product-feedback/114053) named `GOOGLE_API_KEY`.\n",
    "\n",
    "If you don't already have an API key, you can grab one from [AI Studio](https://aistudio.google.com/app/apikey). You can find [detailed instructions in the docs](https://ai.google.dev/gemini-api/docs/api-key).\n",
    "\n",
    "To make the key available through Kaggle secrets, choose `Secrets` from the `Add-ons` menu and follow the instructions to add your key or enable it for this notebook."
   ]
  },
  {
   "cell_type": "code",
   "execution_count": 5,
   "id": "7a8a8063",
   "metadata": {
    "execution": {
     "iopub.execute_input": "2025-03-30T23:23:41.655685Z",
     "iopub.status.busy": "2025-03-30T23:23:41.655249Z",
     "iopub.status.idle": "2025-03-30T23:23:41.982020Z",
     "shell.execute_reply": "2025-03-30T23:23:41.981279Z"
    },
    "id": "SHl0bkPCvayd",
    "papermill": {
     "duration": 0.341523,
     "end_time": "2025-03-30T23:23:41.984271",
     "exception": false,
     "start_time": "2025-03-30T23:23:41.642748",
     "status": "completed"
    },
    "tags": []
   },
   "outputs": [],
   "source": [
    "from kaggle_secrets import UserSecretsClient\n",
    "\n",
    "GOOGLE_API_KEY = UserSecretsClient().get_secret(\"GOOGLE_API_KEY\")"
   ]
  },
  {
   "attachments": {
    "d2be9aab-2527-48af-b6cf-1f06cdd7c3a7.png": {
     "image/png": "[encoded data removed]"
    }
   },
   "cell_type": "markdown",
   "id": "4f99b075",
   "metadata": {
    "id": "4e720472fd86",
    "papermill": {
     "duration": 0.011466,
     "end_time": "2025-03-30T23:23:42.007691",
     "exception": false,
     "start_time": "2025-03-30T23:23:41.996225",
     "status": "completed"
    },
    "tags": []
   },
   "source": [
    "If you received an error response along the lines of `No user secrets exist for kernel id ...`, then you need to add your API key via `Add-ons`, `Secrets` **and** enable it.\n",
    "\n",
    "![Screenshot of the checkbox to enable GOOGLE_API_KEY secret](https://storage.googleapis.com/kaggle-media/Images/5gdai_sc_3.png)"
   ]
  },
  {
   "cell_type": "markdown",
   "id": "d788dd93",
   "metadata": {
    "id": "H_YXCYIKvyZJ",
    "papermill": {
     "duration": 0.011358,
     "end_time": "2025-03-30T23:23:42.030835",
     "exception": false,
     "start_time": "2025-03-30T23:23:42.019477",
     "status": "completed"
    },
    "tags": []
   },
   "source": [
    "### Run your first prompt\n",
    "\n",
    "In this step, you will test that your API key is set up correctly by making a request.\n",
    "\n",
    "The Python SDK uses a [`Client` object](https://googleapis.github.io/python-genai/genai.html#genai.client.Client) to make requests to the API. The client lets you control which back-end to use (between the Gemini API and Vertex AI) and handles authentication (the API key).\n",
    "\n",
    "The `gemini-2.0-flash` model has been selected here.\n",
    "\n",
    "**Note**: If you see a `TransportError` on this step, you may need to **🔁 Factory reset** the notebook one time."
   ]
  },
  {
   "cell_type": "code",
   "execution_count": 6,
   "id": "03b754db",
   "metadata": {
    "execution": {
     "iopub.execute_input": "2025-03-30T23:23:42.055354Z",
     "iopub.status.busy": "2025-03-30T23:23:42.054993Z",
     "iopub.status.idle": "2025-03-30T23:23:45.327377Z",
     "shell.execute_reply": "2025-03-30T23:23:45.326406Z"
    },
    "id": "BV1o0PmcvyJF",
    "papermill": {
     "duration": 3.287994,
     "end_time": "2025-03-30T23:23:45.330413",
     "exception": false,
     "start_time": "2025-03-30T23:23:42.042419",
     "status": "completed"
    },
    "tags": []
   },
   "outputs": [
    {
     "name": "stdout",
     "output_type": "stream",
     "text": [
      "Okay, imagine you have a really smart dog, but instead of teaching it tricks like \"sit\" or \"fetch,\" you teach it how to learn things on its own. That's kind of like AI!\n",
      "\n",
      "**AI is like a really smart computer that can learn to do things without you telling it *exactly* how to do them.**\n",
      "\n",
      "Think of it like this:\n",
      "\n",
      "*   **You show the computer lots and lots of pictures of cats.** You tell it, \"These are cats!\"\n",
      "*   **After seeing enough pictures, the computer starts to figure out what makes a cat a cat.** It learns that cats usually have pointy ears, whiskers, and a tail.\n",
      "*   **Then, you show the computer a brand new picture that it's never seen before.** Because it's learned so much about cats, it can say, \"Hey! I think that's a cat!\"\n",
      "\n",
      "That's AI learning! It's using information it's seen before to make decisions or predictions about new things.\n",
      "\n",
      "Here are some examples:\n",
      "\n",
      "*   **Your tablet or phone can understand your voice** because it's learned how people talk. That's AI.\n",
      "*   **When you play a video game and the characters seem to make smart decisions,** that's often AI helping them decide what to do.\n",
      "*   **When you watch a movie and your streaming service suggests other movies you might like,** that's AI figuring out what you like based on what you've watched before.\n",
      "\n",
      "So, AI is basically giving computers the ability to learn, think, and solve problems like people do, but in a computer-y way! It's not magic, it's just really clever programming and lots and lots of information!\n",
      "\n"
     ]
    }
   ],
   "source": [
    "client = genai.Client(api_key=GOOGLE_API_KEY)\n",
    "\n",
    "response = client.models.generate_content(\n",
    "    model=\"gemini-2.0-flash\",\n",
    "    contents=\"Explain AI to me like I'm a kid.\")\n",
    "\n",
    "print(response.text)"
   ]
  },
  {
   "cell_type": "markdown",
   "id": "a06915e6",
   "metadata": {
    "id": "f60ed9d8ae41",
    "papermill": {
     "duration": 0.012258,
     "end_time": "2025-03-30T23:23:45.356425",
     "exception": false,
     "start_time": "2025-03-30T23:23:45.344167",
     "status": "completed"
    },
    "tags": []
   },
   "source": [
    "The response often comes back in markdown format, which you can render directly in this notebook."
   ]
  },
  {
   "cell_type": "code",
   "execution_count": 7,
   "id": "09511c43",
   "metadata": {
    "execution": {
     "iopub.execute_input": "2025-03-30T23:23:45.381215Z",
     "iopub.status.busy": "2025-03-30T23:23:45.380863Z",
     "iopub.status.idle": "2025-03-30T23:23:45.387683Z",
     "shell.execute_reply": "2025-03-30T23:23:45.386828Z"
    },
    "id": "c933e5e460a5",
    "papermill": {
     "duration": 0.021361,
     "end_time": "2025-03-30T23:23:45.389505",
     "exception": false,
     "start_time": "2025-03-30T23:23:45.368144",
     "status": "completed"
    },
    "tags": []
   },
   "outputs": [
    {
     "data": {
      "text/markdown": [
       "Okay, imagine you have a really smart dog, but instead of teaching it tricks like \"sit\" or \"fetch,\" you teach it how to learn things on its own. That's kind of like AI!\n",
       "\n",
       "**AI is like a really smart computer that can learn to do things without you telling it *exactly* how to do them.**\n",
       "\n",
       "Think of it like this:\n",
       "\n",
       "*   **You show the computer lots and lots of pictures of cats.** You tell it, \"These are cats!\"\n",
       "*   **After seeing enough pictures, the computer starts to figure out what makes a cat a cat.** It learns that cats usually have pointy ears, whiskers, and a tail.\n",
       "*   **Then, you show the computer a brand new picture that it's never seen before.** Because it's learned so much about cats, it can say, \"Hey! I think that's a cat!\"\n",
       "\n",
       "That's AI learning! It's using information it's seen before to make decisions or predictions about new things.\n",
       "\n",
       "Here are some examples:\n",
       "\n",
       "*   **Your tablet or phone can understand your voice** because it's learned how people talk. That's AI.\n",
       "*   **When you play a video game and the characters seem to make smart decisions,** that's often AI helping them decide what to do.\n",
       "*   **When you watch a movie and your streaming service suggests other movies you might like,** that's AI figuring out what you like based on what you've watched before.\n",
       "\n",
       "So, AI is basically giving computers the ability to learn, think, and solve problems like people do, but in a computer-y way! It's not magic, it's just really clever programming and lots and lots of information!\n"
      ],
      "text/plain": [
       "<IPython.core.display.Markdown object>"
      ]
     },
     "execution_count": 7,
     "metadata": {},
     "output_type": "execute_result"
    }
   ],
   "source": [
    "Markdown(response.text)"
   ]
  },
  {
   "cell_type": "markdown",
   "id": "594dba6a",
   "metadata": {
    "id": "byx0pT9ZMW2Q",
    "papermill": {
     "duration": 0.011724,
     "end_time": "2025-03-30T23:23:45.413220",
     "exception": false,
     "start_time": "2025-03-30T23:23:45.401496",
     "status": "completed"
    },
    "tags": []
   },
   "source": [
    "### Start a chat\n",
    "\n",
    "The previous example uses a single-turn, text-in/text-out structure, but you can also set up a multi-turn chat structure too."
   ]
  },
  {
   "cell_type": "code",
   "execution_count": 8,
   "id": "307e2066",
   "metadata": {
    "execution": {
     "iopub.execute_input": "2025-03-30T23:23:45.438785Z",
     "iopub.status.busy": "2025-03-30T23:23:45.438052Z",
     "iopub.status.idle": "2025-03-30T23:23:45.925870Z",
     "shell.execute_reply": "2025-03-30T23:23:45.924865Z"
    },
    "id": "lV_S5ZL5MidD",
    "papermill": {
     "duration": 0.502657,
     "end_time": "2025-03-30T23:23:45.927947",
     "exception": false,
     "start_time": "2025-03-30T23:23:45.425290",
     "status": "completed"
    },
    "tags": []
   },
   "outputs": [
    {
     "name": "stdout",
     "output_type": "stream",
     "text": [
      "Greetings, Zlork! It's nice to meet you. How can I help you today?\n",
      "\n"
     ]
    }
   ],
   "source": [
    "chat = client.chats.create(model='gemini-2.0-flash', history=[])\n",
    "response = chat.send_message('Hello! My name is Zlork.')\n",
    "print(response.text)"
   ]
  },
  {
   "cell_type": "code",
   "execution_count": 9,
   "id": "5572dd17",
   "metadata": {
    "execution": {
     "iopub.execute_input": "2025-03-30T23:23:45.953996Z",
     "iopub.status.busy": "2025-03-30T23:23:45.953319Z",
     "iopub.status.idle": "2025-03-30T23:23:47.340348Z",
     "shell.execute_reply": "2025-03-30T23:23:47.339458Z"
    },
    "id": "7b0372c3c64a",
    "papermill": {
     "duration": 1.401967,
     "end_time": "2025-03-30T23:23:47.342385",
     "exception": false,
     "start_time": "2025-03-30T23:23:45.940418",
     "status": "completed"
    },
    "tags": []
   },
   "outputs": [
    {
     "name": "stdout",
     "output_type": "stream",
     "text": [
      "Okay, here's a fascinating fact about dinosaurs:\n",
      "\n",
      "**Birds are actually the direct descendants of one line of carnivorous dinosaurs!**\n",
      "\n",
      "That's right, your robin in the garden or that eagle soaring in the sky are all modern-day dinosaurs. Scientists discovered this through analyzing skeletal structures and more recently, through genetic comparisons. This means that the dinosaur lineage didn't completely die out 66 million years ago; a branch of it evolved into the birds we know and love today! Pretty wild, right?\n",
      "\n"
     ]
    }
   ],
   "source": [
    "response = chat.send_message('Can you tell me something interesting about dinosaurs?')\n",
    "print(response.text)"
   ]
  },
  {
   "cell_type": "markdown",
   "id": "ab4544b6",
   "metadata": {
    "papermill": {
     "duration": 0.011936,
     "end_time": "2025-03-30T23:23:47.366718",
     "exception": false,
     "start_time": "2025-03-30T23:23:47.354782",
     "status": "completed"
    },
    "tags": []
   },
   "source": [
    "While you have the `chat` object alive, the conversation state\n",
    "persists. Confirm that by asking if it knows the user's name."
   ]
  },
  {
   "cell_type": "code",
   "execution_count": 10,
   "id": "9ba64550",
   "metadata": {
    "execution": {
     "iopub.execute_input": "2025-03-30T23:23:47.392587Z",
     "iopub.status.busy": "2025-03-30T23:23:47.391799Z",
     "iopub.status.idle": "2025-03-30T23:23:47.958341Z",
     "shell.execute_reply": "2025-03-30T23:23:47.957350Z"
    },
    "id": "d3f9591392a7",
    "papermill": {
     "duration": 0.581633,
     "end_time": "2025-03-30T23:23:47.960353",
     "exception": false,
     "start_time": "2025-03-30T23:23:47.378720",
     "status": "completed"
    },
    "tags": []
   },
   "outputs": [
    {
     "name": "stdout",
     "output_type": "stream",
     "text": [
      "Yes, I remember your name is Zlork.\n",
      "\n"
     ]
    }
   ],
   "source": [
    "response = chat.send_message('Do you remember what my name is?')\n",
    "print(response.text)"
   ]
  },
  {
   "cell_type": "markdown",
   "id": "e9c5a943",
   "metadata": {
    "id": "2KAjpr1200sW",
    "papermill": {
     "duration": 0.011942,
     "end_time": "2025-03-30T23:23:47.984696",
     "exception": false,
     "start_time": "2025-03-30T23:23:47.972754",
     "status": "completed"
    },
    "tags": []
   },
   "source": [
    "### Choose a model\n",
    "\n",
    "The Gemini API provides access to a number of models from the Gemini model family. Read about the available models and their capabilities on the [model overview page](https://ai.google.dev/gemini-api/docs/models/gemini).\n",
    "\n",
    "In this step you'll use the API to list all of the available models."
   ]
  },
  {
   "cell_type": "code",
   "execution_count": 11,
   "id": "48e46a89",
   "metadata": {
    "execution": {
     "iopub.execute_input": "2025-03-30T23:23:48.010985Z",
     "iopub.status.busy": "2025-03-30T23:23:48.010162Z",
     "iopub.status.idle": "2025-03-30T23:23:48.375417Z",
     "shell.execute_reply": "2025-03-30T23:23:48.374447Z"
    },
    "id": "uUUZa2uq2jDm",
    "papermill": {
     "duration": 0.38072,
     "end_time": "2025-03-30T23:23:48.377735",
     "exception": false,
     "start_time": "2025-03-30T23:23:47.997015",
     "status": "completed"
    },
    "tags": []
   },
   "outputs": [
    {
     "name": "stdout",
     "output_type": "stream",
     "text": [
      "models/chat-bison-001\n",
      "models/text-bison-001\n",
      "models/embedding-gecko-001\n",
      "models/gemini-1.0-pro-vision-latest\n",
      "models/gemini-pro-vision\n",
      "models/gemini-1.5-pro-latest\n",
      "models/gemini-1.5-pro-001\n",
      "models/gemini-1.5-pro-002\n",
      "models/gemini-1.5-pro\n",
      "models/gemini-1.5-flash-latest\n",
      "models/gemini-1.5-flash-001\n",
      "models/gemini-1.5-flash-001-tuning\n",
      "models/gemini-1.5-flash\n",
      "models/gemini-1.5-flash-002\n",
      "models/gemini-1.5-flash-8b\n",
      "models/gemini-1.5-flash-8b-001\n",
      "models/gemini-1.5-flash-8b-latest\n",
      "models/gemini-1.5-flash-8b-exp-0827\n",
      "models/gemini-1.5-flash-8b-exp-0924\n",
      "models/gemini-2.5-pro-exp-03-25\n",
      "models/gemini-2.0-flash-exp\n",
      "models/gemini-2.0-flash\n",
      "models/gemini-2.0-flash-001\n",
      "models/gemini-2.0-flash-exp-image-generation\n",
      "models/gemini-2.0-flash-lite-001\n",
      "models/gemini-2.0-flash-lite\n",
      "models/gemini-2.0-flash-lite-preview-02-05\n",
      "models/gemini-2.0-flash-lite-preview\n",
      "models/gemini-2.0-pro-exp\n",
      "models/gemini-2.0-pro-exp-02-05\n",
      "models/gemini-exp-1206\n",
      "models/gemini-2.0-flash-thinking-exp-01-21\n",
      "models/gemini-2.0-flash-thinking-exp\n",
      "models/gemini-2.0-flash-thinking-exp-1219\n",
      "models/learnlm-1.5-pro-experimental\n",
      "models/gemma-3-27b-it\n",
      "models/embedding-001\n",
      "models/text-embedding-004\n",
      "models/gemini-embedding-exp-03-07\n",
      "models/gemini-embedding-exp\n",
      "models/aqa\n",
      "models/imagen-3.0-generate-002\n"
     ]
    }
   ],
   "source": [
    "for model in client.models.list():\n",
    "  print(model.name)"
   ]
  },
  {
   "cell_type": "markdown",
   "id": "3f072443",
   "metadata": {
    "id": "rN49kSI54R1v",
    "papermill": {
     "duration": 0.012073,
     "end_time": "2025-03-30T23:23:48.402355",
     "exception": false,
     "start_time": "2025-03-30T23:23:48.390282",
     "status": "completed"
    },
    "tags": []
   },
   "source": [
    "The [`models.list`](https://ai.google.dev/api/models#method:-models.list) response also returns additional information about the model's capabilities, like the token limits and supported parameters."
   ]
  },
  {
   "cell_type": "code",
   "execution_count": 12,
   "id": "2a3c0b48",
   "metadata": {
    "execution": {
     "iopub.execute_input": "2025-03-30T23:23:48.428218Z",
     "iopub.status.busy": "2025-03-30T23:23:48.427536Z",
     "iopub.status.idle": "2025-03-30T23:23:48.977010Z",
     "shell.execute_reply": "2025-03-30T23:23:48.975867Z"
    },
    "id": "k7JJ1K6j4Rl8",
    "papermill": {
     "duration": 0.56466,
     "end_time": "2025-03-30T23:23:48.979129",
     "exception": false,
     "start_time": "2025-03-30T23:23:48.414469",
     "status": "completed"
    },
    "tags": []
   },
   "outputs": [
    {
     "name": "stdout",
     "output_type": "stream",
     "text": [
      "{'description': 'Gemini 2.0 Flash',\n",
      " 'display_name': 'Gemini 2.0 Flash',\n",
      " 'input_token_limit': 1048576,\n",
      " 'name': 'models/gemini-2.0-flash',\n",
      " 'output_token_limit': 8192,\n",
      " 'supported_actions': ['generateContent', 'countTokens'],\n",
      " 'tuned_model_info': {},\n",
      " 'version': '2.0'}\n"
     ]
    }
   ],
   "source": [
    "from pprint import pprint\n",
    "\n",
    "for model in client.models.list():\n",
    "  if model.name == 'models/gemini-2.0-flash':\n",
    "    pprint(model.to_json_dict())\n",
    "    break"
   ]
  },
  {
   "cell_type": "markdown",
   "id": "7bf08d59",
   "metadata": {
    "id": "5rU_UBlZdooM",
    "papermill": {
     "duration": 0.012138,
     "end_time": "2025-03-30T23:23:49.003740",
     "exception": false,
     "start_time": "2025-03-30T23:23:48.991602",
     "status": "completed"
    },
    "tags": []
   },
   "source": [
    "## Explore generation parameters\n",
    "\n"
   ]
  },
  {
   "cell_type": "markdown",
   "id": "59b90f36",
   "metadata": {
    "id": "G7NfEizeipbW",
    "papermill": {
     "duration": 0.012006,
     "end_time": "2025-03-30T23:23:49.028017",
     "exception": false,
     "start_time": "2025-03-30T23:23:49.016011",
     "status": "completed"
    },
    "tags": []
   },
   "source": [
    "### Output length\n",
    "\n",
    "When generating text with an LLM, the output length affects cost and performance. Generating more tokens increases computation, leading to higher energy consumption, latency, and cost.\n",
    "\n",
    "To stop the model from generating tokens past a limit, you can specify the `max_output_tokens` parameter when using the Gemini API. Specifying this parameter does not influence the generation of the output tokens, so the output will not become more stylistically or textually succinct, but it will stop generating tokens once the specified length is reached. Prompt engineering may be required to generate a more complete output for your given limit."
   ]
  },
  {
   "cell_type": "code",
   "execution_count": 13,
   "id": "905fa1a2",
   "metadata": {
    "execution": {
     "iopub.execute_input": "2025-03-30T23:23:49.054104Z",
     "iopub.status.busy": "2025-03-30T23:23:49.053432Z",
     "iopub.status.idle": "2025-03-30T23:23:50.699877Z",
     "shell.execute_reply": "2025-03-30T23:23:50.698805Z"
    },
    "id": "qVf23JsIi9ma",
    "papermill": {
     "duration": 1.661907,
     "end_time": "2025-03-30T23:23:50.702095",
     "exception": false,
     "start_time": "2025-03-30T23:23:49.040188",
     "status": "completed"
    },
    "tags": []
   },
   "outputs": [
    {
     "name": "stdout",
     "output_type": "stream",
     "text": [
      "## The Enduring Olive: A Cornerstone of Modern Society\n",
      "\n",
      "The olive, that humble fruit of the Olea europaea, might seem like a simple ingredient, a mere garnish or a source of flavorful oil. However, its significance extends far beyond the culinary realm, weaving its way into the very fabric of modern society. From its historical roots as a symbol of peace and prosperity to its contemporary roles in health, economics, and environmental sustainability, the olive’s importance is undeniable and continues to grow in our increasingly complex world.\n",
      "\n",
      "Historically, the olive has been intrinsically linked to civilization, particularly in the Mediterranean region. Ancient societies revered the olive tree, considering it a gift from the gods. Evidence of olive cultivation dates back thousands of years, with the tree becoming a cornerstone of economies in regions like Greece, Italy, and Spain. Olives provided a vital source of food, oil for lamps and fuel, and timber for construction. The olive branch became a powerful symbol of peace, reflecting the stability and\n"
     ]
    }
   ],
   "source": [
    "from google.genai import types\n",
    "\n",
    "short_config = types.GenerateContentConfig(max_output_tokens=200)\n",
    "\n",
    "response = client.models.generate_content(\n",
    "    model='gemini-2.0-flash',\n",
    "    config=short_config,\n",
    "    contents='Write a 1000 word essay on the importance of olives in modern society.')\n",
    "\n",
    "print(response.text)"
   ]
  },
  {
   "cell_type": "code",
   "execution_count": 14,
   "id": "d2c79cdd",
   "metadata": {
    "execution": {
     "iopub.execute_input": "2025-03-30T23:23:50.729725Z",
     "iopub.status.busy": "2025-03-30T23:23:50.729387Z",
     "iopub.status.idle": "2025-03-30T23:23:51.937642Z",
     "shell.execute_reply": "2025-03-30T23:23:51.936392Z"
    },
    "id": "W-3kR2F5kdMR",
    "papermill": {
     "duration": 1.224435,
     "end_time": "2025-03-30T23:23:51.939668",
     "exception": false,
     "start_time": "2025-03-30T23:23:50.715233",
     "status": "completed"
    },
    "tags": []
   },
   "outputs": [
    {
     "name": "stdout",
     "output_type": "stream",
     "text": [
      "From sun-drenched groves to bustling store,\n",
      "The olive thrives, and offers more.\n",
      "A symbol old, of peace and health,\n",
      "Now graces tables, common wealth.\n",
      "\n",
      "In oil it flows, on bread it lies,\n",
      "A tapenade, a foodie prize.\n",
      "From cocktails strong to salads bright,\n",
      "A salty, savory, pure delight.\n",
      "\n",
      "So raise a glass, or pierce a bite,\n",
      "To olives green, and olives black,\n",
      "A tiny fruit, on modern track,\n",
      "A taste of history, shining light.\n",
      "\n"
     ]
    }
   ],
   "source": [
    "response = client.models.generate_content(\n",
    "    model='gemini-2.0-flash',\n",
    "    config=short_config,\n",
    "    contents='Write a short poem on the importance of olives in modern society.')\n",
    "\n",
    "print(response.text)"
   ]
  },
  {
   "cell_type": "markdown",
   "id": "84c58bfa",
   "metadata": {
    "id": "3ZhDSLB6lqqB",
    "papermill": {
     "duration": 0.012323,
     "end_time": "2025-03-30T23:23:51.964942",
     "exception": false,
     "start_time": "2025-03-30T23:23:51.952619",
     "status": "completed"
    },
    "tags": []
   },
   "source": [
    "Explore with your own prompts. Try a prompt with a restrictive output limit and then adjust the prompt to work within that limit."
   ]
  },
  {
   "cell_type": "markdown",
   "id": "5eb7e2fa",
   "metadata": {
    "id": "alx-WaAvir_9",
    "papermill": {
     "duration": 0.012284,
     "end_time": "2025-03-30T23:23:51.989725",
     "exception": false,
     "start_time": "2025-03-30T23:23:51.977441",
     "status": "completed"
    },
    "tags": []
   },
   "source": [
    "### Temperature\n",
    "\n",
    "Temperature controls the degree of randomness in token selection. Higher temperatures result in a higher number of candidate tokens from which the next output token is selected, and can produce more diverse results, while lower temperatures have the opposite effect, such that a temperature of 0 results in greedy decoding, selecting the most probable token at each step.\n",
    "\n",
    "Temperature doesn't provide any guarantees of randomness, but it can be used to \"nudge\" the output somewhat."
   ]
  },
  {
   "cell_type": "code",
   "execution_count": 15,
   "id": "1abdb2ab",
   "metadata": {
    "execution": {
     "iopub.execute_input": "2025-03-30T23:23:52.016648Z",
     "iopub.status.busy": "2025-03-30T23:23:52.015925Z",
     "iopub.status.idle": "2025-03-30T23:23:54.802495Z",
     "shell.execute_reply": "2025-03-30T23:23:54.801514Z"
    },
    "id": "SHraGMzqnZqt",
    "papermill": {
     "duration": 2.802499,
     "end_time": "2025-03-30T23:23:54.804717",
     "exception": false,
     "start_time": "2025-03-30T23:23:52.002218",
     "status": "completed"
    },
    "tags": []
   },
   "outputs": [
    {
     "name": "stdout",
     "output_type": "stream",
     "text": [
      "Orange.\n",
      " -------------------------\n",
      "Cerulean.\n",
      " -------------------------\n",
      "Orange\n",
      " -------------------------\n",
      "Azure.\n",
      " -------------------------\n",
      "Azure\n",
      " -------------------------\n"
     ]
    }
   ],
   "source": [
    "high_temp_config = types.GenerateContentConfig(temperature=2.0)\n",
    "\n",
    "\n",
    "for _ in range(5):\n",
    "  response = client.models.generate_content(\n",
    "      model='gemini-2.0-flash',\n",
    "      config=high_temp_config,\n",
    "      contents='Pick a random colour... (respond in a single word)')\n",
    "\n",
    "  if response.text:\n",
    "    print(response.text, '-' * 25)"
   ]
  },
  {
   "cell_type": "markdown",
   "id": "234f1de2",
   "metadata": {
    "id": "z3J4pCTuof7e",
    "papermill": {
     "duration": 0.013351,
     "end_time": "2025-03-30T23:23:54.831262",
     "exception": false,
     "start_time": "2025-03-30T23:23:54.817911",
     "status": "completed"
    },
    "tags": []
   },
   "source": [
    "Now try the same prompt with temperature set to zero. Note that the output is not completely deterministic, as other parameters affect token selection, but the results will tend to be more stable."
   ]
  },
  {
   "cell_type": "code",
   "execution_count": 16,
   "id": "acc61864",
   "metadata": {
    "execution": {
     "iopub.execute_input": "2025-03-30T23:23:54.859964Z",
     "iopub.status.busy": "2025-03-30T23:23:54.859309Z",
     "iopub.status.idle": "2025-03-30T23:23:57.304038Z",
     "shell.execute_reply": "2025-03-30T23:23:57.303114Z"
    },
    "id": "clymkWv-PfUZ",
    "papermill": {
     "duration": 2.460513,
     "end_time": "2025-03-30T23:23:57.305951",
     "exception": false,
     "start_time": "2025-03-30T23:23:54.845438",
     "status": "completed"
    },
    "tags": []
   },
   "outputs": [
    {
     "name": "stdout",
     "output_type": "stream",
     "text": [
      "Azure\n",
      " -------------------------\n",
      "Azure\n",
      " -------------------------\n",
      "Azure\n",
      " -------------------------\n",
      "Azure\n",
      " -------------------------\n",
      "Azure\n",
      " -------------------------\n"
     ]
    }
   ],
   "source": [
    "low_temp_config = types.GenerateContentConfig(temperature=0.0)\n",
    "\n",
    "for _ in range(5):\n",
    "  response = client.models.generate_content(\n",
    "      model='gemini-2.0-flash',\n",
    "      config=low_temp_config,\n",
    "      contents='Pick a random colour... (respond in a single word)')\n",
    "\n",
    "  if response.text:\n",
    "    print(response.text, '-' * 25)"
   ]
  },
  {
   "cell_type": "markdown",
   "id": "48882cdc",
   "metadata": {
    "id": "St5nt3vzitsZ",
    "papermill": {
     "duration": 0.012808,
     "end_time": "2025-03-30T23:23:57.332061",
     "exception": false,
     "start_time": "2025-03-30T23:23:57.319253",
     "status": "completed"
    },
    "tags": []
   },
   "source": [
    "### Top-P\n",
    "\n",
    "Like temperature, the top-P parameter is also used to control the diversity of the model's output.\n",
    "\n",
    "Top-P defines the probability threshold that, once cumulatively exceeded, tokens stop being selected as candidates. A top-P of 0 is typically equivalent to greedy decoding, and a top-P of 1 typically selects every token in the model's vocabulary.\n",
    "\n",
    "You may also see top-K referenced in LLM literature. Top-K is not configurable in the Gemini 2.0 series of models, but can be changed in older models. Top-K is a positive integer that defines the number of most probable tokens from which to select the output token. A top-K of 1 selects a single token, performing greedy decoding.\n",
    "\n",
    "\n",
    "Run this example a number of times, change the settings and observe the change in output."
   ]
  },
  {
   "cell_type": "code",
   "execution_count": 17,
   "id": "f834bbce",
   "metadata": {
    "execution": {
     "iopub.execute_input": "2025-03-30T23:23:57.359215Z",
     "iopub.status.busy": "2025-03-30T23:23:57.358866Z",
     "iopub.status.idle": "2025-03-30T23:25:26.473366Z",
     "shell.execute_reply": "2025-03-30T23:25:26.472396Z"
    },
    "id": "lPlzpEavUV8F",
    "papermill": {
     "duration": 89.143816,
     "end_time": "2025-03-30T23:25:26.488815",
     "exception": false,
     "start_time": "2025-03-30T23:23:57.344999",
     "status": "completed"
    },
    "tags": []
   },
   "outputs": [
    {
     "name": "stdout",
     "output_type": "stream",
     "text": [
      "Whiskers twitched, emerald eyes gleaming. Jasper, a ginger tabby of discerning taste and questionable bravery, surveyed his domain: Mrs. Higgins' sun-drenched living room. Same dust bunnies under the sofa, same floral-patterned cushions. Boredom, that insidious feline foe, gnawed at his spirit.\n",
      "\n",
      "Then, a fly buzzed against the windowpane. Jasper, usually a creature of calculated napping, felt a jolt of something… primal. He stalked closer, muscles coiling. Not just a fly. It was a harbinger. A call to adventure!\n",
      "\n",
      "He scaled the curtains, launching himself onto the windowsill. Beyond the glass, a vibrant world beckoned. Trees whispered secrets, birds sang thrilling operas, and scents, a kaleidoscope of the unknown, danced on the breeze. Today, Jasper would be an explorer.\n",
      "\n",
      "Squeezing through a crack in the window frame (a feat of agility he usually reserved for evading Mrs. Higgins' attempts at cuddling), he found himself on the roof. A dizzying, glorious vista! He tested the air with his nose, choosing a direction dictated by the tantalizing aroma of fish and chips.\n",
      "\n",
      "His journey was fraught with peril. He navigated treacherous rooftops, dodging swooping pigeons and a grumpy dachshund named Brutus. He crossed a raging river (a particularly muddy puddle) by leaping onto a strategically placed discarded newspaper. He even faced a fearsome opponent: a squirrel with a surprisingly aggressive nut-burying technique.\n",
      "\n",
      "The tantalizing scent led him to the harbor. The air was thick with the tang of salt and the raucous cries of seagulls. And there it was: a fish and chip shop, its golden aroma a siren song.\n",
      "\n",
      "He found his way to the back, a haven of overflowing bins and forgotten treasures. He pounced on a discarded, half-eaten fish, savoring its greasy deliciousness. He was a conqueror, a survivor, a legend in his own mind.\n",
      "\n",
      "But adventure, Jasper discovered, had a price. The fish and chips, while divine, were heavier than expected. The journey back, less thrilling, more wobbly. As dusk painted the sky in hues of orange and purple, he found himself disoriented, lost in a maze of unfamiliar gardens.\n",
      "\n",
      "Panic flickered in his emerald eyes. He was alone, cold, and smelled strongly of discarded cod. He let out a small, plaintive meow.\n",
      "\n",
      "Then, a familiar voice cut through the evening air. \"Jasper! Jasper, where have you gotten to, you naughty boy?\"\n",
      "\n",
      "Relief washed over him. He meowed louder, pushing through a rose bush towards the sound of Mrs. Higgins' voice.\n",
      "\n",
      "She appeared, her floral apron covered in flour, her face creased with worry. When she saw him, she scooped him into her arms, burying her face in his fur.\n",
      "\n",
      "He purred, a deep rumble that shook his entire body. Adventure was exhilarating, but home, with its warm lap and predictable routine, was sweeter than any fish and chips.\n",
      "\n",
      "Back in the sun-drenched living room, curled on his favorite cushion, Jasper dreamed of his daring escapade. He was a hero, a legend, a slightly smelly ginger tabby. And tomorrow? Tomorrow, perhaps, he would conquer the world. Or maybe just nap. Adventures were tiring, after all.\n",
      "\n"
     ]
    }
   ],
   "source": [
    "model_config = types.GenerateContentConfig(\n",
    "    # These are the default values for gemini-2.0-flash.\n",
    "    temperature=1.0,\n",
    "    top_p=0.95,\n",
    ")\n",
    "\n",
    "story_prompt = \"You are a creative writer. Write a short story about a cat who goes on an adventure.\"\n",
    "response = client.models.generate_content(\n",
    "    model='gemini-2.0-flash',\n",
    "    config=model_config,\n",
    "    contents=story_prompt)\n",
    "\n",
    "print(response.text)"
   ]
  },
  {
   "cell_type": "markdown",
   "id": "6e51858f",
   "metadata": {
    "id": "rMrYs1koY6DX",
    "papermill": {
     "duration": 0.013068,
     "end_time": "2025-03-30T23:25:26.515295",
     "exception": false,
     "start_time": "2025-03-30T23:25:26.502227",
     "status": "completed"
    },
    "tags": []
   },
   "source": [
    "## Prompting\n",
    "\n",
    "This section contains some prompts from the chapter for you to try out directly in the API. Try changing the text here to see how each prompt performs with different instructions, more examples, or any other changes you can think of."
   ]
  },
  {
   "cell_type": "markdown",
   "id": "e0b2f3a1",
   "metadata": {
    "id": "hhj_tQidZJP7",
    "papermill": {
     "duration": 0.012891,
     "end_time": "2025-03-30T23:25:26.541257",
     "exception": false,
     "start_time": "2025-03-30T23:25:26.528366",
     "status": "completed"
    },
    "tags": []
   },
   "source": [
    "### Zero-shot\n",
    "\n",
    "Zero-shot prompts are prompts that describe the request for the model directly.\n",
    "\n",
    "<table align=left>\n",
    "  <td>\n",
    "    <a target=\"_blank\" href=\"https://aistudio.google.com/prompts/1gzKKgDHwkAvexG5Up0LMtl1-6jKMKe4g\"><img src=\"https://ai.google.dev/site-assets/images/marketing/home/icon-ais.png\" style=\"height: 24px\" height=24/> Open in AI Studio</a>\n",
    "  </td>\n",
    "</table>"
   ]
  },
  {
   "cell_type": "code",
   "execution_count": 18,
   "id": "fe18ee3a",
   "metadata": {
    "execution": {
     "iopub.execute_input": "2025-03-30T23:25:26.569139Z",
     "iopub.status.busy": "2025-03-30T23:25:26.568760Z",
     "iopub.status.idle": "2025-03-30T23:25:27.016432Z",
     "shell.execute_reply": "2025-03-30T23:25:27.015441Z"
    },
    "id": "1_t-cwnDZzbH",
    "papermill": {
     "duration": 0.464589,
     "end_time": "2025-03-30T23:25:27.019147",
     "exception": false,
     "start_time": "2025-03-30T23:25:26.554558",
     "status": "completed"
    },
    "tags": []
   },
   "outputs": [
    {
     "name": "stdout",
     "output_type": "stream",
     "text": [
      "POSITIVE\n",
      "\n"
     ]
    }
   ],
   "source": [
    "model_config = types.GenerateContentConfig(\n",
    "    temperature=0.1,\n",
    "    top_p=1,\n",
    "    max_output_tokens=5,\n",
    ")\n",
    "\n",
    "zero_shot_prompt = \"\"\"Classify movie reviews as POSITIVE, NEUTRAL or NEGATIVE.\n",
    "Review: \"Her\" is a disturbing study revealing the direction\n",
    "humanity is headed if AI is allowed to keep evolving,\n",
    "unchecked. I wish there were more movies like this masterpiece.\n",
    "Sentiment: \"\"\"\n",
    "\n",
    "response = client.models.generate_content(\n",
    "    model='gemini-2.0-flash',\n",
    "    config=model_config,\n",
    "    contents=zero_shot_prompt)\n",
    "\n",
    "print(response.text)"
   ]
  },
  {
   "cell_type": "markdown",
   "id": "94561ce4",
   "metadata": {
    "id": "3b5568bdeb11",
    "papermill": {
     "duration": 0.013191,
     "end_time": "2025-03-30T23:25:27.051216",
     "exception": false,
     "start_time": "2025-03-30T23:25:27.038025",
     "status": "completed"
    },
    "tags": []
   },
   "source": [
    "#### Enum mode\n",
    "\n",
    "The models are trained to generate text, and while the Gemini 2.0 models are great at following instructions, other models can sometimes produce more text than you may wish for. In the preceding example, the model will output the label, but sometimes it can include a preceding \"Sentiment\" label, and without an output token limit, it may also add explanatory text afterwards. See [this prompt in AI Studio](https://aistudio.google.com/prompts/1gzKKgDHwkAvexG5Up0LMtl1-6jKMKe4g) for an example.\n",
    "\n",
    "The Gemini API has an [Enum mode](https://github.com/google-gemini/cookbook/blob/main/quickstarts/Enum.ipynb) feature that allows you to constrain the output to a fixed set of values."
   ]
  },
  {
   "cell_type": "code",
   "execution_count": 19,
   "id": "d80108ec",
   "metadata": {
    "execution": {
     "iopub.execute_input": "2025-03-30T23:25:27.085691Z",
     "iopub.status.busy": "2025-03-30T23:25:27.085355Z",
     "iopub.status.idle": "2025-03-30T23:25:27.777619Z",
     "shell.execute_reply": "2025-03-30T23:25:27.776552Z"
    },
    "id": "ad118a56c598",
    "papermill": {
     "duration": 0.712917,
     "end_time": "2025-03-30T23:25:27.779670",
     "exception": false,
     "start_time": "2025-03-30T23:25:27.066753",
     "status": "completed"
    },
    "tags": []
   },
   "outputs": [
    {
     "name": "stdout",
     "output_type": "stream",
     "text": [
      "positive\n"
     ]
    }
   ],
   "source": [
    "import enum\n",
    "\n",
    "class Sentiment(enum.Enum):\n",
    "    POSITIVE = \"positive\"\n",
    "    NEUTRAL = \"neutral\"\n",
    "    NEGATIVE = \"negative\"\n",
    "\n",
    "\n",
    "response = client.models.generate_content(\n",
    "    model='gemini-2.0-flash',\n",
    "    config=types.GenerateContentConfig(\n",
    "        response_mime_type=\"text/x.enum\",\n",
    "        response_schema=Sentiment\n",
    "    ),\n",
    "    contents=zero_shot_prompt)\n",
    "\n",
    "print(response.text)"
   ]
  },
  {
   "cell_type": "markdown",
   "id": "59764202",
   "metadata": {
    "papermill": {
     "duration": 0.013124,
     "end_time": "2025-03-30T23:25:27.806347",
     "exception": false,
     "start_time": "2025-03-30T23:25:27.793223",
     "status": "completed"
    },
    "tags": []
   },
   "source": [
    "When using constrained output like an enum, the Python SDK will attempt to convert the model's text response into a Python object automatically. It's stored in the `response.parsed` field."
   ]
  },
  {
   "cell_type": "code",
   "execution_count": 20,
   "id": "bd1606d7",
   "metadata": {
    "execution": {
     "iopub.execute_input": "2025-03-30T23:25:27.834356Z",
     "iopub.status.busy": "2025-03-30T23:25:27.834008Z",
     "iopub.status.idle": "2025-03-30T23:25:27.839034Z",
     "shell.execute_reply": "2025-03-30T23:25:27.838145Z"
    },
    "papermill": {
     "duration": 0.022086,
     "end_time": "2025-03-30T23:25:27.841755",
     "exception": false,
     "start_time": "2025-03-30T23:25:27.819669",
     "status": "completed"
    },
    "tags": []
   },
   "outputs": [
    {
     "name": "stdout",
     "output_type": "stream",
     "text": [
      "Sentiment.POSITIVE\n",
      "<enum 'Sentiment'>\n"
     ]
    }
   ],
   "source": [
    "enum_response = response.parsed\n",
    "print(enum_response)\n",
    "print(type(enum_response))"
   ]
  },
  {
   "cell_type": "markdown",
   "id": "e82c733f",
   "metadata": {
    "id": "0udiSwNbv45W",
    "papermill": {
     "duration": 0.02455,
     "end_time": "2025-03-30T23:25:27.891213",
     "exception": false,
     "start_time": "2025-03-30T23:25:27.866663",
     "status": "completed"
    },
    "tags": []
   },
   "source": [
    "### One-shot and few-shot\n",
    "\n",
    "Providing an example of the expected response is known as a \"one-shot\" prompt. When you provide multiple examples, it is a \"few-shot\" prompt.\n",
    "\n",
    "<table align=left>\n",
    "  <td>\n",
    "    <a target=\"_blank\" href=\"https://aistudio.google.com/prompts/1jjWkjUSoMXmLvMJ7IzADr_GxHPJVV2bg\"><img src=\"https://ai.google.dev/site-assets/images/marketing/home/icon-ais.png\" style=\"height: 24px\" height=24/> Open in AI Studio</a>\n",
    "  </td>\n",
    "</table>\n"
   ]
  },
  {
   "cell_type": "code",
   "execution_count": 21,
   "id": "12e7df71",
   "metadata": {
    "execution": {
     "iopub.execute_input": "2025-03-30T23:25:27.935333Z",
     "iopub.status.busy": "2025-03-30T23:25:27.934839Z",
     "iopub.status.idle": "2025-03-30T23:25:28.466585Z",
     "shell.execute_reply": "2025-03-30T23:25:28.465614Z"
    },
    "id": "hd4mVUukwOKZ",
    "papermill": {
     "duration": 0.552702,
     "end_time": "2025-03-30T23:25:28.469022",
     "exception": false,
     "start_time": "2025-03-30T23:25:27.916320",
     "status": "completed"
    },
    "tags": []
   },
   "outputs": [
    {
     "name": "stdout",
     "output_type": "stream",
     "text": [
      "```json\n",
      "{\n",
      "\"size\": \"large\",\n",
      "\"type\": \"normal\",\n",
      "\"ingredients\": [\"cheese\", \"pineapple\"]\n",
      "}\n",
      "```\n",
      "\n"
     ]
    }
   ],
   "source": [
    "few_shot_prompt = \"\"\"Parse a customer's pizza order into valid JSON:\n",
    "\n",
    "EXAMPLE:\n",
    "I want a small pizza with cheese, tomato sauce, and pepperoni.\n",
    "JSON Response:\n",
    "```\n",
    "{\n",
    "\"size\": \"small\",\n",
    "\"type\": \"normal\",\n",
    "\"ingredients\": [\"cheese\", \"tomato sauce\", \"pepperoni\"]\n",
    "}\n",
    "```\n",
    "\n",
    "EXAMPLE:\n",
    "Can I get a large pizza with tomato sauce, basil and mozzarella\n",
    "JSON Response:\n",
    "```\n",
    "{\n",
    "\"size\": \"large\",\n",
    "\"type\": \"normal\",\n",
    "\"ingredients\": [\"tomato sauce\", \"basil\", \"mozzarella\"]\n",
    "}\n",
    "```\n",
    "\n",
    "ORDER:\n",
    "\"\"\"\n",
    "\n",
    "customer_order = \"Give me a large with cheese & pineapple\"\n",
    "\n",
    "response = client.models.generate_content(\n",
    "    model='gemini-2.0-flash',\n",
    "    config=types.GenerateContentConfig(\n",
    "        temperature=0.1,\n",
    "        top_p=1,\n",
    "        max_output_tokens=250,\n",
    "    ),\n",
    "    contents=[few_shot_prompt, customer_order])\n",
    "\n",
    "print(response.text)"
   ]
  },
  {
   "cell_type": "markdown",
   "id": "4b5960ff",
   "metadata": {
    "id": "021293096f08",
    "papermill": {
     "duration": 0.013194,
     "end_time": "2025-03-30T23:25:28.495898",
     "exception": false,
     "start_time": "2025-03-30T23:25:28.482704",
     "status": "completed"
    },
    "tags": []
   },
   "source": [
    "#### JSON mode\n",
    "\n",
    "To provide control over the schema, and to ensure that you only receive JSON (with no other text or markdown), you can use the Gemini API's [JSON mode](https://github.com/google-gemini/cookbook/blob/main/quickstarts/JSON_mode.ipynb). This forces the model to constrain decoding, such that token selection is guided by the supplied schema."
   ]
  },
  {
   "cell_type": "code",
   "execution_count": 22,
   "id": "f485d64a",
   "metadata": {
    "execution": {
     "iopub.execute_input": "2025-03-30T23:25:28.524262Z",
     "iopub.status.busy": "2025-03-30T23:25:28.523846Z",
     "iopub.status.idle": "2025-03-30T23:25:29.363576Z",
     "shell.execute_reply": "2025-03-30T23:25:29.362506Z"
    },
    "id": "50fbf0260912",
    "papermill": {
     "duration": 0.85641,
     "end_time": "2025-03-30T23:25:29.365615",
     "exception": false,
     "start_time": "2025-03-30T23:25:28.509205",
     "status": "completed"
    },
    "tags": []
   },
   "outputs": [
    {
     "name": "stdout",
     "output_type": "stream",
     "text": [
      "{\n",
      "  \"size\": \"large\",\n",
      "  \"ingredients\": [\"apple\", \"chocolate\"],\n",
      "  \"type\": \"dessert\"\n",
      "}\n"
     ]
    }
   ],
   "source": [
    "import typing_extensions as typing\n",
    "\n",
    "class PizzaOrder(typing.TypedDict):\n",
    "    size: str\n",
    "    ingredients: list[str]\n",
    "    type: str\n",
    "\n",
    "\n",
    "response = client.models.generate_content(\n",
    "    model='gemini-2.0-flash',\n",
    "    config=types.GenerateContentConfig(\n",
    "        temperature=0.1,\n",
    "        response_mime_type=\"application/json\",\n",
    "        response_schema=PizzaOrder,\n",
    "    ),\n",
    "    contents=\"Can I have a large dessert pizza with apple and chocolate\")\n",
    "\n",
    "print(response.text)"
   ]
  },
  {
   "cell_type": "markdown",
   "id": "c7ffc1ab",
   "metadata": {
    "id": "4a93e338e57c",
    "papermill": {
     "duration": 0.013265,
     "end_time": "2025-03-30T23:25:29.392766",
     "exception": false,
     "start_time": "2025-03-30T23:25:29.379501",
     "status": "completed"
    },
    "tags": []
   },
   "source": [
    "### Chain of Thought (CoT)\n",
    "\n",
    "Direct prompting on LLMs can return answers quickly and (in terms of output token usage) efficiently, but they can be prone to hallucination. The answer may \"look\" correct (in terms of language and syntax) but is incorrect in terms of factuality and reasoning.\n",
    "\n",
    "Chain-of-Thought prompting is a technique where you instruct the model to output intermediate reasoning steps, and it typically gets better results, especially when combined with few-shot examples. It is worth noting that this technique doesn't completely eliminate hallucinations, and that it tends to cost more to run, due to the increased token count.\n",
    "\n",
    "Models like the Gemini family are trained to be \"chatty\" or \"thoughtful\" and will provide reasoning steps without prompting, so for this simple example you can ask the model to be more direct in the prompt to force a non-reasoning response. Try re-running this step if the model gets lucky and gets the answer correct on the first try."
   ]
  },
  {
   "cell_type": "code",
   "execution_count": 23,
   "id": "6cd30290",
   "metadata": {
    "execution": {
     "iopub.execute_input": "2025-03-30T23:25:29.421876Z",
     "iopub.status.busy": "2025-03-30T23:25:29.420971Z",
     "iopub.status.idle": "2025-03-30T23:25:29.876279Z",
     "shell.execute_reply": "2025-03-30T23:25:29.875336Z"
    },
    "id": "5715555db1c1",
    "papermill": {
     "duration": 0.471839,
     "end_time": "2025-03-30T23:25:29.878372",
     "exception": false,
     "start_time": "2025-03-30T23:25:29.406533",
     "status": "completed"
    },
    "tags": []
   },
   "outputs": [
    {
     "name": "stdout",
     "output_type": "stream",
     "text": [
      "48\n",
      "\n"
     ]
    }
   ],
   "source": [
    "prompt = \"\"\"When I was 4 years old, my partner was 3 times my age. Now, I\n",
    "am 20 years old. How old is my partner? Return the answer directly.\"\"\"\n",
    "\n",
    "response = client.models.generate_content(\n",
    "    model='gemini-2.0-flash',\n",
    "    contents=prompt)\n",
    "\n",
    "print(response.text)"
   ]
  },
  {
   "cell_type": "markdown",
   "id": "3ce576e0",
   "metadata": {
    "id": "e12b19677bfd",
    "papermill": {
     "duration": 0.013329,
     "end_time": "2025-03-30T23:25:29.905464",
     "exception": false,
     "start_time": "2025-03-30T23:25:29.892135",
     "status": "completed"
    },
    "tags": []
   },
   "source": [
    "Now try the same approach, but indicate to the model that it should \"think step by step\"."
   ]
  },
  {
   "cell_type": "code",
   "execution_count": 24,
   "id": "734e6f3e",
   "metadata": {
    "execution": {
     "iopub.execute_input": "2025-03-30T23:25:29.933949Z",
     "iopub.status.busy": "2025-03-30T23:25:29.933620Z",
     "iopub.status.idle": "2025-03-30T23:25:31.203299Z",
     "shell.execute_reply": "2025-03-30T23:25:31.202427Z"
    },
    "id": "ffd7536a481f",
    "papermill": {
     "duration": 1.286489,
     "end_time": "2025-03-30T23:25:31.205301",
     "exception": false,
     "start_time": "2025-03-30T23:25:29.918812",
     "status": "completed"
    },
    "tags": []
   },
   "outputs": [
    {
     "data": {
      "text/markdown": [
       "Here's how to solve the problem:\n",
       "\n",
       "1. **Find the age difference:** When you were 4, your partner was 3 times your age, meaning they were 4 * 3 = 12 years old.\n",
       "\n",
       "2. **Calculate the age difference:** The age difference between you and your partner is 12 - 4 = 8 years.\n",
       "\n",
       "3. **Determine the partner's current age:** Since the age difference remains constant, your partner is currently 20 + 8 = 28 years old.\n",
       "\n",
       "**Answer:** Your partner is 28 years old.\n"
      ],
      "text/plain": [
       "<IPython.core.display.Markdown object>"
      ]
     },
     "execution_count": 24,
     "metadata": {},
     "output_type": "execute_result"
    }
   ],
   "source": [
    "prompt = \"\"\"When I was 4 years old, my partner was 3 times my age. Now,\n",
    "I am 20 years old. How old is my partner? Let's think step by step.\"\"\"\n",
    "\n",
    "response = client.models.generate_content(\n",
    "    model='gemini-2.0-flash',\n",
    "    contents=prompt)\n",
    "\n",
    "Markdown(response.text)"
   ]
  },
  {
   "cell_type": "markdown",
   "id": "472b17af",
   "metadata": {
    "id": "oiLgBQJj0V53",
    "papermill": {
     "duration": 0.01348,
     "end_time": "2025-03-30T23:25:31.232762",
     "exception": false,
     "start_time": "2025-03-30T23:25:31.219282",
     "status": "completed"
    },
    "tags": []
   },
   "source": [
    "### ReAct: Reason and act\n",
    "\n",
    "In this example you will run a ReAct prompt directly in the Gemini API and perform the searching steps yourself. As this prompt follows a well-defined structure, there are frameworks available that wrap the prompt into easier-to-use APIs that make tool calls automatically, such as the LangChain example from the \"Prompting\" whitepaper.\n",
    "\n",
    "To try this out with the Wikipedia search engine, check out the [Searching Wikipedia with ReAct](https://github.com/google-gemini/cookbook/blob/main/examples/Search_Wikipedia_using_ReAct.ipynb) cookbook example.\n",
    "\n",
    "\n",
    "> Note: The prompt and in-context examples used here are from [https://github.com/ysymyth/ReAct](https://github.com/ysymyth/ReAct) which is published under an [MIT license](https://opensource.org/licenses/MIT), Copyright (c) 2023 Shunyu Yao.\n",
    "\n",
    "<table align=left>\n",
    "  <td>\n",
    "    <a target=\"_blank\" href=\"https://aistudio.google.com/prompts/18oo63Lwosd-bQ6Ay51uGogB3Wk3H8XMO\"><img src=\"https://ai.google.dev/site-assets/images/marketing/home/icon-ais.png\" style=\"height: 24px\" height=24/> Open in AI Studio</a>\n",
    "  </td>\n",
    "</table>\n"
   ]
  },
  {
   "cell_type": "code",
   "execution_count": 25,
   "id": "e5c4e707",
   "metadata": {
    "execution": {
     "iopub.execute_input": "2025-03-30T23:25:31.261807Z",
     "iopub.status.busy": "2025-03-30T23:25:31.261459Z",
     "iopub.status.idle": "2025-03-30T23:25:31.267460Z",
     "shell.execute_reply": "2025-03-30T23:25:31.266548Z"
    },
    "id": "cBgyNJ5z0VSs",
    "papermill": {
     "duration": 0.022913,
     "end_time": "2025-03-30T23:25:31.269263",
     "exception": false,
     "start_time": "2025-03-30T23:25:31.246350",
     "status": "completed"
    },
    "tags": []
   },
   "outputs": [],
   "source": [
    "model_instructions = \"\"\"\n",
    "Solve a question answering task with interleaving Thought, Action, Observation steps. Thought can reason about the current situation,\n",
    "Observation is understanding relevant information from an Action's output and Action can be one of three types:\n",
    " (1) <search>entity</search>, which searches the exact entity on Wikipedia and returns the first paragraph if it exists. If not, it\n",
    "     will return some similar entities to search and you can try to search the information from those topics.\n",
    " (2) <lookup>keyword</lookup>, which returns the next sentence containing keyword in the current context. This only does exact matches,\n",
    "     so keep your searches short.\n",
    " (3) <finish>answer</finish>, which returns the answer and finishes the task.\n",
    "\"\"\"\n",
    "\n",
    "example1 = \"\"\"Question\n",
    "Musician and satirist Allie Goertz wrote a song about the \"The Simpsons\" character Milhouse, who Matt Groening named after who?\n",
    "\n",
    "Thought 1\n",
    "The question simplifies to \"The Simpsons\" character Milhouse is named after who. I only need to search Milhouse and find who it is named after.\n",
    "\n",
    "Action 1\n",
    "<search>Milhouse</search>\n",
    "\n",
    "Observation 1\n",
    "Milhouse Mussolini Van Houten is a recurring character in the Fox animated television series The Simpsons voiced by Pamela Hayden and created by Matt Groening.\n",
    "\n",
    "Thought 2\n",
    "The paragraph does not tell who Milhouse is named after, maybe I can look up \"named after\".\n",
    "\n",
    "Action 2\n",
    "<lookup>named after</lookup>\n",
    "\n",
    "Observation 2\n",
    "Milhouse was named after U.S. president Richard Nixon, whose middle name was Milhous.\n",
    "\n",
    "Thought 3\n",
    "Milhouse was named after U.S. president Richard Nixon, so the answer is Richard Nixon.\n",
    "\n",
    "Action 3\n",
    "<finish>Richard Nixon</finish>\n",
    "\"\"\"\n",
    "\n",
    "example2 = \"\"\"Question\n",
    "What is the elevation range for the area that the eastern sector of the Colorado orogeny extends into?\n",
    "\n",
    "Thought 1\n",
    "I need to search Colorado orogeny, find the area that the eastern sector of the Colorado orogeny extends into, then find the elevation range of the area.\n",
    "\n",
    "Action 1\n",
    "<search>Colorado orogeny</search>\n",
    "\n",
    "Observation 1\n",
    "The Colorado orogeny was an episode of mountain building (an orogeny) in Colorado and surrounding areas.\n",
    "\n",
    "Thought 2\n",
    "It does not mention the eastern sector. So I need to look up eastern sector.\n",
    "\n",
    "Action 2\n",
    "<lookup>eastern sector</lookup>\n",
    "\n",
    "Observation 2\n",
    "The eastern sector extends into the High Plains and is called the Central Plains orogeny.\n",
    "\n",
    "Thought 3\n",
    "The eastern sector of Colorado orogeny extends into the High Plains. So I need to search High Plains and find its elevation range.\n",
    "\n",
    "Action 3\n",
    "<search>High Plains</search>\n",
    "\n",
    "Observation 3\n",
    "High Plains refers to one of two distinct land regions\n",
    "\n",
    "Thought 4\n",
    "I need to instead search High Plains (United States).\n",
    "\n",
    "Action 4\n",
    "<search>High Plains (United States)</search>\n",
    "\n",
    "Observation 4\n",
    "The High Plains are a subregion of the Great Plains. From east to west, the High Plains rise in elevation from around 1,800 to 7,000 ft (550 to 2,130m).\n",
    "\n",
    "Thought 5\n",
    "High Plains rise in elevation from around 1,800 to 7,000 ft, so the answer is 1,800 to 7,000 ft.\n",
    "\n",
    "Action 5\n",
    "<finish>1,800 to 7,000 ft</finish>\n",
    "\"\"\"\n",
    "\n",
    "# Come up with more examples yourself, or take a look through https://github.com/ysymyth/ReAct/"
   ]
  },
  {
   "cell_type": "markdown",
   "id": "dd076faf",
   "metadata": {
    "id": "C3wbfstjTgey",
    "papermill": {
     "duration": 0.013278,
     "end_time": "2025-03-30T23:25:31.296137",
     "exception": false,
     "start_time": "2025-03-30T23:25:31.282859",
     "status": "completed"
    },
    "tags": []
   },
   "source": [
    "To capture a single step at a time, while ignoring any hallucinated Observation steps, you will use `stop_sequences` to end the generation process. The steps are `Thought`, `Action`, `Observation`, in that order."
   ]
  },
  {
   "cell_type": "code",
   "execution_count": 26,
   "id": "b7e6516b",
   "metadata": {
    "execution": {
     "iopub.execute_input": "2025-03-30T23:25:31.324399Z",
     "iopub.status.busy": "2025-03-30T23:25:31.324037Z",
     "iopub.status.idle": "2025-03-30T23:25:31.908979Z",
     "shell.execute_reply": "2025-03-30T23:25:31.907800Z"
    },
    "id": "8mxrXRkRTdXm",
    "papermill": {
     "duration": 0.601449,
     "end_time": "2025-03-30T23:25:31.911026",
     "exception": false,
     "start_time": "2025-03-30T23:25:31.309577",
     "status": "completed"
    },
    "tags": []
   },
   "outputs": [
    {
     "name": "stdout",
     "output_type": "stream",
     "text": [
      "Thought 1\n",
      "I need to find the Transformers NLP paper and then identify the youngest author listed on it.\n",
      "\n",
      "Action 1\n",
      "<search>Transformers NLP paper</search>\n",
      "\n"
     ]
    }
   ],
   "source": [
    "question = \"\"\"Question\n",
    "Who was the youngest author listed on the transformers NLP paper?\n",
    "\"\"\"\n",
    "\n",
    "# You will perform the Action; so generate up to, but not including, the Observation.\n",
    "react_config = types.GenerateContentConfig(\n",
    "    stop_sequences=[\"\\nObservation\"],\n",
    "    system_instruction=model_instructions + example1 + example2,\n",
    ")\n",
    "\n",
    "# Create a chat that has the model instructions and examples pre-seeded.\n",
    "react_chat = client.chats.create(\n",
    "    model='gemini-2.0-flash',\n",
    "    config=react_config,\n",
    ")\n",
    "\n",
    "resp = react_chat.send_message(question)\n",
    "print(resp.text)"
   ]
  },
  {
   "cell_type": "markdown",
   "id": "1a37a4ee",
   "metadata": {
    "id": "aW2PIdLbVv3l",
    "papermill": {
     "duration": 0.013354,
     "end_time": "2025-03-30T23:25:31.938153",
     "exception": false,
     "start_time": "2025-03-30T23:25:31.924799",
     "status": "completed"
    },
    "tags": []
   },
   "source": [
    "Now you can perform this research yourself and supply it back to the model."
   ]
  },
  {
   "cell_type": "code",
   "execution_count": 27,
   "id": "59d5da8f",
   "metadata": {
    "execution": {
     "iopub.execute_input": "2025-03-30T23:25:31.966917Z",
     "iopub.status.busy": "2025-03-30T23:25:31.966171Z",
     "iopub.status.idle": "2025-03-30T23:25:32.890634Z",
     "shell.execute_reply": "2025-03-30T23:25:32.889700Z"
    },
    "id": "mLMc0DZaV9g2",
    "papermill": {
     "duration": 0.941058,
     "end_time": "2025-03-30T23:25:32.892691",
     "exception": false,
     "start_time": "2025-03-30T23:25:31.951633",
     "status": "completed"
    },
    "tags": []
   },
   "outputs": [
    {
     "name": "stdout",
     "output_type": "stream",
     "text": [
      "Thought 2\n",
      "The authors listed are Ashish Vaswani, Noam Shazeer, Niki Parmar, Jakob Uszkoreit, Llion Jones, Aidan N. Gomez, Lukasz Kaiser, and Illia Polosukhin. I need to find the youngest among them. Since I cannot determine age from the names, I will search for each author individually.\n",
      "\n",
      "Action 2\n",
      "<search>Ashish Vaswani</search>\n",
      "\n"
     ]
    }
   ],
   "source": [
    "observation = \"\"\"Observation 1\n",
    "[1706.03762] Attention Is All You Need\n",
    "Ashish Vaswani, Noam Shazeer, Niki Parmar, Jakob Uszkoreit, Llion Jones, Aidan N. Gomez, Lukasz Kaiser, Illia Polosukhin\n",
    "We propose a new simple network architecture, the Transformer, based solely on attention mechanisms, dispensing with recurrence and convolutions entirely.\n",
    "\"\"\"\n",
    "resp = react_chat.send_message(observation)\n",
    "print(resp.text)"
   ]
  },
  {
   "cell_type": "markdown",
   "id": "73861d67",
   "metadata": {
    "id": "bo0tzf4nX6dA",
    "papermill": {
     "duration": 0.013493,
     "end_time": "2025-03-30T23:25:32.920181",
     "exception": false,
     "start_time": "2025-03-30T23:25:32.906688",
     "status": "completed"
    },
    "tags": []
   },
   "source": [
    "This process repeats until the `<finish>` action is reached. You can continue running this yourself if you like, or try the [Wikipedia example](https://github.com/google-gemini/cookbook/blob/main/examples/Search_Wikipedia_using_ReAct.ipynb) to see a fully automated ReAct system at work."
   ]
  },
  {
   "cell_type": "markdown",
   "id": "b5a99a77",
   "metadata": {
    "papermill": {
     "duration": 0.013463,
     "end_time": "2025-03-30T23:25:32.947142",
     "exception": false,
     "start_time": "2025-03-30T23:25:32.933679",
     "status": "completed"
    },
    "tags": []
   },
   "source": [
    "## Thinking mode\n",
    "\n",
    "The experiemental Gemini Flash 2.0 \"Thinking\" model has been trained to generate the \"thinking process\" the model goes through as part of its response. As a result, the Flash Thinking model is capable of stronger reasoning capabilities in its responses.\n",
    "\n",
    "Using a \"thinking mode\" model can provide you with high-quality responses without needing specialised prompting like the previous approaches. One reason this technique is effective is that you induce the model to generate relevant information (\"brainstorming\", or \"thoughts\") that is then used as part of the context in which the final response is generated.\n",
    "\n",
    "Note that when you use the API, you get the final response from the model, but the thoughts are not captured. To see the intermediate thoughts, try out [the thinking mode model in AI Studio](https://aistudio.google.com/prompts/new_chat?model=gemini-2.0-flash-thinking-exp-01-21).\n",
    "\n",
    "<table align=left>\n",
    "  <td>\n",
    "    <a target=\"_blank\" href=\"https://aistudio.google.com/prompts/1Z991SV7lZZZqioOiqIUPv9a9ix-ws4zk\"><img src=\"https://ai.google.dev/site-assets/images/marketing/home/icon-ais.png\" style=\"height: 24px\" height=24/> Open in AI Studio</a>\n",
    "  </td>\n",
    "</table>"
   ]
  },
  {
   "cell_type": "code",
   "execution_count": 28,
   "id": "dc567299",
   "metadata": {
    "execution": {
     "iopub.execute_input": "2025-03-30T23:25:32.975530Z",
     "iopub.status.busy": "2025-03-30T23:25:32.975204Z",
     "iopub.status.idle": "2025-03-30T23:25:58.290058Z",
     "shell.execute_reply": "2025-03-30T23:25:58.288957Z"
    },
    "papermill": {
     "duration": 25.33138,
     "end_time": "2025-03-30T23:25:58.291960",
     "exception": false,
     "start_time": "2025-03-30T23:25:32.960580",
     "status": "completed"
    },
    "tags": []
   },
   "outputs": [
    {
     "data": {
      "text/markdown": [
       "The youngest author listed on the \"Attention is All You Need\" paper, which introduced the Transformer architecture and is highly influential in NLP, is **Aidan N. Gomez**.\n",
       "\n",
       "Here's why:\n",
       "\n",
       "* **Aidan N. Gomez** was a PhD student at the University of Toronto at the time of the paper's publication in 2017. PhD students are generally younger than established researchers at companies like Google.\n",
       "* The other authors were primarily from Google Brain and were more senior researchers:\n",
       "    * **Ashish Vaswani, Noam Shazeer, Niki Parmar, Jakob Uszkoreit, Llion Jones, Łukasz Kaiser, and Illia Polosukhin** were all associated with Google Brain at the time.\n",
       "\n",
       "While we don't have exact birthdates for all authors readily available, the academic status of Aidan N. Gomez as a PhD student strongly suggests he was the youngest among the co-authors. PhD students are typically in their early to mid-twenties. The researchers from Google Brain would have been more established in their careers and likely older.\n",
       "\n",
       "Therefore, **Aidan N. Gomez** is the most likely youngest author of the \"Attention is All You Need\" paper."
      ],
      "text/plain": [
       "<IPython.core.display.Markdown object>"
      ]
     },
     "execution_count": 28,
     "metadata": {},
     "output_type": "execute_result"
    }
   ],
   "source": [
    "import io\n",
    "from IPython.display import Markdown, clear_output\n",
    "\n",
    "\n",
    "response = client.models.generate_content_stream(\n",
    "    model='gemini-2.0-flash-thinking-exp',\n",
    "    contents='Who was the youngest author listed on the transformers NLP paper?',\n",
    ")\n",
    "\n",
    "buf = io.StringIO()\n",
    "for chunk in response:\n",
    "    buf.write(chunk.text)\n",
    "    # Display the response as it is streamed\n",
    "    print(chunk.text, end='')\n",
    "\n",
    "# And then render the finished response as formatted markdown.\n",
    "clear_output()\n",
    "Markdown(buf.getvalue())"
   ]
  },
  {
   "cell_type": "markdown",
   "id": "d1352a13",
   "metadata": {
    "id": "jPiZ_eIIaVPt",
    "papermill": {
     "duration": 0.013651,
     "end_time": "2025-03-30T23:25:58.319711",
     "exception": false,
     "start_time": "2025-03-30T23:25:58.306060",
     "status": "completed"
    },
    "tags": []
   },
   "source": [
    "## Code prompting"
   ]
  },
  {
   "cell_type": "markdown",
   "id": "9cc03e74",
   "metadata": {
    "id": "ZinKamwXeR6C",
    "papermill": {
     "duration": 0.013486,
     "end_time": "2025-03-30T23:25:58.346849",
     "exception": false,
     "start_time": "2025-03-30T23:25:58.333363",
     "status": "completed"
    },
    "tags": []
   },
   "source": [
    "### Generating code\n",
    "\n",
    "The Gemini family of models can be used to generate code, configuration and scripts. Generating code can be helpful when learning to code, learning a new language or for rapidly generating a first draft.\n",
    "\n",
    "It's important to be aware that since LLMs can make mistakes, and can repeat training data, it's essential to read and test your code first, and comply with any relevant licenses.\n",
    "\n",
    "<table align=left>\n",
    "  <td>\n",
    "    <a target=\"_blank\" href=\"https://aistudio.google.com/prompts/1YX71JGtzDjXQkgdes8bP6i3oH5lCRKxv\"><img src=\"https://ai.google.dev/site-assets/images/marketing/home/icon-ais.png\" style=\"height: 24px\" height=24/> Open in AI Studio</a>\n",
    "  </td>\n",
    "</table>"
   ]
  },
  {
   "cell_type": "code",
   "execution_count": 29,
   "id": "d95ffb46",
   "metadata": {
    "execution": {
     "iopub.execute_input": "2025-03-30T23:25:58.376817Z",
     "iopub.status.busy": "2025-03-30T23:25:58.375952Z",
     "iopub.status.idle": "2025-03-30T23:25:58.903022Z",
     "shell.execute_reply": "2025-03-30T23:25:58.902022Z"
    },
    "id": "fOQP9pqmeUO1",
    "papermill": {
     "duration": 0.545017,
     "end_time": "2025-03-30T23:25:58.905619",
     "exception": false,
     "start_time": "2025-03-30T23:25:58.360602",
     "status": "completed"
    },
    "tags": []
   },
   "outputs": [
    {
     "data": {
      "text/markdown": [
       "```python\n",
       "def factorial(n):\n",
       "    if n == 0:\n",
       "        return 1\n",
       "    else:\n",
       "        return n * factorial(n-1)\n",
       "```"
      ],
      "text/plain": [
       "<IPython.core.display.Markdown object>"
      ]
     },
     "execution_count": 29,
     "metadata": {},
     "output_type": "execute_result"
    }
   ],
   "source": [
    "# The Gemini models love to talk, so it helps to specify they stick to the code if that\n",
    "# is all that you want.\n",
    "code_prompt = \"\"\"\n",
    "Write a Python function to calculate the factorial of a number. No explanation, provide only the code.\n",
    "\"\"\"\n",
    "\n",
    "response = client.models.generate_content(\n",
    "    model='gemini-2.0-flash',\n",
    "    config=types.GenerateContentConfig(\n",
    "        temperature=1,\n",
    "        top_p=1,\n",
    "        max_output_tokens=1024,\n",
    "    ),\n",
    "    contents=code_prompt)\n",
    "\n",
    "Markdown(response.text)"
   ]
  },
  {
   "cell_type": "markdown",
   "id": "fd07cc57",
   "metadata": {
    "id": "wlBMWSFhgVRQ",
    "papermill": {
     "duration": 0.013893,
     "end_time": "2025-03-30T23:25:58.942052",
     "exception": false,
     "start_time": "2025-03-30T23:25:58.928159",
     "status": "completed"
    },
    "tags": []
   },
   "source": [
    "### Code execution\n",
    "\n",
    "The Gemini API can automatically run generated code too, and will return the output.\n",
    "\n",
    "<table align=left>\n",
    "  <td>\n",
    "    <a target=\"_blank\" href=\"https://aistudio.google.com/prompts/11veFr_VYEwBWcLkhNLr-maCG0G8sS_7Z\"><img src=\"https://ai.google.dev/site-assets/images/marketing/home/icon-ais.png\" style=\"height: 24px\" height=24/> Open in AI Studio</a>\n",
    "  </td>\n",
    "</table>"
   ]
  },
  {
   "cell_type": "code",
   "execution_count": 30,
   "id": "30b0527b",
   "metadata": {
    "execution": {
     "iopub.execute_input": "2025-03-30T23:25:58.972039Z",
     "iopub.status.busy": "2025-03-30T23:25:58.971091Z",
     "iopub.status.idle": "2025-03-30T23:26:00.745697Z",
     "shell.execute_reply": "2025-03-30T23:26:00.744640Z"
    },
    "id": "jT3OfWYfhjRL",
    "papermill": {
     "duration": 1.79195,
     "end_time": "2025-03-30T23:26:00.747797",
     "exception": false,
     "start_time": "2025-03-30T23:25:58.955847",
     "status": "completed"
    },
    "tags": []
   },
   "outputs": [
    {
     "name": "stdout",
     "output_type": "stream",
     "text": [
      "{'text': 'Okay, I understand the request. First, I will generate the first 14 '\n",
      "         'odd prime numbers. Remember that a prime number is a number greater '\n",
      "         'than 1 that has only two factors: 1 and itself. Also, I need to '\n",
      "         'exclude the prime number 2, as I need the odd prime numbers. Then, '\n",
      "         \"I'll calculate the sum of those numbers.\\n\"\n",
      "         '\\n'}\n",
      "-----\n",
      "{'executable_code': {'code': 'primes = [3, 5, 7, 11, 13, 17, 19, 23, 29, 31, '\n",
      "                             '37, 41, 43, 47]\\n'\n",
      "                             'sum_of_primes = sum(primes)\\n'\n",
      "                             \"print(f'{primes=}')\\n\"\n",
      "                             \"print(f'{sum_of_primes=}')\\n\",\n",
      "                     'language': 'PYTHON'}}\n",
      "-----\n",
      "{'code_execution_result': {'outcome': 'OUTCOME_OK',\n",
      "                           'output': 'primes=[3, 5, 7, 11, 13, 17, 19, 23, 29, '\n",
      "                                     '31, 37, 41, 43, 47]\\n'\n",
      "                                     'sum_of_primes=326\\n'}}\n",
      "-----\n",
      "{'text': 'The first 14 odd prime numbers are 3, 5, 7, 11, 13, 17, 19, 23, 29, '\n",
      "         '31, 37, 41, 43, and 47. Their sum is 326.\\n'}\n",
      "-----\n"
     ]
    }
   ],
   "source": [
    "from pprint import pprint\n",
    "\n",
    "config = types.GenerateContentConfig(\n",
    "    tools=[types.Tool(code_execution=types.ToolCodeExecution())],\n",
    ")\n",
    "\n",
    "code_exec_prompt = \"\"\"\n",
    "Generate the first 14 odd prime numbers, then calculate their sum.\n",
    "\"\"\"\n",
    "\n",
    "response = client.models.generate_content(\n",
    "    model='gemini-2.0-flash',\n",
    "    config=config,\n",
    "    contents=code_exec_prompt)\n",
    "\n",
    "for part in response.candidates[0].content.parts:\n",
    "  pprint(part.to_json_dict())\n",
    "  print(\"-----\")"
   ]
  },
  {
   "cell_type": "markdown",
   "id": "2e1778f8",
   "metadata": {
    "id": "ZspT1GSkjG6d",
    "papermill": {
     "duration": 0.013915,
     "end_time": "2025-03-30T23:26:00.776109",
     "exception": false,
     "start_time": "2025-03-30T23:26:00.762194",
     "status": "completed"
    },
    "tags": []
   },
   "source": [
    "This response contains multiple parts, including an opening and closing text part that represent regular responses, an `executable_code` part that represents generated code and a `code_execution_result` part that represents the results from running the generated code.\n",
    "\n",
    "You can explore them individually."
   ]
  },
  {
   "cell_type": "code",
   "execution_count": 31,
   "id": "f30be5f2",
   "metadata": {
    "execution": {
     "iopub.execute_input": "2025-03-30T23:26:00.805375Z",
     "iopub.status.busy": "2025-03-30T23:26:00.805039Z",
     "iopub.status.idle": "2025-03-30T23:26:00.816598Z",
     "shell.execute_reply": "2025-03-30T23:26:00.815720Z"
    },
    "papermill": {
     "duration": 0.028059,
     "end_time": "2025-03-30T23:26:00.818256",
     "exception": false,
     "start_time": "2025-03-30T23:26:00.790197",
     "status": "completed"
    },
    "tags": []
   },
   "outputs": [
    {
     "data": {
      "text/markdown": [
       "Okay, I understand the request. First, I will generate the first 14 odd prime numbers. Remember that a prime number is a number greater than 1 that has only two factors: 1 and itself. Also, I need to exclude the prime number 2, as I need the odd prime numbers. Then, I'll calculate the sum of those numbers.\n",
       "\n"
      ],
      "text/plain": [
       "<IPython.core.display.Markdown object>"
      ]
     },
     "metadata": {},
     "output_type": "display_data"
    },
    {
     "data": {
      "text/markdown": [
       "```python\n",
       "primes = [3, 5, 7, 11, 13, 17, 19, 23, 29, 31, 37, 41, 43, 47]\n",
       "sum_of_primes = sum(primes)\n",
       "print(f'{primes=}')\n",
       "print(f'{sum_of_primes=}')\n",
       "\n",
       "```"
      ],
      "text/plain": [
       "<IPython.core.display.Markdown object>"
      ]
     },
     "metadata": {},
     "output_type": "display_data"
    },
    {
     "data": {
      "text/markdown": [
       "```\n",
       "primes=[3, 5, 7, 11, 13, 17, 19, 23, 29, 31, 37, 41, 43, 47]\n",
       "sum_of_primes=326\n",
       "\n",
       "```"
      ],
      "text/plain": [
       "<IPython.core.display.Markdown object>"
      ]
     },
     "metadata": {},
     "output_type": "display_data"
    },
    {
     "data": {
      "text/markdown": [
       "The first 14 odd prime numbers are 3, 5, 7, 11, 13, 17, 19, 23, 29, 31, 37, 41, 43, and 47. Their sum is 326.\n"
      ],
      "text/plain": [
       "<IPython.core.display.Markdown object>"
      ]
     },
     "metadata": {},
     "output_type": "display_data"
    }
   ],
   "source": [
    "for part in response.candidates[0].content.parts:\n",
    "    if part.text:\n",
    "        display(Markdown(part.text))\n",
    "    elif part.executable_code:\n",
    "        display(Markdown(f'```python\\n{part.executable_code.code}\\n```'))\n",
    "    elif part.code_execution_result:\n",
    "        if part.code_execution_result.outcome != 'OUTCOME_OK':\n",
    "            display(Markdown(f'## Status {part.code_execution_result.outcome}'))\n",
    "\n",
    "        display(Markdown(f'```\\n{part.code_execution_result.output}\\n```'))"
   ]
  },
  {
   "cell_type": "markdown",
   "id": "3cfc2a04",
   "metadata": {
    "id": "1gUX8QzCj4d5",
    "papermill": {
     "duration": 0.014103,
     "end_time": "2025-03-30T23:26:00.846764",
     "exception": false,
     "start_time": "2025-03-30T23:26:00.832661",
     "status": "completed"
    },
    "tags": []
   },
   "source": [
    "### Explaining code\n",
    "\n",
    "The Gemini family of models can explain code to you too. In this example, you pass a [bash script](https://github.com/magicmonty/bash-git-prompt) and ask some questions.\n",
    "\n",
    "<table align=left>\n",
    "  <td>\n",
    "    <a target=\"_blank\" href=\"https://aistudio.google.com/prompts/1N7LGzWzCYieyOf_7bAG4plrmkpDNmUyb\"><img src=\"https://ai.google.dev/site-assets/images/marketing/home/icon-ais.png\" style=\"height: 24px\" height=24/> Open in AI Studio</a>\n",
    "  </td>\n",
    "</table>"
   ]
  },
  {
   "cell_type": "code",
   "execution_count": 32,
   "id": "c5b86076",
   "metadata": {
    "execution": {
     "iopub.execute_input": "2025-03-30T23:26:00.876522Z",
     "iopub.status.busy": "2025-03-30T23:26:00.876204Z",
     "iopub.status.idle": "2025-03-30T23:26:03.578788Z",
     "shell.execute_reply": "2025-03-30T23:26:03.577863Z"
    },
    "id": "7_jPMMoxkIEb",
    "papermill": {
     "duration": 2.719874,
     "end_time": "2025-03-30T23:26:03.580833",
     "exception": false,
     "start_time": "2025-03-30T23:26:00.860959",
     "status": "completed"
    },
    "tags": []
   },
   "outputs": [
    {
     "data": {
      "text/markdown": [
       "This file is a **Bash script that enhances your command-line prompt with information about the current Git repository**. It provides features like showing the current branch, the status of your working directory (staged, unstaged changes), whether you are ahead or behind the remote, and more.\n",
       "\n",
       "Here's a breakdown:\n",
       "\n",
       "*   **What it is:** It's a script designed to be sourced (executed within your current shell) to modify your `PS1` (primary prompt string) in Bash or Zsh.\n",
       "*   **Why you'd use it:**  If you work with Git repositories frequently, this script provides at-a-glance information about the state of your repository directly in your command prompt. This makes it easier to track changes, stay aware of your branch, and generally be more efficient when working with Git.\n",
       "\n",
       "Key features include:\n",
       "\n",
       "*   **Git Status Information:**  Displays branch name, changes to be committed (staged), uncommitted changes, untracked files, and other relevant Git status details.\n",
       "*   **Customization:**  Allows you to customize the colors, symbols, and the information displayed in the prompt.\n",
       "*   **Themes:**  Supports themes to easily change the look and feel of the prompt.\n",
       "*   **Asynchronous Fetching:**  Can fetch remote Git status in the background to avoid slowing down the prompt.\n",
       "*   **Virtual Environment Support**: Detects virtual environments (like Python's `venv` or `conda`) and shows them in the prompt.\n",
       "\n",
       "In essence, it's a visual aid to keep you informed about your Git repository status without having to run `git status` manually all the time.\n"
      ],
      "text/plain": [
       "<IPython.core.display.Markdown object>"
      ]
     },
     "execution_count": 32,
     "metadata": {},
     "output_type": "execute_result"
    }
   ],
   "source": [
    "file_contents = !curl https://raw.githubusercontent.com/magicmonty/bash-git-prompt/refs/heads/master/gitprompt.sh\n",
    "\n",
    "explain_prompt = f\"\"\"\n",
    "Please explain what this file does at a very high level. What is it, and why would I use it?\n",
    "\n",
    "```\n",
    "{file_contents}\n",
    "```\n",
    "\"\"\"\n",
    "\n",
    "response = client.models.generate_content(\n",
    "    model='gemini-2.0-flash',\n",
    "    contents=explain_prompt)\n",
    "\n",
    "Markdown(response.text)"
   ]
  },
  {
   "cell_type": "markdown",
   "id": "b5b797e1",
   "metadata": {
    "id": "2a8266d97ce5",
    "papermill": {
     "duration": 0.015064,
     "end_time": "2025-03-30T23:26:03.611116",
     "exception": false,
     "start_time": "2025-03-30T23:26:03.596052",
     "status": "completed"
    },
    "tags": []
   },
   "source": [
    "## Learn more\n",
    "\n",
    "To learn more about prompting in depth:\n",
    "\n",
    "* Check out the whitepaper issued with today's content,\n",
    "* Try out the apps listed at the top of this notebook ([TextFX](https://textfx.withgoogle.com/), [SQL Talk](https://sql-talk-r5gdynozbq-uc.a.run.app/) and [NotebookLM](https://notebooklm.google/)),\n",
    "* Read the [Introduction to Prompting](https://ai.google.dev/gemini-api/docs/prompting-intro) from the Gemini API docs,\n",
    "* Explore the Gemini API's [prompt gallery](https://ai.google.dev/gemini-api/prompts) and try them out in AI Studio,\n",
    "* Check out the Gemini API cookbook for [inspirational examples](https://github.com/google-gemini/cookbook/blob/main/examples/) and [educational quickstarts](https://github.com/google-gemini/cookbook/blob/main/quickstarts/).\n",
    "\n",
    "Be sure to check out the codelabs on day 3 too, where you will explore some more advanced prompting with code execution.\n",
    "\n",
    "And please share anything exciting you have tried in the Discord!\n",
    "\n",
    "*- [Mark McD](https://linktr.ee/markmcd)*"
   ]
  }
 ],
 "metadata": {
  "colab": {
   "name": "day-1-prompting.ipynb",
   "toc_visible": true
  },
  "kaggle": {
   "accelerator": "none",
   "dataSources": [],
   "dockerImageVersionId": 30786,
   "isGpuEnabled": false,
   "isInternetEnabled": true,
   "language": "python",
   "sourceType": "notebook"
  },
  "kernelspec": {
   "display_name": "Python 3",
   "language": "python",
   "name": "python3"
  },
  "language_info": {
   "codemirror_mode": {
    "name": "ipython",
    "version": 3
   },
   "file_extension": ".py",
   "mimetype": "text/x-python",
   "name": "python",
   "nbconvert_exporter": "python",
   "pygments_lexer": "ipython3",
   "version": "3.10.14"
  },
  "papermill": {
   "default_parameters": {},
   "duration": 163.446826,
   "end_time": "2025-03-30T23:26:04.144192",
   "environment_variables": {},
   "exception": null,
   "input_path": "__notebook__.ipynb",
   "output_path": "__notebook__.ipynb",
   "parameters": {},
   "start_time": "2025-03-30T23:23:20.697366",
   "version": "2.6.0"
  }
 },
 "nbformat": 4,
 "nbformat_minor": 5
}
