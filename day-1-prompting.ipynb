{
 "cells": [
  {
   "cell_type": "markdown",
   "id": "718350fd",
   "metadata": {
    "id": "jkxRSYjzA1oX",
    "papermill": {
     "duration": 0.009788,
     "end_time": "2025-03-31T00:10:48.117788",
     "exception": false,
     "start_time": "2025-03-31T00:10:48.108000",
     "status": "completed"
    },
    "tags": []
   },
   "source": [
    "##### Copyright 2025 Google LLC."
   ]
  },
  {
   "cell_type": "code",
   "execution_count": 1,
   "id": "ee317e0f",
   "metadata": {
    "cellView": "form",
    "execution": {
     "iopub.execute_input": "2025-03-31T00:10:48.136623Z",
     "iopub.status.busy": "2025-03-31T00:10:48.136336Z",
     "iopub.status.idle": "2025-03-31T00:10:48.140524Z",
     "shell.execute_reply": "2025-03-31T00:10:48.139886Z"
    },
    "id": "5u5OZ2ShA3BA",
    "jupyter": {
     "source_hidden": true
    },
    "papermill": {
     "duration": 0.015709,
     "end_time": "2025-03-31T00:10:48.141803",
     "exception": false,
     "start_time": "2025-03-31T00:10:48.126094",
     "status": "completed"
    },
    "tags": []
   },
   "outputs": [],
   "source": [
    "# @title Licensed under the Apache License, Version 2.0 (the \"License\");\n",
    "# you may not use this file except in compliance with the License.\n",
    "# You may obtain a copy of the License at\n",
    "#\n",
    "# https://www.apache.org/licenses/LICENSE-2.0\n",
    "#\n",
    "# Unless required by applicable law or agreed to in writing, software\n",
    "# distributed under the License is distributed on an \"AS IS\" BASIS,\n",
    "# WITHOUT WARRANTIES OR CONDITIONS OF ANY KIND, either express or implied.\n",
    "# See the License for the specific language governing permissions and\n",
    "# limitations under the License."
   ]
  },
  {
   "cell_type": "markdown",
   "id": "89d9d4c0",
   "metadata": {
    "id": "csNPnkuCobmG",
    "papermill": {
     "duration": 0.008121,
     "end_time": "2025-03-31T00:10:48.158577",
     "exception": false,
     "start_time": "2025-03-31T00:10:48.150456",
     "status": "completed"
    },
    "tags": []
   },
   "source": [
    "# Day 1 - Prompting\n",
    "\n",
    "Welcome to the Kaggle 5-day Generative AI course!\n",
    "\n",
    "This notebook will show you how to get started with the Gemini API and walk you through some of the example prompts and techniques that you can also read about in the Prompting whitepaper. You don't need to read the whitepaper to use this notebook, but the papers will give you some theoretical context and background to complement this interactive notebook.\n",
    "\n",
    "\n",
    "## Before you begin\n",
    "\n",
    "In this notebook, you'll start exploring prompting using the Python SDK and AI Studio. For some inspiration, you might enjoy exploring some apps that have been built using the Gemini family of models. Here are a few that we like, and we think you will too.\n",
    "\n",
    "* [TextFX](https://textfx.withgoogle.com/) is a suite of AI-powered tools for rappers, made in collaboration with Lupe Fiasco,\n",
    "* [SQL Talk](https://sql-talk-r5gdynozbq-uc.a.run.app/) shows how you can talk directly to a database using the Gemini API,\n",
    "* [NotebookLM](https://notebooklm.google/) uses Gemini models to build your own personal AI research assistant.\n",
    "\n",
    "\n",
    "## For help\n",
    "\n",
    "**Common issues are covered in the [FAQ and troubleshooting guide](https://www.kaggle.com/code/markishere/day-0-troubleshooting-and-faqs).**\n",
    "\n",
    "## New for Gemini 2.0!\n",
    "\n",
    "This course material was first launched in November 2024. The AI and LLM space is moving incredibly fast, so we have made some updates to use the latest models and capabilities.\n",
    "\n",
    "* These codelabs have been updated to use the Gemini 2.0 family of models.\n",
    "* The Python SDK has been updated from `google-generativeai` to the new, unified [`google-genai`](https://pypi.org/project/google-genai) SDK.\n",
    "  * This new SDK works with both the developer Gemini API as well as Google Cloud Vertex AI, and switching is [as simple as changing some fields](https://pypi.org/project/google-genai/#:~:text=.Client%28%29-,API%20Selection,-By%20default%2C%20the).\n",
    "* New model capabilities have been added to the relevant codelabs, such as \"thinking mode\" in this lab.\n",
    "* Day 1 includes a new [Evaluation codelab](https://www.kaggle.com/code/markishere/day-1-evaluation-and-structured-output)."
   ]
  },
  {
   "attachments": {
    "d8299597-f771-4195-ac94-1d6f658ef2bd.png": {
     "image/png": "[encoded data removed]"
    },
    "ed25e346-2e15-4ab0-bc22-503eb1845e66.png": {
     "image/png": "[encoded data removed]"
    }
   },
   "cell_type": "markdown",
   "id": "a5c031b7",
   "metadata": {
    "id": "f00ea7c99e44",
    "papermill": {
     "duration": 0.007922,
     "end_time": "2025-03-31T00:10:48.174681",
     "exception": false,
     "start_time": "2025-03-31T00:10:48.166759",
     "status": "completed"
    },
    "tags": []
   },
   "source": [
    "## Get started with Kaggle notebooks\n",
    "\n",
    "If this is your first time using a Kaggle notebook, welcome! You can read about how to use Kaggle notebooks [in the docs](https://www.kaggle.com/docs/notebooks).\n",
    "\n",
    "First, you will need to phone verify your account at kaggle.com/settings.\n",
    "\n",
    "![](https://storage.googleapis.com/kaggle-media/Images/5dgai_0.png)"
   ]
  },
  {
   "cell_type": "markdown",
   "id": "385acb64",
   "metadata": {
    "papermill": {
     "duration": 0.007954,
     "end_time": "2025-03-31T00:10:48.190834",
     "exception": false,
     "start_time": "2025-03-31T00:10:48.182880",
     "status": "completed"
    },
    "tags": []
   },
   "source": [
    "To run this notebook, as well as the others in this course, you will need to make a copy, or fork, the notebook. Look for the `Copy and Edit` button in the top-right, and **click it** to make an editable, private copy of the notebook. It should look like this one:\n",
    "\n",
    "![Copy and Edit button](https://storage.googleapis.com/kaggle-media/Images/5gdai_sc_1.png)\n",
    "\n",
    "Your copy will now have a ▶️ **Run** button next to each code cell that you can press to execute that cell. These notebooks are expected to be run in order from top-to-bottom, but you are encouraged to add new cells, run your own code and explore. If you get stuck, you can try the `Factory reset` option in the `Run` menu, or head back to the original notebook and make a fresh copy.\n",
    "\n",
    "![Run cell button](https://storage.googleapis.com/kaggle-media/Images/5gdai_sc_2.png)\n",
    "\n",
    "### Problems?\n",
    "\n",
    "If you have any problems, head over to the [Kaggle Discord](https://discord.com/invite/kaggle), find the [`#5dgai-q-and-a` channel](https://discord.com/channels/1101210829807956100/1303438695143178251) and ask for help."
   ]
  },
  {
   "cell_type": "markdown",
   "id": "8989f146",
   "metadata": {
    "id": "ExkOXcPxtTb5",
    "papermill": {
     "duration": 0.007929,
     "end_time": "2025-03-31T00:10:48.206895",
     "exception": false,
     "start_time": "2025-03-31T00:10:48.198966",
     "status": "completed"
    },
    "tags": []
   },
   "source": [
    "## Get started with the Gemini API\n",
    "\n",
    "All of the exercises in this notebook will use the [Gemini API](https://ai.google.dev/gemini-api/) by way of the [Python SDK](https://pypi.org/project/google-genai/). Each of these prompts can be accessed directly in [Google AI Studio](https://aistudio.google.com/) too, so if you would rather use a web interface and skip the code for this activity, look for the <img src=\"https://ai.google.dev/site-assets/images/marketing/home/icon-ais.png\" style=\"height: 24px\" height=24/> AI Studio link on each prompt."
   ]
  },
  {
   "cell_type": "markdown",
   "id": "09578fe6",
   "metadata": {
    "papermill": {
     "duration": 0.007944,
     "end_time": "2025-03-31T00:10:48.222921",
     "exception": false,
     "start_time": "2025-03-31T00:10:48.214977",
     "status": "completed"
    },
    "tags": []
   },
   "source": [
    "Next, you will need to add your API key to your Kaggle Notebook as a Kaggle User Secret.\n",
    "\n",
    "![](https://storage.googleapis.com/kaggle-media/Images/5dgai_1.png)\n",
    "![](https://storage.googleapis.com/kaggle-media/Images/5dgai_2.png)\n",
    "![](https://storage.googleapis.com/kaggle-media/Images/5dgai_3.png)\n",
    "![](https://storage.googleapis.com/kaggle-media/Images/5dgai_4.png)"
   ]
  },
  {
   "cell_type": "markdown",
   "id": "e0219993",
   "metadata": {
    "id": "UAjUV3BsvFXQ",
    "papermill": {
     "duration": 0.007867,
     "end_time": "2025-03-31T00:10:48.238844",
     "exception": false,
     "start_time": "2025-03-31T00:10:48.230977",
     "status": "completed"
    },
    "tags": []
   },
   "source": [
    "### Install the SDK"
   ]
  },
  {
   "cell_type": "code",
   "execution_count": 2,
   "id": "52318848",
   "metadata": {
    "execution": {
     "iopub.execute_input": "2025-03-31T00:10:48.256187Z",
     "iopub.status.busy": "2025-03-31T00:10:48.255886Z",
     "iopub.status.idle": "2025-03-31T00:11:00.889295Z",
     "shell.execute_reply": "2025-03-31T00:11:00.888336Z"
    },
    "id": "NzwzJFU9LqkJ",
    "papermill": {
     "duration": 12.644385,
     "end_time": "2025-03-31T00:11:00.891296",
     "exception": false,
     "start_time": "2025-03-31T00:10:48.246911",
     "status": "completed"
    },
    "tags": []
   },
   "outputs": [],
   "source": [
    "!pip uninstall -qy jupyterlab  # Remove unused packages from Kaggle's base image that conflict\n",
    "!pip install -U -q \"google-genai==1.7.0\""
   ]
  },
  {
   "cell_type": "markdown",
   "id": "25f1fdb3",
   "metadata": {
    "papermill": {
     "duration": 0.00802,
     "end_time": "2025-03-31T00:11:00.907986",
     "exception": false,
     "start_time": "2025-03-31T00:11:00.899966",
     "status": "completed"
    },
    "tags": []
   },
   "source": [
    "Import the SDK and some helpers for rendering the output."
   ]
  },
  {
   "cell_type": "code",
   "execution_count": 3,
   "id": "d2bcab34",
   "metadata": {
    "execution": {
     "iopub.execute_input": "2025-03-31T00:11:00.925755Z",
     "iopub.status.busy": "2025-03-31T00:11:00.925428Z",
     "iopub.status.idle": "2025-03-31T00:11:01.814052Z",
     "shell.execute_reply": "2025-03-31T00:11:01.813272Z"
    },
    "id": "5DwxYIRavMST",
    "papermill": {
     "duration": 0.899535,
     "end_time": "2025-03-31T00:11:01.815721",
     "exception": false,
     "start_time": "2025-03-31T00:11:00.916186",
     "status": "completed"
    },
    "tags": []
   },
   "outputs": [],
   "source": [
    "from google import genai\n",
    "from google.genai import types\n",
    "\n",
    "from IPython.display import HTML, Markdown, display"
   ]
  },
  {
   "cell_type": "markdown",
   "id": "6681400e",
   "metadata": {
    "papermill": {
     "duration": 0.009352,
     "end_time": "2025-03-31T00:11:01.833652",
     "exception": false,
     "start_time": "2025-03-31T00:11:01.824300",
     "status": "completed"
    },
    "tags": []
   },
   "source": [
    "Set up a retry helper. This allows you to \"Run all\" without worrying about per-minute quota."
   ]
  },
  {
   "cell_type": "code",
   "execution_count": 4,
   "id": "80f62526",
   "metadata": {
    "execution": {
     "iopub.execute_input": "2025-03-31T00:11:01.851560Z",
     "iopub.status.busy": "2025-03-31T00:11:01.851145Z",
     "iopub.status.idle": "2025-03-31T00:11:01.991294Z",
     "shell.execute_reply": "2025-03-31T00:11:01.990654Z"
    },
    "papermill": {
     "duration": 0.150902,
     "end_time": "2025-03-31T00:11:01.992961",
     "exception": false,
     "start_time": "2025-03-31T00:11:01.842059",
     "status": "completed"
    },
    "tags": []
   },
   "outputs": [],
   "source": [
    "from google.api_core import retry\n",
    "\n",
    "\n",
    "is_retriable = lambda e: (isinstance(e, genai.errors.APIError) and e.code in {429, 503})\n",
    "\n",
    "genai.models.Models.generate_content = retry.Retry(\n",
    "    predicate=is_retriable)(genai.models.Models.generate_content)"
   ]
  },
  {
   "cell_type": "markdown",
   "id": "00f1d01e",
   "metadata": {
    "id": "DNEt2BCOvOJ1",
    "papermill": {
     "duration": 0.007822,
     "end_time": "2025-03-31T00:11:02.009202",
     "exception": false,
     "start_time": "2025-03-31T00:11:02.001380",
     "status": "completed"
    },
    "tags": []
   },
   "source": [
    "### Set up your API key\n",
    "\n",
    "To run the following cell, your API key must be stored it in a [Kaggle secret](https://www.kaggle.com/discussions/product-feedback/114053) named `GOOGLE_API_KEY`.\n",
    "\n",
    "If you don't already have an API key, you can grab one from [AI Studio](https://aistudio.google.com/app/apikey). You can find [detailed instructions in the docs](https://ai.google.dev/gemini-api/docs/api-key).\n",
    "\n",
    "To make the key available through Kaggle secrets, choose `Secrets` from the `Add-ons` menu and follow the instructions to add your key or enable it for this notebook."
   ]
  },
  {
   "cell_type": "code",
   "execution_count": 5,
   "id": "4d1e954e",
   "metadata": {
    "execution": {
     "iopub.execute_input": "2025-03-31T00:11:02.027045Z",
     "iopub.status.busy": "2025-03-31T00:11:02.026562Z",
     "iopub.status.idle": "2025-03-31T00:11:02.221762Z",
     "shell.execute_reply": "2025-03-31T00:11:02.220965Z"
    },
    "id": "SHl0bkPCvayd",
    "papermill": {
     "duration": 0.206385,
     "end_time": "2025-03-31T00:11:02.223578",
     "exception": false,
     "start_time": "2025-03-31T00:11:02.017193",
     "status": "completed"
    },
    "tags": []
   },
   "outputs": [],
   "source": [
    "from kaggle_secrets import UserSecretsClient\n",
    "\n",
    "GOOGLE_API_KEY = UserSecretsClient().get_secret(\"GOOGLE_API_KEY\")"
   ]
  },
  {
   "attachments": {
    "d2be9aab-2527-48af-b6cf-1f06cdd7c3a7.png": {
     "image/png": "[encoded data removed]"
    }
   },
   "cell_type": "markdown",
   "id": "c480d058",
   "metadata": {
    "id": "4e720472fd86",
    "papermill": {
     "duration": 0.007822,
     "end_time": "2025-03-31T00:11:02.239967",
     "exception": false,
     "start_time": "2025-03-31T00:11:02.232145",
     "status": "completed"
    },
    "tags": []
   },
   "source": [
    "If you received an error response along the lines of `No user secrets exist for kernel id ...`, then you need to add your API key via `Add-ons`, `Secrets` **and** enable it.\n",
    "\n",
    "![Screenshot of the checkbox to enable GOOGLE_API_KEY secret](https://storage.googleapis.com/kaggle-media/Images/5gdai_sc_3.png)"
   ]
  },
  {
   "cell_type": "markdown",
   "id": "f58b34ab",
   "metadata": {
    "id": "H_YXCYIKvyZJ",
    "papermill": {
     "duration": 0.007872,
     "end_time": "2025-03-31T00:11:02.256202",
     "exception": false,
     "start_time": "2025-03-31T00:11:02.248330",
     "status": "completed"
    },
    "tags": []
   },
   "source": [
    "### Run your first prompt\n",
    "\n",
    "In this step, you will test that your API key is set up correctly by making a request.\n",
    "\n",
    "The Python SDK uses a [`Client` object](https://googleapis.github.io/python-genai/genai.html#genai.client.Client) to make requests to the API. The client lets you control which back-end to use (between the Gemini API and Vertex AI) and handles authentication (the API key).\n",
    "\n",
    "The `gemini-2.0-flash` model has been selected here.\n",
    "\n",
    "**Note**: If you see a `TransportError` on this step, you may need to **🔁 Factory reset** the notebook one time."
   ]
  },
  {
   "cell_type": "code",
   "execution_count": 6,
   "id": "54ff7c78",
   "metadata": {
    "execution": {
     "iopub.execute_input": "2025-03-31T00:11:02.273853Z",
     "iopub.status.busy": "2025-03-31T00:11:02.273348Z",
     "iopub.status.idle": "2025-03-31T00:11:04.544811Z",
     "shell.execute_reply": "2025-03-31T00:11:04.544009Z"
    },
    "id": "BV1o0PmcvyJF",
    "papermill": {
     "duration": 2.282524,
     "end_time": "2025-03-31T00:11:04.546800",
     "exception": false,
     "start_time": "2025-03-31T00:11:02.264276",
     "status": "completed"
    },
    "tags": []
   },
   "outputs": [
    {
     "name": "stdout",
     "output_type": "stream",
     "text": [
      "Okay, imagine you have a really, really smart parrot. This parrot isn't just repeating what you say, it's learning!\n",
      "\n",
      "**Regular Parrot:** You say \"Polly want a cracker?\" and Polly says \"Polly want a cracker!\" That's just copying.\n",
      "\n",
      "**AI Parrot:** You show the parrot lots and lots of pictures of crackers, and you tell it \"cracker!\" for each one. Then, you show it a *new* picture of a cracker it's never seen before.  If the parrot says \"cracker!\" it's learned what a cracker *is*, not just repeated the word.\n",
      "\n",
      "That's kind of like AI!\n",
      "\n",
      "*   **We feed it lots of information (like pictures of crackers).** This is called \"data.\"\n",
      "*   **It looks for patterns in the data (like crackers are usually round and crunchy).** This is called \"learning.\"\n",
      "*   **Then, it can use those patterns to do things on its own (like recognize a new cracker or even write a story about crackers!).**\n",
      "\n",
      "So, AI is like giving computers the ability to learn from information and do smart things, like:\n",
      "\n",
      "*   **Understand what you say to your phone (like Siri or Alexa).**\n",
      "*   **Help doctors find illnesses faster.**\n",
      "*   **Play games really well (like chess).**\n",
      "*   **Help cars drive themselves.**\n",
      "\n",
      "It's not magic, it's just a lot of learning! And just like you learn new things as you get older, AI is always learning too, and getting smarter all the time!\n",
      "\n",
      "Think of it like a really, really smart and helpful robot friend!\n",
      "\n"
     ]
    }
   ],
   "source": [
    "client = genai.Client(api_key=GOOGLE_API_KEY)\n",
    "\n",
    "response = client.models.generate_content(\n",
    "    model=\"gemini-2.0-flash\",\n",
    "    contents=\"Explain AI to me like I'm a kid.\")\n",
    "\n",
    "print(response.text)"
   ]
  },
  {
   "cell_type": "markdown",
   "id": "ab57a3cd",
   "metadata": {
    "id": "f60ed9d8ae41",
    "papermill": {
     "duration": 0.008438,
     "end_time": "2025-03-31T00:11:04.564346",
     "exception": false,
     "start_time": "2025-03-31T00:11:04.555908",
     "status": "completed"
    },
    "tags": []
   },
   "source": [
    "The response often comes back in markdown format, which you can render directly in this notebook."
   ]
  },
  {
   "cell_type": "code",
   "execution_count": 7,
   "id": "4840d68b",
   "metadata": {
    "execution": {
     "iopub.execute_input": "2025-03-31T00:11:04.582774Z",
     "iopub.status.busy": "2025-03-31T00:11:04.582468Z",
     "iopub.status.idle": "2025-03-31T00:11:04.588371Z",
     "shell.execute_reply": "2025-03-31T00:11:04.587572Z"
    },
    "id": "c933e5e460a5",
    "papermill": {
     "duration": 0.016969,
     "end_time": "2025-03-31T00:11:04.590002",
     "exception": false,
     "start_time": "2025-03-31T00:11:04.573033",
     "status": "completed"
    },
    "tags": []
   },
   "outputs": [
    {
     "data": {
      "text/markdown": [
       "Okay, imagine you have a really, really smart parrot. This parrot isn't just repeating what you say, it's learning!\n",
       "\n",
       "**Regular Parrot:** You say \"Polly want a cracker?\" and Polly says \"Polly want a cracker!\" That's just copying.\n",
       "\n",
       "**AI Parrot:** You show the parrot lots and lots of pictures of crackers, and you tell it \"cracker!\" for each one. Then, you show it a *new* picture of a cracker it's never seen before.  If the parrot says \"cracker!\" it's learned what a cracker *is*, not just repeated the word.\n",
       "\n",
       "That's kind of like AI!\n",
       "\n",
       "*   **We feed it lots of information (like pictures of crackers).** This is called \"data.\"\n",
       "*   **It looks for patterns in the data (like crackers are usually round and crunchy).** This is called \"learning.\"\n",
       "*   **Then, it can use those patterns to do things on its own (like recognize a new cracker or even write a story about crackers!).**\n",
       "\n",
       "So, AI is like giving computers the ability to learn from information and do smart things, like:\n",
       "\n",
       "*   **Understand what you say to your phone (like Siri or Alexa).**\n",
       "*   **Help doctors find illnesses faster.**\n",
       "*   **Play games really well (like chess).**\n",
       "*   **Help cars drive themselves.**\n",
       "\n",
       "It's not magic, it's just a lot of learning! And just like you learn new things as you get older, AI is always learning too, and getting smarter all the time!\n",
       "\n",
       "Think of it like a really, really smart and helpful robot friend!\n"
      ],
      "text/plain": [
       "<IPython.core.display.Markdown object>"
      ]
     },
     "execution_count": 7,
     "metadata": {},
     "output_type": "execute_result"
    }
   ],
   "source": [
    "Markdown(response.text)"
   ]
  },
  {
   "cell_type": "markdown",
   "id": "a6cdf5f4",
   "metadata": {
    "id": "byx0pT9ZMW2Q",
    "papermill": {
     "duration": 0.008178,
     "end_time": "2025-03-31T00:11:04.607266",
     "exception": false,
     "start_time": "2025-03-31T00:11:04.599088",
     "status": "completed"
    },
    "tags": []
   },
   "source": [
    "### Start a chat\n",
    "\n",
    "The previous example uses a single-turn, text-in/text-out structure, but you can also set up a multi-turn chat structure too."
   ]
  },
  {
   "cell_type": "code",
   "execution_count": 8,
   "id": "18617606",
   "metadata": {
    "execution": {
     "iopub.execute_input": "2025-03-31T00:11:04.624940Z",
     "iopub.status.busy": "2025-03-31T00:11:04.624654Z",
     "iopub.status.idle": "2025-03-31T00:11:05.131257Z",
     "shell.execute_reply": "2025-03-31T00:11:05.130463Z"
    },
    "id": "lV_S5ZL5MidD",
    "papermill": {
     "duration": 0.517517,
     "end_time": "2025-03-31T00:11:05.133046",
     "exception": false,
     "start_time": "2025-03-31T00:11:04.615529",
     "status": "completed"
    },
    "tags": []
   },
   "outputs": [
    {
     "name": "stdout",
     "output_type": "stream",
     "text": [
      "It's nice to meet you, Zlork! I'm glad to be able to chat with you. How can I help you today?\n",
      "\n"
     ]
    }
   ],
   "source": [
    "chat = client.chats.create(model='gemini-2.0-flash', history=[])\n",
    "response = chat.send_message('Hello! My name is Zlork.')\n",
    "print(response.text)"
   ]
  },
  {
   "cell_type": "code",
   "execution_count": 9,
   "id": "390c3fc7",
   "metadata": {
    "execution": {
     "iopub.execute_input": "2025-03-31T00:11:05.151024Z",
     "iopub.status.busy": "2025-03-31T00:11:05.150767Z",
     "iopub.status.idle": "2025-03-31T00:11:06.433279Z",
     "shell.execute_reply": "2025-03-31T00:11:06.432376Z"
    },
    "id": "7b0372c3c64a",
    "papermill": {
     "duration": 1.293201,
     "end_time": "2025-03-31T00:11:06.434877",
     "exception": false,
     "start_time": "2025-03-31T00:11:05.141676",
     "status": "completed"
    },
    "tags": []
   },
   "outputs": [
    {
     "name": "stdout",
     "output_type": "stream",
     "text": [
      "Okay, here's an interesting fact about dinosaurs:\n",
      "\n",
      "**Some dinosaurs had feathers!**\n",
      "\n",
      "It's not just birds that are descended from dinosaurs, but many non-avian dinosaurs actually possessed feathers. These feathers weren't necessarily for flight, but more likely for insulation, display, or even camouflage.\n",
      "\n",
      "*   **Evidence:** Fossil discoveries, particularly in China, have revealed incredibly well-preserved dinosaurs with fossilized feathers or feather-like structures.\n",
      "*   **Examples:** *Sinosauropteryx* is one of the earliest known feathered dinosaurs. Other examples include *Microraptor* (a four-winged dinosaur) and *Tyrannosaurus rex* (evidence suggests it may have had some feathering, at least in its juvenile stages).\n",
      "\n",
      "So, the next time you picture a dinosaur, don't just think of scaly skin. Imagine a vibrant, feathered creature!\n",
      "\n",
      "Is there anything else you'd like to know about dinosaurs? I have lots more facts!\n",
      "\n"
     ]
    }
   ],
   "source": [
    "response = chat.send_message('Can you tell me something interesting about dinosaurs?')\n",
    "print(response.text)"
   ]
  },
  {
   "cell_type": "markdown",
   "id": "fdfe1948",
   "metadata": {
    "papermill": {
     "duration": 0.009118,
     "end_time": "2025-03-31T00:11:06.454304",
     "exception": false,
     "start_time": "2025-03-31T00:11:06.445186",
     "status": "completed"
    },
    "tags": []
   },
   "source": [
    "While you have the `chat` object alive, the conversation state\n",
    "persists. Confirm that by asking if it knows the user's name."
   ]
  },
  {
   "cell_type": "code",
   "execution_count": 10,
   "id": "b8c1b48b",
   "metadata": {
    "execution": {
     "iopub.execute_input": "2025-03-31T00:11:06.472207Z",
     "iopub.status.busy": "2025-03-31T00:11:06.471916Z",
     "iopub.status.idle": "2025-03-31T00:11:06.824300Z",
     "shell.execute_reply": "2025-03-31T00:11:06.823416Z"
    },
    "id": "d3f9591392a7",
    "papermill": {
     "duration": 0.363547,
     "end_time": "2025-03-31T00:11:06.826157",
     "exception": false,
     "start_time": "2025-03-31T00:11:06.462610",
     "status": "completed"
    },
    "tags": []
   },
   "outputs": [
    {
     "name": "stdout",
     "output_type": "stream",
     "text": [
      "Yes, your name is Zlork. I remembered!\n",
      "\n"
     ]
    }
   ],
   "source": [
    "response = chat.send_message('Do you remember what my name is?')\n",
    "print(response.text)"
   ]
  },
  {
   "cell_type": "markdown",
   "id": "3d04a4a5",
   "metadata": {
    "id": "2KAjpr1200sW",
    "papermill": {
     "duration": 0.00915,
     "end_time": "2025-03-31T00:11:06.844779",
     "exception": false,
     "start_time": "2025-03-31T00:11:06.835629",
     "status": "completed"
    },
    "tags": []
   },
   "source": [
    "### Choose a model\n",
    "\n",
    "The Gemini API provides access to a number of models from the Gemini model family. Read about the available models and their capabilities on the [model overview page](https://ai.google.dev/gemini-api/docs/models/gemini).\n",
    "\n",
    "In this step you'll use the API to list all of the available models."
   ]
  },
  {
   "cell_type": "code",
   "execution_count": 11,
   "id": "46136e78",
   "metadata": {
    "execution": {
     "iopub.execute_input": "2025-03-31T00:11:06.863906Z",
     "iopub.status.busy": "2025-03-31T00:11:06.863577Z",
     "iopub.status.idle": "2025-03-31T00:11:06.891754Z",
     "shell.execute_reply": "2025-03-31T00:11:06.890486Z"
    },
    "id": "uUUZa2uq2jDm",
    "papermill": {
     "duration": 0.039583,
     "end_time": "2025-03-31T00:11:06.893285",
     "exception": false,
     "start_time": "2025-03-31T00:11:06.853702",
     "status": "completed"
    },
    "tags": []
   },
   "outputs": [
    {
     "name": "stdout",
     "output_type": "stream",
     "text": [
      "models/chat-bison-001\n",
      "models/text-bison-001\n",
      "models/embedding-gecko-001\n",
      "models/gemini-1.0-pro-vision-latest\n",
      "models/gemini-pro-vision\n",
      "models/gemini-1.5-pro-latest\n",
      "models/gemini-1.5-pro-001\n",
      "models/gemini-1.5-pro-002\n",
      "models/gemini-1.5-pro\n",
      "models/gemini-1.5-flash-latest\n",
      "models/gemini-1.5-flash-001\n",
      "models/gemini-1.5-flash-001-tuning\n",
      "models/gemini-1.5-flash\n",
      "models/gemini-1.5-flash-002\n",
      "models/gemini-1.5-flash-8b\n",
      "models/gemini-1.5-flash-8b-001\n",
      "models/gemini-1.5-flash-8b-latest\n",
      "models/gemini-1.5-flash-8b-exp-0827\n",
      "models/gemini-1.5-flash-8b-exp-0924\n",
      "models/gemini-2.5-pro-exp-03-25\n",
      "models/gemini-2.0-flash-exp\n",
      "models/gemini-2.0-flash\n",
      "models/gemini-2.0-flash-001\n",
      "models/gemini-2.0-flash-exp-image-generation\n",
      "models/gemini-2.0-flash-lite-001\n",
      "models/gemini-2.0-flash-lite\n",
      "models/gemini-2.0-flash-lite-preview-02-05\n",
      "models/gemini-2.0-flash-lite-preview\n",
      "models/gemini-2.0-pro-exp\n",
      "models/gemini-2.0-pro-exp-02-05\n",
      "models/gemini-exp-1206\n",
      "models/gemini-2.0-flash-thinking-exp-01-21\n",
      "models/gemini-2.0-flash-thinking-exp\n",
      "models/gemini-2.0-flash-thinking-exp-1219\n",
      "models/learnlm-1.5-pro-experimental\n",
      "models/gemma-3-27b-it\n",
      "models/embedding-001\n",
      "models/text-embedding-004\n",
      "models/gemini-embedding-exp-03-07\n",
      "models/gemini-embedding-exp\n",
      "models/aqa\n",
      "models/imagen-3.0-generate-002\n"
     ]
    }
   ],
   "source": [
    "for model in client.models.list():\n",
    "  print(model.name)"
   ]
  },
  {
   "cell_type": "markdown",
   "id": "bba3b83d",
   "metadata": {
    "id": "rN49kSI54R1v",
    "papermill": {
     "duration": 0.008153,
     "end_time": "2025-03-31T00:11:06.910216",
     "exception": false,
     "start_time": "2025-03-31T00:11:06.902063",
     "status": "completed"
    },
    "tags": []
   },
   "source": [
    "The [`models.list`](https://ai.google.dev/api/models#method:-models.list) response also returns additional information about the model's capabilities, like the token limits and supported parameters."
   ]
  },
  {
   "cell_type": "code",
   "execution_count": 12,
   "id": "5e64b9bd",
   "metadata": {
    "execution": {
     "iopub.execute_input": "2025-03-31T00:11:06.928264Z",
     "iopub.status.busy": "2025-03-31T00:11:06.927996Z",
     "iopub.status.idle": "2025-03-31T00:11:06.951248Z",
     "shell.execute_reply": "2025-03-31T00:11:06.950596Z"
    },
    "id": "k7JJ1K6j4Rl8",
    "papermill": {
     "duration": 0.034212,
     "end_time": "2025-03-31T00:11:06.952792",
     "exception": false,
     "start_time": "2025-03-31T00:11:06.918580",
     "status": "completed"
    },
    "tags": []
   },
   "outputs": [
    {
     "name": "stdout",
     "output_type": "stream",
     "text": [
      "{'description': 'Gemini 2.0 Flash',\n",
      " 'display_name': 'Gemini 2.0 Flash',\n",
      " 'input_token_limit': 1048576,\n",
      " 'name': 'models/gemini-2.0-flash',\n",
      " 'output_token_limit': 8192,\n",
      " 'supported_actions': ['generateContent', 'countTokens'],\n",
      " 'tuned_model_info': {},\n",
      " 'version': '2.0'}\n"
     ]
    }
   ],
   "source": [
    "from pprint import pprint\n",
    "\n",
    "for model in client.models.list():\n",
    "  if model.name == 'models/gemini-2.0-flash':\n",
    "    pprint(model.to_json_dict())\n",
    "    break"
   ]
  },
  {
   "cell_type": "markdown",
   "id": "5375a829",
   "metadata": {
    "id": "5rU_UBlZdooM",
    "papermill": {
     "duration": 0.008482,
     "end_time": "2025-03-31T00:11:06.970519",
     "exception": false,
     "start_time": "2025-03-31T00:11:06.962037",
     "status": "completed"
    },
    "tags": []
   },
   "source": [
    "## Explore generation parameters\n",
    "\n"
   ]
  },
  {
   "cell_type": "markdown",
   "id": "5a42b26f",
   "metadata": {
    "id": "G7NfEizeipbW",
    "papermill": {
     "duration": 0.008332,
     "end_time": "2025-03-31T00:11:06.987300",
     "exception": false,
     "start_time": "2025-03-31T00:11:06.978968",
     "status": "completed"
    },
    "tags": []
   },
   "source": [
    "### Output length\n",
    "\n",
    "When generating text with an LLM, the output length affects cost and performance. Generating more tokens increases computation, leading to higher energy consumption, latency, and cost.\n",
    "\n",
    "To stop the model from generating tokens past a limit, you can specify the `max_output_tokens` parameter when using the Gemini API. Specifying this parameter does not influence the generation of the output tokens, so the output will not become more stylistically or textually succinct, but it will stop generating tokens once the specified length is reached. Prompt engineering may be required to generate a more complete output for your given limit."
   ]
  },
  {
   "cell_type": "code",
   "execution_count": 13,
   "id": "26e31862",
   "metadata": {
    "execution": {
     "iopub.execute_input": "2025-03-31T00:11:07.005636Z",
     "iopub.status.busy": "2025-03-31T00:11:07.005368Z",
     "iopub.status.idle": "2025-03-31T00:11:08.439115Z",
     "shell.execute_reply": "2025-03-31T00:11:08.438211Z"
    },
    "id": "qVf23JsIi9ma",
    "papermill": {
     "duration": 1.444743,
     "end_time": "2025-03-31T00:11:08.440652",
     "exception": false,
     "start_time": "2025-03-31T00:11:06.995909",
     "status": "completed"
    },
    "tags": []
   },
   "outputs": [
    {
     "name": "stdout",
     "output_type": "stream",
     "text": [
      "## The Humble Olive: A Cornerstone of Modern Society\n",
      "\n",
      "The olive, that small, unassuming fruit, holds a significance far exceeding its size. From its historical roots as a symbol of peace and prosperity to its modern role in cuisine, health, and even sustainable energy, the olive and its derived products are woven into the fabric of modern society. Its enduring presence speaks to the remarkable versatility and enduring appeal of this ancient fruit, making it not merely a foodstuff, but a crucial component of a balanced and forward-thinking global community.\n",
      "\n",
      "Historically, the olive has been intrinsically linked to the development of civilization. Originating in the Mediterranean basin, the olive tree, *Olea europaea*, has been cultivated for over 6,000 years. Its fruit provided sustenance, its oil fuelled lamps and served as a valuable commodity for trade, and its branches symbolized peace, victory, and resilience. In ancient Greece, olive oil was considered sacred and integral to daily life, used for anointing athletes\n"
     ]
    }
   ],
   "source": [
    "from google.genai import types\n",
    "\n",
    "short_config = types.GenerateContentConfig(max_output_tokens=200)\n",
    "\n",
    "response = client.models.generate_content(\n",
    "    model='gemini-2.0-flash',\n",
    "    config=short_config,\n",
    "    contents='Write a 1000 word essay on the importance of olives in modern society.')\n",
    "\n",
    "print(response.text)"
   ]
  },
  {
   "cell_type": "code",
   "execution_count": 14,
   "id": "6d8f819c",
   "metadata": {
    "execution": {
     "iopub.execute_input": "2025-03-31T00:11:08.459244Z",
     "iopub.status.busy": "2025-03-31T00:11:08.459032Z",
     "iopub.status.idle": "2025-03-31T00:11:09.472275Z",
     "shell.execute_reply": "2025-03-31T00:11:09.471189Z"
    },
    "id": "W-3kR2F5kdMR",
    "papermill": {
     "duration": 1.023947,
     "end_time": "2025-03-31T00:11:09.473752",
     "exception": false,
     "start_time": "2025-03-31T00:11:08.449805",
     "status": "completed"
    },
    "tags": []
   },
   "outputs": [
    {
     "name": "stdout",
     "output_type": "stream",
     "text": [
      "From ancient groves to modern plate,\n",
      "A humble fruit, both small and great.\n",
      "In oil it flows, a golden stream,\n",
      "Enhancing flavors, like a dream.\n",
      "\n",
      "On pizzas spread, in salads bright,\n",
      "A salty burst, a welcome sight.\n",
      "From tapenades to simple snacks,\n",
      "Olives give joy, there's no turning back.\n",
      "\n",
      "A symbol of peace, a healthy choice,\n",
      "In modern life, it lends its voice.\n",
      "A tiny fruit with power untold,\n",
      "The olive's story, forever bold.\n",
      "\n"
     ]
    }
   ],
   "source": [
    "response = client.models.generate_content(\n",
    "    model='gemini-2.0-flash',\n",
    "    config=short_config,\n",
    "    contents='Write a short poem on the importance of olives in modern society.')\n",
    "\n",
    "print(response.text)"
   ]
  },
  {
   "cell_type": "markdown",
   "id": "7df34683",
   "metadata": {
    "id": "3ZhDSLB6lqqB",
    "papermill": {
     "duration": 0.008688,
     "end_time": "2025-03-31T00:11:09.491801",
     "exception": false,
     "start_time": "2025-03-31T00:11:09.483113",
     "status": "completed"
    },
    "tags": []
   },
   "source": [
    "Explore with your own prompts. Try a prompt with a restrictive output limit and then adjust the prompt to work within that limit."
   ]
  },
  {
   "cell_type": "markdown",
   "id": "c1ba94a3",
   "metadata": {
    "id": "alx-WaAvir_9",
    "papermill": {
     "duration": 0.008518,
     "end_time": "2025-03-31T00:11:09.509019",
     "exception": false,
     "start_time": "2025-03-31T00:11:09.500501",
     "status": "completed"
    },
    "tags": []
   },
   "source": [
    "### Temperature\n",
    "\n",
    "Temperature controls the degree of randomness in token selection. Higher temperatures result in a higher number of candidate tokens from which the next output token is selected, and can produce more diverse results, while lower temperatures have the opposite effect, such that a temperature of 0 results in greedy decoding, selecting the most probable token at each step.\n",
    "\n",
    "Temperature doesn't provide any guarantees of randomness, but it can be used to \"nudge\" the output somewhat."
   ]
  },
  {
   "cell_type": "code",
   "execution_count": 15,
   "id": "2eec3308",
   "metadata": {
    "execution": {
     "iopub.execute_input": "2025-03-31T00:11:09.527772Z",
     "iopub.status.busy": "2025-03-31T00:11:09.527461Z",
     "iopub.status.idle": "2025-03-31T00:11:10.832682Z",
     "shell.execute_reply": "2025-03-31T00:11:10.831844Z"
    },
    "id": "SHraGMzqnZqt",
    "papermill": {
     "duration": 1.316526,
     "end_time": "2025-03-31T00:11:10.834188",
     "exception": false,
     "start_time": "2025-03-31T00:11:09.517662",
     "status": "completed"
    },
    "tags": []
   },
   "outputs": [
    {
     "name": "stdout",
     "output_type": "stream",
     "text": [
      "Turquoise\n",
      " -------------------------\n",
      "Orange.\n",
      " -------------------------\n",
      "Purple\n",
      " -------------------------\n",
      "Cerulean\n",
      " -------------------------\n",
      "Magenta\n",
      " -------------------------\n"
     ]
    }
   ],
   "source": [
    "high_temp_config = types.GenerateContentConfig(temperature=2.0)\n",
    "\n",
    "\n",
    "for _ in range(5):\n",
    "  response = client.models.generate_content(\n",
    "      model='gemini-2.0-flash',\n",
    "      config=high_temp_config,\n",
    "      contents='Pick a random colour... (respond in a single word)')\n",
    "\n",
    "  if response.text:\n",
    "    print(response.text, '-' * 25)"
   ]
  },
  {
   "cell_type": "markdown",
   "id": "5e409420",
   "metadata": {
    "id": "z3J4pCTuof7e",
    "papermill": {
     "duration": 0.008792,
     "end_time": "2025-03-31T00:11:10.852237",
     "exception": false,
     "start_time": "2025-03-31T00:11:10.843445",
     "status": "completed"
    },
    "tags": []
   },
   "source": [
    "Now try the same prompt with temperature set to zero. Note that the output is not completely deterministic, as other parameters affect token selection, but the results will tend to be more stable."
   ]
  },
  {
   "cell_type": "code",
   "execution_count": 16,
   "id": "91578b32",
   "metadata": {
    "execution": {
     "iopub.execute_input": "2025-03-31T00:11:10.871305Z",
     "iopub.status.busy": "2025-03-31T00:11:10.871018Z",
     "iopub.status.idle": "2025-03-31T00:11:12.142129Z",
     "shell.execute_reply": "2025-03-31T00:11:12.141176Z"
    },
    "id": "clymkWv-PfUZ",
    "papermill": {
     "duration": 1.282343,
     "end_time": "2025-03-31T00:11:12.143491",
     "exception": false,
     "start_time": "2025-03-31T00:11:10.861148",
     "status": "completed"
    },
    "tags": []
   },
   "outputs": [
    {
     "name": "stdout",
     "output_type": "stream",
     "text": [
      "Azure\n",
      " -------------------------\n",
      "Azure\n",
      " -------------------------\n",
      "Azure\n",
      " -------------------------\n",
      "Azure\n",
      " -------------------------\n",
      "Azure\n",
      " -------------------------\n"
     ]
    }
   ],
   "source": [
    "low_temp_config = types.GenerateContentConfig(temperature=0.0)\n",
    "\n",
    "for _ in range(5):\n",
    "  response = client.models.generate_content(\n",
    "      model='gemini-2.0-flash',\n",
    "      config=low_temp_config,\n",
    "      contents='Pick a random colour... (respond in a single word)')\n",
    "\n",
    "  if response.text:\n",
    "    print(response.text, '-' * 25)"
   ]
  },
  {
   "cell_type": "code",
   "execution_count": 17,
   "id": "56df95cc",
   "metadata": {
    "execution": {
     "iopub.execute_input": "2025-03-31T00:11:12.162957Z",
     "iopub.status.busy": "2025-03-31T00:11:12.162644Z",
     "iopub.status.idle": "2025-03-31T00:11:52.994930Z",
     "shell.execute_reply": "2025-03-31T00:11:52.993821Z"
    },
    "papermill": {
     "duration": 40.85249,
     "end_time": "2025-03-31T00:11:53.005213",
     "exception": false,
     "start_time": "2025-03-31T00:11:12.152723",
     "status": "completed"
    },
    "tags": []
   },
   "outputs": [
    {
     "name": "stdout",
     "output_type": "stream",
     "text": [
      "In LLMs, **temperature** controls the randomness of the output.\n",
      "\n",
      "*   **Low temperature (e.g., 0.2):** Makes the output more predictable and focused. Good for factual answers.\n",
      "*   **High temperature (e.g., 1.0):** Makes the output more creative and surprising. Good for brainstorming or creative writing.\n",
      "\n",
      "**Example:**\n",
      "\n",
      "Imagine asking an LLM \"What is the capital of France?\"\n",
      "\n",
      "*   **Low temperature:**  \"Paris.\" (Very likely and predictable)\n",
      "*   **High temperature:** \"Paris, the city of lights!\" or \"Could it be Paris, or perhaps a hidden gem?\" (More creative and less certain)\n",
      "\n"
     ]
    }
   ],
   "source": [
    "low_temp_config = types.GenerateContentConfig(temperature=0.0)\n",
    "\n",
    "response = client.models.generate_content(\n",
    "    model='gemini-2.0-flash',\n",
    "    config=low_temp_config,\n",
    "    contents = '''\n",
    "    what is temperature in LLM? answer shortly with easy example\n",
    "    '''\n",
    ")\n",
    "\n",
    "if response.text:\n",
    "    print(response.text)"
   ]
  },
  {
   "cell_type": "markdown",
   "id": "acb34fa5",
   "metadata": {
    "id": "St5nt3vzitsZ",
    "papermill": {
     "duration": 0.008934,
     "end_time": "2025-03-31T00:11:53.023327",
     "exception": false,
     "start_time": "2025-03-31T00:11:53.014393",
     "status": "completed"
    },
    "tags": []
   },
   "source": [
    "### Top-P\n",
    "\n",
    "Like temperature, the top-P parameter is also used to control the diversity of the model's output.\n",
    "\n",
    "Top-P defines the probability threshold that, once cumulatively exceeded, tokens stop being selected as candidates. A top-P of 0 is typically equivalent to greedy decoding, and a top-P of 1 typically selects every token in the model's vocabulary.\n",
    "\n",
    "You may also see top-K referenced in LLM literature. Top-K is not configurable in the Gemini 2.0 series of models, but can be changed in older models. Top-K is a positive integer that defines the number of most probable tokens from which to select the output token. A top-K of 1 selects a single token, performing greedy decoding.\n",
    "\n",
    "\n",
    "Run this example a number of times, change the settings and observe the change in output."
   ]
  },
  {
   "cell_type": "code",
   "execution_count": 18,
   "id": "fdf919be",
   "metadata": {
    "execution": {
     "iopub.execute_input": "2025-03-31T00:11:53.042853Z",
     "iopub.status.busy": "2025-03-31T00:11:53.042527Z",
     "iopub.status.idle": "2025-03-31T00:11:58.654832Z",
     "shell.execute_reply": "2025-03-31T00:11:58.653975Z"
    },
    "id": "lPlzpEavUV8F",
    "papermill": {
     "duration": 5.624434,
     "end_time": "2025-03-31T00:11:58.656881",
     "exception": false,
     "start_time": "2025-03-31T00:11:53.032447",
     "status": "completed"
    },
    "tags": []
   },
   "outputs": [
    {
     "name": "stdout",
     "output_type": "stream",
     "text": [
      "Jasper, a ginger tabby with a perpetually rumpled ear, considered himself a creature of habit. Breakfast at precisely 7:00 AM, a nap in the sunbeam by the window at 10:00 AM, and birdwatching from the oak tree at 3:00 PM. His life was a comfortable, predictable symphony. Until, that is, the robin arrived.\n",
      "\n",
      "This wasn’t just any robin. This robin, plump and brazen, perched just inches from Jasper’s twitching nose on the oak branch and, in a chirp that was undeniably mocking, dropped a single, glistening cherry pit at his feet.\n",
      "\n",
      "Jasper, insulted beyond words, forgot all about his afternoon nap. He glared at the robin, its tiny head cocked, as if daring him to do something. And Jasper, for the first time in his meticulously planned existence, did. He jumped.\n",
      "\n",
      "He didn’t quite reach the robin, who, with a triumphant flurry of wings, soared over the garden fence. But the jump, the sudden burst of unexpected action, ignited something new in Jasper. A spark of…adventure.\n",
      "\n",
      "He stared at the fence, a barrier he usually dismissed as utterly irrelevant. Today, it felt like a challenge. He crouched low, wiggled his rump, and launched himself.\n",
      "\n",
      "He landed awkwardly on the other side, a tangle of fur and startled meows. The world beyond his garden was…overwhelming. Smells assaulted him - damp earth, blooming honeysuckle, the tantalizing tang of garbage (which he promptly investigated).\n",
      "\n",
      "He padded along a narrow path, his senses on high alert. A fat bumblebee buzzed past, sending him scrambling up a wooden fence. He discovered a patch of catmint, which he sampled with enthusiastic abandon, rolling around in blissful feline ecstasy.\n",
      "\n",
      "The further he travelled, the stranger the sights became. He encountered a chihuahua named Princess who, despite her frilly pink dress, barked like a furious terrier and sent him scurrying. He navigated a labyrinth of discarded cardboard boxes behind a pizzeria, the aroma of pepperoni intoxicating his senses.\n",
      "\n",
      "His adventure culminated in a surprising encounter. He found himself in a bustling marketplace, a kaleidoscope of colors and sounds. Amidst the throngs of people, he saw her. A sleek, black cat with emerald eyes, perched regally on a stack of watermelons.\n",
      "\n",
      "She regarded him with cool curiosity. He, in turn, was mesmerized. This was nothing like the pampered Persian across the street. This cat was wild, untamed, and undeniably beautiful.\n",
      "\n",
      "He mustered his courage and approached her, his tail twitching nervously. \"Hello,\" he managed, his voice a bit croaky.\n",
      "\n",
      "The black cat tilted her head. \"And who are you?\"\n",
      "\n",
      "\"I'm Jasper,\" he said. \"I…I'm on an adventure.\"\n",
      "\n",
      "She purred, a low rumble that vibrated through him. \"An adventure? Perhaps I can help you with that.\"\n",
      "\n",
      "And so, Jasper’s adventure took an unexpected turn. He spent the rest of the afternoon exploring the marketplace with the black cat, whose name, he learned, was Midnight. They chased pigeons, sampled discarded fish scraps, and watched the sunset from the highest point of the market tent.\n",
      "\n",
      "As dusk settled, a feeling of contentment, deeper than any he had ever known in his predictable life, settled within him. He realized adventure wasn't just about escaping the mundane; it was about finding unexpected connections, embracing the unknown, and, most importantly, opening yourself up to new possibilities.\n",
      "\n",
      "Exhausted but exhilarated, he finally returned to his garden, Midnight disappearing into the shadows with a soft farewell. He slipped under the fence, the scent of catmint clinging to his fur.\n",
      "\n",
      "His owner, a kind old woman named Martha, was frantic with worry. She scooped him up, showering him with relieved kisses. But Jasper, purring contentedly, knew he could never truly go back to his old, predictable life. He had tasted adventure, and he knew, with absolute certainty, that this was just the beginning. The cherry pit, after all, had only been the spark. Midnight, well, she was the flame.\n",
      "\n"
     ]
    }
   ],
   "source": [
    "model_config = types.GenerateContentConfig(\n",
    "    # These are the default values for gemini-2.0-flash.\n",
    "    temperature=1.0,\n",
    "    top_p=0.95,\n",
    ")\n",
    "\n",
    "story_prompt = \"You are a creative writer. Write a short story about a cat who goes on an adventure.\"\n",
    "response = client.models.generate_content(\n",
    "    model='gemini-2.0-flash',\n",
    "    config=model_config,\n",
    "    contents=story_prompt)\n",
    "\n",
    "print(response.text)"
   ]
  },
  {
   "cell_type": "markdown",
   "id": "706ce1fe",
   "metadata": {
    "id": "rMrYs1koY6DX",
    "papermill": {
     "duration": 0.009389,
     "end_time": "2025-03-31T00:11:58.677531",
     "exception": false,
     "start_time": "2025-03-31T00:11:58.668142",
     "status": "completed"
    },
    "tags": []
   },
   "source": [
    "## Prompting\n",
    "\n",
    "This section contains some prompts from the chapter for you to try out directly in the API. Try changing the text here to see how each prompt performs with different instructions, more examples, or any other changes you can think of."
   ]
  },
  {
   "cell_type": "markdown",
   "id": "2b0cfe8c",
   "metadata": {
    "id": "hhj_tQidZJP7",
    "papermill": {
     "duration": 0.009197,
     "end_time": "2025-03-31T00:11:58.696464",
     "exception": false,
     "start_time": "2025-03-31T00:11:58.687267",
     "status": "completed"
    },
    "tags": []
   },
   "source": [
    "### Zero-shot\n",
    "\n",
    "Zero-shot prompts are prompts that describe the request for the model directly.\n",
    "\n",
    "<table align=left>\n",
    "  <td>\n",
    "    <a target=\"_blank\" href=\"https://aistudio.google.com/prompts/1gzKKgDHwkAvexG5Up0LMtl1-6jKMKe4g\"><img src=\"https://ai.google.dev/site-assets/images/marketing/home/icon-ais.png\" style=\"height: 24px\" height=24/> Open in AI Studio</a>\n",
    "  </td>\n",
    "</table>"
   ]
  },
  {
   "cell_type": "code",
   "execution_count": 19,
   "id": "f39628cb",
   "metadata": {
    "execution": {
     "iopub.execute_input": "2025-03-31T00:11:58.716794Z",
     "iopub.status.busy": "2025-03-31T00:11:58.716483Z",
     "iopub.status.idle": "2025-03-31T00:11:59.076126Z",
     "shell.execute_reply": "2025-03-31T00:11:59.075213Z"
    },
    "id": "1_t-cwnDZzbH",
    "papermill": {
     "duration": 0.371493,
     "end_time": "2025-03-31T00:11:59.077468",
     "exception": false,
     "start_time": "2025-03-31T00:11:58.705975",
     "status": "completed"
    },
    "tags": []
   },
   "outputs": [
    {
     "name": "stdout",
     "output_type": "stream",
     "text": [
      "POSITIVE\n",
      "\n"
     ]
    }
   ],
   "source": [
    "model_config = types.GenerateContentConfig(\n",
    "    temperature=0.1,\n",
    "    top_p=1,\n",
    "    max_output_tokens=5,\n",
    ")\n",
    "\n",
    "zero_shot_prompt = \"\"\"Classify movie reviews as POSITIVE, NEUTRAL or NEGATIVE.\n",
    "Review: \"Her\" is a disturbing study revealing the direction\n",
    "humanity is headed if AI is allowed to keep evolving,\n",
    "unchecked. I wish there were more movies like this masterpiece.\n",
    "Sentiment: \"\"\"\n",
    "\n",
    "response = client.models.generate_content(\n",
    "    model='gemini-2.0-flash',\n",
    "    config=model_config,\n",
    "    contents=zero_shot_prompt)\n",
    "\n",
    "print(response.text)"
   ]
  },
  {
   "cell_type": "markdown",
   "id": "583d1a11",
   "metadata": {
    "id": "3b5568bdeb11",
    "papermill": {
     "duration": 0.008905,
     "end_time": "2025-03-31T00:11:59.095797",
     "exception": false,
     "start_time": "2025-03-31T00:11:59.086892",
     "status": "completed"
    },
    "tags": []
   },
   "source": [
    "#### Enum mode\n",
    "\n",
    "The models are trained to generate text, and while the Gemini 2.0 models are great at following instructions, other models can sometimes produce more text than you may wish for. In the preceding example, the model will output the label, but sometimes it can include a preceding \"Sentiment\" label, and without an output token limit, it may also add explanatory text afterwards. See [this prompt in AI Studio](https://aistudio.google.com/prompts/1gzKKgDHwkAvexG5Up0LMtl1-6jKMKe4g) for an example.\n",
    "\n",
    "The Gemini API has an [Enum mode](https://github.com/google-gemini/cookbook/blob/main/quickstarts/Enum.ipynb) feature that allows you to constrain the output to a fixed set of values."
   ]
  },
  {
   "cell_type": "code",
   "execution_count": 20,
   "id": "48e4b4b3",
   "metadata": {
    "execution": {
     "iopub.execute_input": "2025-03-31T00:11:59.115346Z",
     "iopub.status.busy": "2025-03-31T00:11:59.115057Z",
     "iopub.status.idle": "2025-03-31T00:11:59.577615Z",
     "shell.execute_reply": "2025-03-31T00:11:59.576779Z"
    },
    "id": "ad118a56c598",
    "papermill": {
     "duration": 0.474072,
     "end_time": "2025-03-31T00:11:59.579056",
     "exception": false,
     "start_time": "2025-03-31T00:11:59.104984",
     "status": "completed"
    },
    "tags": []
   },
   "outputs": [
    {
     "name": "stdout",
     "output_type": "stream",
     "text": [
      "positive\n"
     ]
    }
   ],
   "source": [
    "import enum\n",
    "\n",
    "class Sentiment(enum.Enum):\n",
    "    POSITIVE = \"positive\"\n",
    "    NEUTRAL = \"neutral\"\n",
    "    NEGATIVE = \"negative\"\n",
    "\n",
    "\n",
    "response = client.models.generate_content(\n",
    "    model='gemini-2.0-flash',\n",
    "    config=types.GenerateContentConfig(\n",
    "        response_mime_type=\"text/x.enum\",\n",
    "        response_schema=Sentiment\n",
    "    ),\n",
    "    contents=zero_shot_prompt)\n",
    "\n",
    "print(response.text)"
   ]
  },
  {
   "cell_type": "markdown",
   "id": "03f09f9e",
   "metadata": {
    "papermill": {
     "duration": 0.009152,
     "end_time": "2025-03-31T00:11:59.597850",
     "exception": false,
     "start_time": "2025-03-31T00:11:59.588698",
     "status": "completed"
    },
    "tags": []
   },
   "source": [
    "When using constrained output like an enum, the Python SDK will attempt to convert the model's text response into a Python object automatically. It's stored in the `response.parsed` field."
   ]
  },
  {
   "cell_type": "code",
   "execution_count": 21,
   "id": "fc3912fd",
   "metadata": {
    "execution": {
     "iopub.execute_input": "2025-03-31T00:11:59.617514Z",
     "iopub.status.busy": "2025-03-31T00:11:59.617282Z",
     "iopub.status.idle": "2025-03-31T00:11:59.621672Z",
     "shell.execute_reply": "2025-03-31T00:11:59.620777Z"
    },
    "papermill": {
     "duration": 0.016025,
     "end_time": "2025-03-31T00:11:59.623176",
     "exception": false,
     "start_time": "2025-03-31T00:11:59.607151",
     "status": "completed"
    },
    "tags": []
   },
   "outputs": [
    {
     "name": "stdout",
     "output_type": "stream",
     "text": [
      "Sentiment.POSITIVE\n",
      "<enum 'Sentiment'>\n"
     ]
    }
   ],
   "source": [
    "enum_response = response.parsed\n",
    "print(enum_response)\n",
    "print(type(enum_response))"
   ]
  },
  {
   "cell_type": "markdown",
   "id": "1c982233",
   "metadata": {
    "id": "0udiSwNbv45W",
    "papermill": {
     "duration": 0.010629,
     "end_time": "2025-03-31T00:11:59.643547",
     "exception": false,
     "start_time": "2025-03-31T00:11:59.632918",
     "status": "completed"
    },
    "tags": []
   },
   "source": [
    "### One-shot and few-shot\n",
    "\n",
    "Providing an example of the expected response is known as a \"one-shot\" prompt. When you provide multiple examples, it is a \"few-shot\" prompt.\n",
    "\n",
    "<table align=left>\n",
    "  <td>\n",
    "    <a target=\"_blank\" href=\"https://aistudio.google.com/prompts/1jjWkjUSoMXmLvMJ7IzADr_GxHPJVV2bg\"><img src=\"https://ai.google.dev/site-assets/images/marketing/home/icon-ais.png\" style=\"height: 24px\" height=24/> Open in AI Studio</a>\n",
    "  </td>\n",
    "</table>\n"
   ]
  },
  {
   "cell_type": "code",
   "execution_count": 22,
   "id": "1ad83fa7",
   "metadata": {
    "execution": {
     "iopub.execute_input": "2025-03-31T00:11:59.665076Z",
     "iopub.status.busy": "2025-03-31T00:11:59.664723Z",
     "iopub.status.idle": "2025-03-31T00:12:00.135421Z",
     "shell.execute_reply": "2025-03-31T00:12:00.134419Z"
    },
    "id": "hd4mVUukwOKZ",
    "papermill": {
     "duration": 0.482855,
     "end_time": "2025-03-31T00:12:00.136678",
     "exception": false,
     "start_time": "2025-03-31T00:11:59.653823",
     "status": "completed"
    },
    "tags": []
   },
   "outputs": [
    {
     "name": "stdout",
     "output_type": "stream",
     "text": [
      "```json\n",
      "{\n",
      "\"size\": \"large\",\n",
      "\"type\": \"normal\",\n",
      "\"ingredients\": [\"cheese\", \"pineapple\"]\n",
      "}\n",
      "```\n",
      "\n"
     ]
    }
   ],
   "source": [
    "few_shot_prompt = \"\"\"Parse a customer's pizza order into valid JSON:\n",
    "\n",
    "EXAMPLE:\n",
    "I want a small pizza with cheese, tomato sauce, and pepperoni.\n",
    "JSON Response:\n",
    "```\n",
    "{\n",
    "\"size\": \"small\",\n",
    "\"type\": \"normal\",\n",
    "\"ingredients\": [\"cheese\", \"tomato sauce\", \"pepperoni\"]\n",
    "}\n",
    "```\n",
    "\n",
    "EXAMPLE:\n",
    "Can I get a large pizza with tomato sauce, basil and mozzarella\n",
    "JSON Response:\n",
    "```\n",
    "{\n",
    "\"size\": \"large\",\n",
    "\"type\": \"normal\",\n",
    "\"ingredients\": [\"tomato sauce\", \"basil\", \"mozzarella\"]\n",
    "}\n",
    "```\n",
    "\n",
    "ORDER:\n",
    "\"\"\"\n",
    "\n",
    "customer_order = \"Give me a large with cheese & pineapple\"\n",
    "\n",
    "response = client.models.generate_content(\n",
    "    model='gemini-2.0-flash',\n",
    "    config=types.GenerateContentConfig(\n",
    "        temperature=0.1,\n",
    "        top_p=1,\n",
    "        max_output_tokens=250,\n",
    "    ),\n",
    "    contents=[few_shot_prompt, customer_order])\n",
    "\n",
    "print(response.text)"
   ]
  },
  {
   "cell_type": "markdown",
   "id": "af9b7942",
   "metadata": {
    "id": "021293096f08",
    "papermill": {
     "duration": 0.009035,
     "end_time": "2025-03-31T00:12:00.155285",
     "exception": false,
     "start_time": "2025-03-31T00:12:00.146250",
     "status": "completed"
    },
    "tags": []
   },
   "source": [
    "#### JSON mode\n",
    "\n",
    "To provide control over the schema, and to ensure that you only receive JSON (with no other text or markdown), you can use the Gemini API's [JSON mode](https://github.com/google-gemini/cookbook/blob/main/quickstarts/JSON_mode.ipynb). This forces the model to constrain decoding, such that token selection is guided by the supplied schema."
   ]
  },
  {
   "cell_type": "code",
   "execution_count": 23,
   "id": "9de66b92",
   "metadata": {
    "execution": {
     "iopub.execute_input": "2025-03-31T00:12:00.175105Z",
     "iopub.status.busy": "2025-03-31T00:12:00.174840Z",
     "iopub.status.idle": "2025-03-31T00:12:00.776898Z",
     "shell.execute_reply": "2025-03-31T00:12:00.776097Z"
    },
    "id": "50fbf0260912",
    "papermill": {
     "duration": 0.613749,
     "end_time": "2025-03-31T00:12:00.778314",
     "exception": false,
     "start_time": "2025-03-31T00:12:00.164565",
     "status": "completed"
    },
    "tags": []
   },
   "outputs": [
    {
     "name": "stdout",
     "output_type": "stream",
     "text": [
      "{\n",
      "  \"size\": \"large\",\n",
      "  \"ingredients\": [\"apple\", \"chocolate\"],\n",
      "  \"type\": \"dessert\"\n",
      "}\n"
     ]
    }
   ],
   "source": [
    "import typing_extensions as typing\n",
    "\n",
    "class PizzaOrder(typing.TypedDict):\n",
    "    size: str\n",
    "    ingredients: list[str]\n",
    "    type: str\n",
    "\n",
    "\n",
    "response = client.models.generate_content(\n",
    "    model='gemini-2.0-flash',\n",
    "    config=types.GenerateContentConfig(\n",
    "        temperature=0.1,\n",
    "        response_mime_type=\"application/json\",\n",
    "        response_schema=PizzaOrder,\n",
    "    ),\n",
    "    contents=\"Can I have a large dessert pizza with apple and chocolate\")\n",
    "\n",
    "print(response.text)"
   ]
  },
  {
   "cell_type": "markdown",
   "id": "d46b8b76",
   "metadata": {
    "id": "4a93e338e57c",
    "papermill": {
     "duration": 0.009228,
     "end_time": "2025-03-31T00:12:00.797304",
     "exception": false,
     "start_time": "2025-03-31T00:12:00.788076",
     "status": "completed"
    },
    "tags": []
   },
   "source": [
    "### Chain of Thought (CoT)\n",
    "\n",
    "Direct prompting on LLMs can return answers quickly and (in terms of output token usage) efficiently, but they can be prone to hallucination. The answer may \"look\" correct (in terms of language and syntax) but is incorrect in terms of factuality and reasoning.\n",
    "\n",
    "Chain-of-Thought prompting is a technique where you instruct the model to output intermediate reasoning steps, and it typically gets better results, especially when combined with few-shot examples. It is worth noting that this technique doesn't completely eliminate hallucinations, and that it tends to cost more to run, due to the increased token count.\n",
    "\n",
    "Models like the Gemini family are trained to be \"chatty\" or \"thoughtful\" and will provide reasoning steps without prompting, so for this simple example you can ask the model to be more direct in the prompt to force a non-reasoning response. Try re-running this step if the model gets lucky and gets the answer correct on the first try."
   ]
  },
  {
   "cell_type": "code",
   "execution_count": 24,
   "id": "5e075e6c",
   "metadata": {
    "execution": {
     "iopub.execute_input": "2025-03-31T00:12:00.817465Z",
     "iopub.status.busy": "2025-03-31T00:12:00.817179Z",
     "iopub.status.idle": "2025-03-31T00:12:01.167225Z",
     "shell.execute_reply": "2025-03-31T00:12:01.166320Z"
    },
    "id": "5715555db1c1",
    "papermill": {
     "duration": 0.362274,
     "end_time": "2025-03-31T00:12:01.168986",
     "exception": false,
     "start_time": "2025-03-31T00:12:00.806712",
     "status": "completed"
    },
    "tags": []
   },
   "outputs": [
    {
     "name": "stdout",
     "output_type": "stream",
     "text": [
      "48\n",
      "\n"
     ]
    }
   ],
   "source": [
    "prompt = \"\"\"When I was 4 years old, my partner was 3 times my age. Now, I\n",
    "am 20 years old. How old is my partner? Return the answer directly.\"\"\"\n",
    "\n",
    "response = client.models.generate_content(\n",
    "    model='gemini-2.0-flash',\n",
    "    contents=prompt)\n",
    "\n",
    "print(response.text)"
   ]
  },
  {
   "cell_type": "markdown",
   "id": "4c7a0184",
   "metadata": {
    "id": "e12b19677bfd",
    "papermill": {
     "duration": 0.009356,
     "end_time": "2025-03-31T00:12:01.188413",
     "exception": false,
     "start_time": "2025-03-31T00:12:01.179057",
     "status": "completed"
    },
    "tags": []
   },
   "source": [
    "Now try the same approach, but indicate to the model that it should \"think step by step\"."
   ]
  },
  {
   "cell_type": "code",
   "execution_count": 25,
   "id": "c4866e41",
   "metadata": {
    "execution": {
     "iopub.execute_input": "2025-03-31T00:12:01.208513Z",
     "iopub.status.busy": "2025-03-31T00:12:01.208264Z",
     "iopub.status.idle": "2025-03-31T00:12:02.030107Z",
     "shell.execute_reply": "2025-03-31T00:12:02.029374Z"
    },
    "id": "ffd7536a481f",
    "papermill": {
     "duration": 0.83374,
     "end_time": "2025-03-31T00:12:02.031552",
     "exception": false,
     "start_time": "2025-03-31T00:12:01.197812",
     "status": "completed"
    },
    "tags": []
   },
   "outputs": [
    {
     "data": {
      "text/markdown": [
       "Here's how to solve this step-by-step:\n",
       "\n",
       "1.  **Find the age difference:** When you were 4, your partner was 3 times your age, meaning they were 4 * 3 = 12 years old.\n",
       "2.  **Calculate the age difference:** The age difference between you and your partner is 12 - 4 = 8 years.\n",
       "3.  **Calculate the partner's current age:** Since your partner is 8 years older than you, they are currently 20 + 8 = 28 years old.\n",
       "\n",
       "**Answer:** Your partner is now 28 years old."
      ],
      "text/plain": [
       "<IPython.core.display.Markdown object>"
      ]
     },
     "execution_count": 25,
     "metadata": {},
     "output_type": "execute_result"
    }
   ],
   "source": [
    "prompt = \"\"\"When I was 4 years old, my partner was 3 times my age. Now,\n",
    "I am 20 years old. How old is my partner? Let's think step by step.\"\"\"\n",
    "\n",
    "response = client.models.generate_content(\n",
    "    model='gemini-2.0-flash',\n",
    "    contents=prompt)\n",
    "\n",
    "Markdown(response.text)"
   ]
  },
  {
   "cell_type": "markdown",
   "id": "98214a08",
   "metadata": {
    "id": "oiLgBQJj0V53",
    "papermill": {
     "duration": 0.009966,
     "end_time": "2025-03-31T00:12:02.053389",
     "exception": false,
     "start_time": "2025-03-31T00:12:02.043423",
     "status": "completed"
    },
    "tags": []
   },
   "source": [
    "### ReAct: Reason and act\n",
    "\n",
    "In this example you will run a ReAct prompt directly in the Gemini API and perform the searching steps yourself. As this prompt follows a well-defined structure, there are frameworks available that wrap the prompt into easier-to-use APIs that make tool calls automatically, such as the LangChain example from the \"Prompting\" whitepaper.\n",
    "\n",
    "To try this out with the Wikipedia search engine, check out the [Searching Wikipedia with ReAct](https://github.com/google-gemini/cookbook/blob/main/examples/Search_Wikipedia_using_ReAct.ipynb) cookbook example.\n",
    "\n",
    "\n",
    "> Note: The prompt and in-context examples used here are from [https://github.com/ysymyth/ReAct](https://github.com/ysymyth/ReAct) which is published under an [MIT license](https://opensource.org/licenses/MIT), Copyright (c) 2023 Shunyu Yao.\n",
    "\n",
    "<table align=left>\n",
    "  <td>\n",
    "    <a target=\"_blank\" href=\"https://aistudio.google.com/prompts/18oo63Lwosd-bQ6Ay51uGogB3Wk3H8XMO\"><img src=\"https://ai.google.dev/site-assets/images/marketing/home/icon-ais.png\" style=\"height: 24px\" height=24/> Open in AI Studio</a>\n",
    "  </td>\n",
    "</table>\n"
   ]
  },
  {
   "cell_type": "code",
   "execution_count": 26,
   "id": "d889770d",
   "metadata": {
    "execution": {
     "iopub.execute_input": "2025-03-31T00:12:02.074242Z",
     "iopub.status.busy": "2025-03-31T00:12:02.073948Z",
     "iopub.status.idle": "2025-03-31T00:12:02.079404Z",
     "shell.execute_reply": "2025-03-31T00:12:02.078539Z"
    },
    "id": "cBgyNJ5z0VSs",
    "papermill": {
     "duration": 0.017908,
     "end_time": "2025-03-31T00:12:02.081039",
     "exception": false,
     "start_time": "2025-03-31T00:12:02.063131",
     "status": "completed"
    },
    "tags": []
   },
   "outputs": [],
   "source": [
    "model_instructions = \"\"\"\n",
    "Solve a question answering task with interleaving Thought, Action, Observation steps. Thought can reason about the current situation,\n",
    "Observation is understanding relevant information from an Action's output and Action can be one of three types:\n",
    " (1) <search>entity</search>, which searches the exact entity on Wikipedia and returns the first paragraph if it exists. If not, it\n",
    "     will return some similar entities to search and you can try to search the information from those topics.\n",
    " (2) <lookup>keyword</lookup>, which returns the next sentence containing keyword in the current context. This only does exact matches,\n",
    "     so keep your searches short.\n",
    " (3) <finish>answer</finish>, which returns the answer and finishes the task.\n",
    "\"\"\"\n",
    "\n",
    "example1 = \"\"\"Question\n",
    "Musician and satirist Allie Goertz wrote a song about the \"The Simpsons\" character Milhouse, who Matt Groening named after who?\n",
    "\n",
    "Thought 1\n",
    "The question simplifies to \"The Simpsons\" character Milhouse is named after who. I only need to search Milhouse and find who it is named after.\n",
    "\n",
    "Action 1\n",
    "<search>Milhouse</search>\n",
    "\n",
    "Observation 1\n",
    "Milhouse Mussolini Van Houten is a recurring character in the Fox animated television series The Simpsons voiced by Pamela Hayden and created by Matt Groening.\n",
    "\n",
    "Thought 2\n",
    "The paragraph does not tell who Milhouse is named after, maybe I can look up \"named after\".\n",
    "\n",
    "Action 2\n",
    "<lookup>named after</lookup>\n",
    "\n",
    "Observation 2\n",
    "Milhouse was named after U.S. president Richard Nixon, whose middle name was Milhous.\n",
    "\n",
    "Thought 3\n",
    "Milhouse was named after U.S. president Richard Nixon, so the answer is Richard Nixon.\n",
    "\n",
    "Action 3\n",
    "<finish>Richard Nixon</finish>\n",
    "\"\"\"\n",
    "\n",
    "example2 = \"\"\"Question\n",
    "What is the elevation range for the area that the eastern sector of the Colorado orogeny extends into?\n",
    "\n",
    "Thought 1\n",
    "I need to search Colorado orogeny, find the area that the eastern sector of the Colorado orogeny extends into, then find the elevation range of the area.\n",
    "\n",
    "Action 1\n",
    "<search>Colorado orogeny</search>\n",
    "\n",
    "Observation 1\n",
    "The Colorado orogeny was an episode of mountain building (an orogeny) in Colorado and surrounding areas.\n",
    "\n",
    "Thought 2\n",
    "It does not mention the eastern sector. So I need to look up eastern sector.\n",
    "\n",
    "Action 2\n",
    "<lookup>eastern sector</lookup>\n",
    "\n",
    "Observation 2\n",
    "The eastern sector extends into the High Plains and is called the Central Plains orogeny.\n",
    "\n",
    "Thought 3\n",
    "The eastern sector of Colorado orogeny extends into the High Plains. So I need to search High Plains and find its elevation range.\n",
    "\n",
    "Action 3\n",
    "<search>High Plains</search>\n",
    "\n",
    "Observation 3\n",
    "High Plains refers to one of two distinct land regions\n",
    "\n",
    "Thought 4\n",
    "I need to instead search High Plains (United States).\n",
    "\n",
    "Action 4\n",
    "<search>High Plains (United States)</search>\n",
    "\n",
    "Observation 4\n",
    "The High Plains are a subregion of the Great Plains. From east to west, the High Plains rise in elevation from around 1,800 to 7,000 ft (550 to 2,130m).\n",
    "\n",
    "Thought 5\n",
    "High Plains rise in elevation from around 1,800 to 7,000 ft, so the answer is 1,800 to 7,000 ft.\n",
    "\n",
    "Action 5\n",
    "<finish>1,800 to 7,000 ft</finish>\n",
    "\"\"\"\n",
    "\n",
    "# Come up with more examples yourself, or take a look through https://github.com/ysymyth/ReAct/"
   ]
  },
  {
   "cell_type": "markdown",
   "id": "3c2d0ae9",
   "metadata": {
    "id": "C3wbfstjTgey",
    "papermill": {
     "duration": 0.009255,
     "end_time": "2025-03-31T00:12:02.100465",
     "exception": false,
     "start_time": "2025-03-31T00:12:02.091210",
     "status": "completed"
    },
    "tags": []
   },
   "source": [
    "To capture a single step at a time, while ignoring any hallucinated Observation steps, you will use `stop_sequences` to end the generation process. The steps are `Thought`, `Action`, `Observation`, in that order."
   ]
  },
  {
   "cell_type": "code",
   "execution_count": 27,
   "id": "94760171",
   "metadata": {
    "execution": {
     "iopub.execute_input": "2025-03-31T00:12:02.121933Z",
     "iopub.status.busy": "2025-03-31T00:12:02.121616Z",
     "iopub.status.idle": "2025-03-31T00:12:02.677201Z",
     "shell.execute_reply": "2025-03-31T00:12:02.676376Z"
    },
    "id": "8mxrXRkRTdXm",
    "papermill": {
     "duration": 0.568761,
     "end_time": "2025-03-31T00:12:02.678634",
     "exception": false,
     "start_time": "2025-03-31T00:12:02.109873",
     "status": "completed"
    },
    "tags": []
   },
   "outputs": [
    {
     "name": "stdout",
     "output_type": "stream",
     "text": [
      "Thought 1\n",
      "I need to search for the \"transformers NLP paper\", find the list of authors, and then identify the youngest among them.\n",
      "\n",
      "Action 1\n",
      "<search>transformers NLP paper</search>\n",
      "\n"
     ]
    }
   ],
   "source": [
    "question = \"\"\"Question\n",
    "Who was the youngest author listed on the transformers NLP paper?\n",
    "\"\"\"\n",
    "\n",
    "# You will perform the Action; so generate up to, but not including, the Observation.\n",
    "react_config = types.GenerateContentConfig(\n",
    "    stop_sequences=[\"\\nObservation\"],\n",
    "    system_instruction=model_instructions + example1 + example2,\n",
    ")\n",
    "\n",
    "# Create a chat that has the model instructions and examples pre-seeded.\n",
    "react_chat = client.chats.create(\n",
    "    model='gemini-2.0-flash',\n",
    "    config=react_config,\n",
    ")\n",
    "\n",
    "resp = react_chat.send_message(question)\n",
    "print(resp.text)"
   ]
  },
  {
   "cell_type": "markdown",
   "id": "9c2245f7",
   "metadata": {
    "id": "aW2PIdLbVv3l",
    "papermill": {
     "duration": 0.013392,
     "end_time": "2025-03-31T00:12:02.701939",
     "exception": false,
     "start_time": "2025-03-31T00:12:02.688547",
     "status": "completed"
    },
    "tags": []
   },
   "source": [
    "Now you can perform this research yourself and supply it back to the model."
   ]
  },
  {
   "cell_type": "code",
   "execution_count": 28,
   "id": "67857617",
   "metadata": {
    "execution": {
     "iopub.execute_input": "2025-03-31T00:12:02.725126Z",
     "iopub.status.busy": "2025-03-31T00:12:02.724845Z",
     "iopub.status.idle": "2025-03-31T00:12:03.526005Z",
     "shell.execute_reply": "2025-03-31T00:12:03.524977Z"
    },
    "id": "mLMc0DZaV9g2",
    "papermill": {
     "duration": 0.813427,
     "end_time": "2025-03-31T00:12:03.527442",
     "exception": false,
     "start_time": "2025-03-31T00:12:02.714015",
     "status": "completed"
    },
    "tags": []
   },
   "outputs": [
    {
     "name": "stdout",
     "output_type": "stream",
     "text": [
      "Thought 2\n",
      "The paper's authors are: Ashish Vaswani, Noam Shazeer, Niki Parmar, Jakob Uszkoreit, Llion Jones, Aidan N. Gomez, Lukasz Kaiser, Illia Polosukhin. I need to find the youngest author. I need to search for each author and find their birthdate.\n",
      "\n",
      "Action 2\n",
      "<search>Ashish Vaswani</search>\n",
      "\n"
     ]
    }
   ],
   "source": [
    "observation = \"\"\"Observation 1\n",
    "[1706.03762] Attention Is All You Need\n",
    "Ashish Vaswani, Noam Shazeer, Niki Parmar, Jakob Uszkoreit, Llion Jones, Aidan N. Gomez, Lukasz Kaiser, Illia Polosukhin\n",
    "We propose a new simple network architecture, the Transformer, based solely on attention mechanisms, dispensing with recurrence and convolutions entirely.\n",
    "\"\"\"\n",
    "resp = react_chat.send_message(observation)\n",
    "print(resp.text)"
   ]
  },
  {
   "cell_type": "markdown",
   "id": "0126cfd5",
   "metadata": {
    "id": "bo0tzf4nX6dA",
    "papermill": {
     "duration": 0.009398,
     "end_time": "2025-03-31T00:12:03.546971",
     "exception": false,
     "start_time": "2025-03-31T00:12:03.537573",
     "status": "completed"
    },
    "tags": []
   },
   "source": [
    "This process repeats until the `<finish>` action is reached. You can continue running this yourself if you like, or try the [Wikipedia example](https://github.com/google-gemini/cookbook/blob/main/examples/Search_Wikipedia_using_ReAct.ipynb) to see a fully automated ReAct system at work."
   ]
  },
  {
   "cell_type": "markdown",
   "id": "5c2a69bf",
   "metadata": {
    "papermill": {
     "duration": 0.009412,
     "end_time": "2025-03-31T00:12:03.565937",
     "exception": false,
     "start_time": "2025-03-31T00:12:03.556525",
     "status": "completed"
    },
    "tags": []
   },
   "source": [
    "## Thinking mode\n",
    "\n",
    "The experiemental Gemini Flash 2.0 \"Thinking\" model has been trained to generate the \"thinking process\" the model goes through as part of its response. As a result, the Flash Thinking model is capable of stronger reasoning capabilities in its responses.\n",
    "\n",
    "Using a \"thinking mode\" model can provide you with high-quality responses without needing specialised prompting like the previous approaches. One reason this technique is effective is that you induce the model to generate relevant information (\"brainstorming\", or \"thoughts\") that is then used as part of the context in which the final response is generated.\n",
    "\n",
    "Note that when you use the API, you get the final response from the model, but the thoughts are not captured. To see the intermediate thoughts, try out [the thinking mode model in AI Studio](https://aistudio.google.com/prompts/new_chat?model=gemini-2.0-flash-thinking-exp-01-21).\n",
    "\n",
    "<table align=left>\n",
    "  <td>\n",
    "    <a target=\"_blank\" href=\"https://aistudio.google.com/prompts/1Z991SV7lZZZqioOiqIUPv9a9ix-ws4zk\"><img src=\"https://ai.google.dev/site-assets/images/marketing/home/icon-ais.png\" style=\"height: 24px\" height=24/> Open in AI Studio</a>\n",
    "  </td>\n",
    "</table>"
   ]
  },
  {
   "cell_type": "code",
   "execution_count": 29,
   "id": "890ad452",
   "metadata": {
    "execution": {
     "iopub.execute_input": "2025-03-31T00:12:03.586345Z",
     "iopub.status.busy": "2025-03-31T00:12:03.586054Z",
     "iopub.status.idle": "2025-03-31T00:12:09.557291Z",
     "shell.execute_reply": "2025-03-31T00:12:09.556619Z"
    },
    "papermill": {
     "duration": 5.983122,
     "end_time": "2025-03-31T00:12:09.558585",
     "exception": false,
     "start_time": "2025-03-31T00:12:03.575463",
     "status": "completed"
    },
    "tags": []
   },
   "outputs": [
    {
     "data": {
      "text/markdown": [
       "The youngest author listed on the seminal Transformer NLP paper, \"Attention is All You Need\" (published in 2017), is **Aidan N. Gomez**.\n",
       "\n",
       "While it's difficult to definitively know the exact age of every author at the time of publication without access to their private information, Aidan N. Gomez was notably a PhD student at the University of Oxford when the paper was published. The other authors were primarily researchers at Google Brain, suggesting they were likely more established in their careers and therefore older than a PhD student.\n",
       "\n",
       "Therefore, based on career stage at the time of publication, **Aidan N. Gomez** is highly likely to be the youngest author."
      ],
      "text/plain": [
       "<IPython.core.display.Markdown object>"
      ]
     },
     "execution_count": 29,
     "metadata": {},
     "output_type": "execute_result"
    }
   ],
   "source": [
    "import io\n",
    "from IPython.display import Markdown, clear_output\n",
    "\n",
    "\n",
    "response = client.models.generate_content_stream(\n",
    "    model='gemini-2.0-flash-thinking-exp',\n",
    "    contents='Who was the youngest author listed on the transformers NLP paper?',\n",
    ")\n",
    "\n",
    "buf = io.StringIO()\n",
    "for chunk in response:\n",
    "    buf.write(chunk.text)\n",
    "    # Display the response as it is streamed\n",
    "    print(chunk.text, end='')\n",
    "\n",
    "# And then render the finished response as formatted markdown.\n",
    "clear_output()\n",
    "Markdown(buf.getvalue())"
   ]
  },
  {
   "cell_type": "markdown",
   "id": "7da439e3",
   "metadata": {
    "id": "jPiZ_eIIaVPt",
    "papermill": {
     "duration": 0.009504,
     "end_time": "2025-03-31T00:12:09.578339",
     "exception": false,
     "start_time": "2025-03-31T00:12:09.568835",
     "status": "completed"
    },
    "tags": []
   },
   "source": [
    "## Code prompting"
   ]
  },
  {
   "cell_type": "markdown",
   "id": "43b8b93e",
   "metadata": {
    "id": "ZinKamwXeR6C",
    "papermill": {
     "duration": 0.009565,
     "end_time": "2025-03-31T00:12:09.597575",
     "exception": false,
     "start_time": "2025-03-31T00:12:09.588010",
     "status": "completed"
    },
    "tags": []
   },
   "source": [
    "### Generating code\n",
    "\n",
    "The Gemini family of models can be used to generate code, configuration and scripts. Generating code can be helpful when learning to code, learning a new language or for rapidly generating a first draft.\n",
    "\n",
    "It's important to be aware that since LLMs can make mistakes, and can repeat training data, it's essential to read and test your code first, and comply with any relevant licenses.\n",
    "\n",
    "<table align=left>\n",
    "  <td>\n",
    "    <a target=\"_blank\" href=\"https://aistudio.google.com/prompts/1YX71JGtzDjXQkgdes8bP6i3oH5lCRKxv\"><img src=\"https://ai.google.dev/site-assets/images/marketing/home/icon-ais.png\" style=\"height: 24px\" height=24/> Open in AI Studio</a>\n",
    "  </td>\n",
    "</table>"
   ]
  },
  {
   "cell_type": "code",
   "execution_count": 30,
   "id": "74b6ee05",
   "metadata": {
    "execution": {
     "iopub.execute_input": "2025-03-31T00:12:09.618067Z",
     "iopub.status.busy": "2025-03-31T00:12:09.617802Z",
     "iopub.status.idle": "2025-03-31T00:12:10.195629Z",
     "shell.execute_reply": "2025-03-31T00:12:10.194884Z"
    },
    "id": "fOQP9pqmeUO1",
    "papermill": {
     "duration": 0.589674,
     "end_time": "2025-03-31T00:12:10.196905",
     "exception": false,
     "start_time": "2025-03-31T00:12:09.607231",
     "status": "completed"
    },
    "tags": []
   },
   "outputs": [
    {
     "data": {
      "text/markdown": [
       "```python\n",
       "def factorial(n):\n",
       "  \"\"\"Calculates the factorial of a number.\"\"\"\n",
       "  if n == 0:\n",
       "    return 1\n",
       "  else:\n",
       "    return n * factorial(n-1)\n",
       "```\n"
      ],
      "text/plain": [
       "<IPython.core.display.Markdown object>"
      ]
     },
     "execution_count": 30,
     "metadata": {},
     "output_type": "execute_result"
    }
   ],
   "source": [
    "# The Gemini models love to talk, so it helps to specify they stick to the code if that\n",
    "# is all that you want.\n",
    "code_prompt = \"\"\"\n",
    "Write a Python function to calculate the factorial of a number. No explanation, provide only the code.\n",
    "\"\"\"\n",
    "\n",
    "response = client.models.generate_content(\n",
    "    model='gemini-2.0-flash',\n",
    "    config=types.GenerateContentConfig(\n",
    "        temperature=1,\n",
    "        top_p=1,\n",
    "        max_output_tokens=1024,\n",
    "    ),\n",
    "    contents=code_prompt)\n",
    "\n",
    "Markdown(response.text)"
   ]
  },
  {
   "cell_type": "markdown",
   "id": "bc50b9cc",
   "metadata": {
    "id": "wlBMWSFhgVRQ",
    "papermill": {
     "duration": 0.009491,
     "end_time": "2025-03-31T00:12:10.216428",
     "exception": false,
     "start_time": "2025-03-31T00:12:10.206937",
     "status": "completed"
    },
    "tags": []
   },
   "source": [
    "### Code execution\n",
    "\n",
    "The Gemini API can automatically run generated code too, and will return the output.\n",
    "\n",
    "<table align=left>\n",
    "  <td>\n",
    "    <a target=\"_blank\" href=\"https://aistudio.google.com/prompts/11veFr_VYEwBWcLkhNLr-maCG0G8sS_7Z\"><img src=\"https://ai.google.dev/site-assets/images/marketing/home/icon-ais.png\" style=\"height: 24px\" height=24/> Open in AI Studio</a>\n",
    "  </td>\n",
    "</table>"
   ]
  },
  {
   "cell_type": "code",
   "execution_count": 31,
   "id": "6a4b58d5",
   "metadata": {
    "execution": {
     "iopub.execute_input": "2025-03-31T00:12:10.237071Z",
     "iopub.status.busy": "2025-03-31T00:12:10.236807Z",
     "iopub.status.idle": "2025-03-31T00:12:12.140585Z",
     "shell.execute_reply": "2025-03-31T00:12:12.139443Z"
    },
    "id": "jT3OfWYfhjRL",
    "papermill": {
     "duration": 1.916066,
     "end_time": "2025-03-31T00:12:12.142125",
     "exception": false,
     "start_time": "2025-03-31T00:12:10.226059",
     "status": "completed"
    },
    "tags": []
   },
   "outputs": [
    {
     "name": "stdout",
     "output_type": "stream",
     "text": [
      "{'text': 'Okay, I can do that. First, I need to generate the first 14 odd '\n",
      "         'prime numbers. Remember that a prime number is a number greater than '\n",
      "         '1 that has only two divisors: 1 and itself. The first few prime '\n",
      "         'numbers are 2, 3, 5, 7, 11, and so on. Since the question asks for '\n",
      "         \"odd prime numbers, I'll exclude 2. After generating the numbers, \"\n",
      "         \"I'll compute their sum.\\n\"\n",
      "         '\\n'}\n",
      "-----\n",
      "{'executable_code': {'code': 'primes = [3, 5, 7, 11, 13, 17, 19, 23, 29, 31, '\n",
      "                             '37, 41, 43, 47]\\n'\n",
      "                             'sum_of_primes = sum(primes)\\n'\n",
      "                             \"print(f'{primes=}')\\n\"\n",
      "                             \"print(f'{sum_of_primes=}')\\n\",\n",
      "                     'language': 'PYTHON'}}\n",
      "-----\n",
      "{'code_execution_result': {'outcome': 'OUTCOME_OK',\n",
      "                           'output': 'primes=[3, 5, 7, 11, 13, 17, 19, 23, 29, '\n",
      "                                     '31, 37, 41, 43, 47]\\n'\n",
      "                                     'sum_of_primes=326\\n'}}\n",
      "-----\n",
      "{'text': 'The first 14 odd prime numbers are 3, 5, 7, 11, 13, 17, 19, 23, 29, '\n",
      "         '31, 37, 41, 43, and 47. Their sum is 326.\\n'}\n",
      "-----\n"
     ]
    }
   ],
   "source": [
    "from pprint import pprint\n",
    "\n",
    "config = types.GenerateContentConfig(\n",
    "    tools=[types.Tool(code_execution=types.ToolCodeExecution())],\n",
    ")\n",
    "\n",
    "code_exec_prompt = \"\"\"\n",
    "Generate the first 14 odd prime numbers, then calculate their sum.\n",
    "\"\"\"\n",
    "\n",
    "response = client.models.generate_content(\n",
    "    model='gemini-2.0-flash',\n",
    "    config=config,\n",
    "    contents=code_exec_prompt)\n",
    "\n",
    "for part in response.candidates[0].content.parts:\n",
    "  pprint(part.to_json_dict())\n",
    "  print(\"-----\")"
   ]
  },
  {
   "cell_type": "markdown",
   "id": "a7cf5762",
   "metadata": {
    "id": "ZspT1GSkjG6d",
    "papermill": {
     "duration": 0.009704,
     "end_time": "2025-03-31T00:12:12.162393",
     "exception": false,
     "start_time": "2025-03-31T00:12:12.152689",
     "status": "completed"
    },
    "tags": []
   },
   "source": [
    "This response contains multiple parts, including an opening and closing text part that represent regular responses, an `executable_code` part that represents generated code and a `code_execution_result` part that represents the results from running the generated code.\n",
    "\n",
    "You can explore them individually."
   ]
  },
  {
   "cell_type": "code",
   "execution_count": 32,
   "id": "048b23e2",
   "metadata": {
    "execution": {
     "iopub.execute_input": "2025-03-31T00:12:12.183248Z",
     "iopub.status.busy": "2025-03-31T00:12:12.182967Z",
     "iopub.status.idle": "2025-03-31T00:12:12.192383Z",
     "shell.execute_reply": "2025-03-31T00:12:12.191598Z"
    },
    "papermill": {
     "duration": 0.021466,
     "end_time": "2025-03-31T00:12:12.193726",
     "exception": false,
     "start_time": "2025-03-31T00:12:12.172260",
     "status": "completed"
    },
    "tags": []
   },
   "outputs": [
    {
     "data": {
      "text/markdown": [
       "Okay, I can do that. First, I need to generate the first 14 odd prime numbers. Remember that a prime number is a number greater than 1 that has only two divisors: 1 and itself. The first few prime numbers are 2, 3, 5, 7, 11, and so on. Since the question asks for odd prime numbers, I'll exclude 2. After generating the numbers, I'll compute their sum.\n",
       "\n"
      ],
      "text/plain": [
       "<IPython.core.display.Markdown object>"
      ]
     },
     "metadata": {},
     "output_type": "display_data"
    },
    {
     "data": {
      "text/markdown": [
       "```python\n",
       "primes = [3, 5, 7, 11, 13, 17, 19, 23, 29, 31, 37, 41, 43, 47]\n",
       "sum_of_primes = sum(primes)\n",
       "print(f'{primes=}')\n",
       "print(f'{sum_of_primes=}')\n",
       "\n",
       "```"
      ],
      "text/plain": [
       "<IPython.core.display.Markdown object>"
      ]
     },
     "metadata": {},
     "output_type": "display_data"
    },
    {
     "data": {
      "text/markdown": [
       "```\n",
       "primes=[3, 5, 7, 11, 13, 17, 19, 23, 29, 31, 37, 41, 43, 47]\n",
       "sum_of_primes=326\n",
       "\n",
       "```"
      ],
      "text/plain": [
       "<IPython.core.display.Markdown object>"
      ]
     },
     "metadata": {},
     "output_type": "display_data"
    },
    {
     "data": {
      "text/markdown": [
       "The first 14 odd prime numbers are 3, 5, 7, 11, 13, 17, 19, 23, 29, 31, 37, 41, 43, and 47. Their sum is 326.\n"
      ],
      "text/plain": [
       "<IPython.core.display.Markdown object>"
      ]
     },
     "metadata": {},
     "output_type": "display_data"
    }
   ],
   "source": [
    "for part in response.candidates[0].content.parts:\n",
    "    if part.text:\n",
    "        display(Markdown(part.text))\n",
    "    elif part.executable_code:\n",
    "        display(Markdown(f'```python\\n{part.executable_code.code}\\n```'))\n",
    "    elif part.code_execution_result:\n",
    "        if part.code_execution_result.outcome != 'OUTCOME_OK':\n",
    "            display(Markdown(f'## Status {part.code_execution_result.outcome}'))\n",
    "\n",
    "        display(Markdown(f'```\\n{part.code_execution_result.output}\\n```'))"
   ]
  },
  {
   "cell_type": "markdown",
   "id": "e09623b9",
   "metadata": {
    "id": "1gUX8QzCj4d5",
    "papermill": {
     "duration": 0.009949,
     "end_time": "2025-03-31T00:12:12.214620",
     "exception": false,
     "start_time": "2025-03-31T00:12:12.204671",
     "status": "completed"
    },
    "tags": []
   },
   "source": [
    "### Explaining code\n",
    "\n",
    "The Gemini family of models can explain code to you too. In this example, you pass a [bash script](https://github.com/magicmonty/bash-git-prompt) and ask some questions.\n",
    "\n",
    "<table align=left>\n",
    "  <td>\n",
    "    <a target=\"_blank\" href=\"https://aistudio.google.com/prompts/1N7LGzWzCYieyOf_7bAG4plrmkpDNmUyb\"><img src=\"https://ai.google.dev/site-assets/images/marketing/home/icon-ais.png\" style=\"height: 24px\" height=24/> Open in AI Studio</a>\n",
    "  </td>\n",
    "</table>"
   ]
  },
  {
   "cell_type": "code",
   "execution_count": 33,
   "id": "4ff04fd1",
   "metadata": {
    "execution": {
     "iopub.execute_input": "2025-03-31T00:12:12.236064Z",
     "iopub.status.busy": "2025-03-31T00:12:12.235777Z",
     "iopub.status.idle": "2025-03-31T00:12:14.997115Z",
     "shell.execute_reply": "2025-03-31T00:12:14.996475Z"
    },
    "id": "7_jPMMoxkIEb",
    "papermill": {
     "duration": 2.773793,
     "end_time": "2025-03-31T00:12:14.998433",
     "exception": false,
     "start_time": "2025-03-31T00:12:12.224640",
     "status": "completed"
    },
    "tags": []
   },
   "outputs": [
    {
     "data": {
      "text/markdown": [
       "This file is a **Bash/Zsh script that customizes your command prompt to display Git repository information**.  It's designed to be integrated into your shell environment (like `.bashrc` or `.zshrc`).\n",
       "\n",
       "Here's a breakdown:\n",
       "\n",
       "*   **What it does:**\n",
       "    *   **Git Status:** Shows information about the current Git repository, such as the branch name, staged/unstaged changes, un-tracked files, and the relationship to the remote repository (ahead/behind).\n",
       "    *   **Color Coding:** Uses colors to highlight different aspects of the Git status, making it easier to visually parse the information.\n",
       "    *   **Customization:**  Provides options to customize the appearance of the prompt, including the colors, symbols, and the specific information displayed.  It supports themes.\n",
       "    *   **Asynchronous Updates:**  Fetches remote Git status in the background to avoid slowing down your prompt.\n",
       "    *   **Virtual Environment Support:** Integrates with virtual environments (like Python's `venv` or `conda`) to show the active environment in your prompt.\n",
       "\n",
       "*   **Why you'd use it:**\n",
       "    *   **Improved Workflow:** Quickly see the status of your Git repository without having to run `git status` manually.\n",
       "    *   **Visual Cues:**  Understand the state of your repository at a glance thanks to color coding and symbols.\n",
       "    *   **Enhanced Productivity:** Streamline your Git workflow by having the relevant information readily available in your prompt.\n",
       "    *   **Customization:**  Tailor the prompt to your preferences and workflow.\n",
       "    *   **Awareness:** Immediately see when you are on a branch with uncommitted changes, or that is out of sync with the remote.\n",
       "\n",
       "In short, this script helps you keep track of your Git repositories directly from your command prompt, improving your efficiency when working with Git. You would typically add a line to your `.bashrc` or `.zshrc` file to source (execute) this script, and then configure the prompt accordingly.\n"
      ],
      "text/plain": [
       "<IPython.core.display.Markdown object>"
      ]
     },
     "execution_count": 33,
     "metadata": {},
     "output_type": "execute_result"
    }
   ],
   "source": [
    "file_contents = !curl https://raw.githubusercontent.com/magicmonty/bash-git-prompt/refs/heads/master/gitprompt.sh\n",
    "\n",
    "explain_prompt = f\"\"\"\n",
    "Please explain what this file does at a very high level. What is it, and why would I use it?\n",
    "\n",
    "```\n",
    "{file_contents}\n",
    "```\n",
    "\"\"\"\n",
    "\n",
    "response = client.models.generate_content(\n",
    "    model='gemini-2.0-flash',\n",
    "    contents=explain_prompt)\n",
    "\n",
    "Markdown(response.text)"
   ]
  },
  {
   "cell_type": "markdown",
   "id": "dce90601",
   "metadata": {
    "id": "2a8266d97ce5",
    "papermill": {
     "duration": 0.010711,
     "end_time": "2025-03-31T00:12:15.020208",
     "exception": false,
     "start_time": "2025-03-31T00:12:15.009497",
     "status": "completed"
    },
    "tags": []
   },
   "source": [
    "## Learn more\n",
    "\n",
    "To learn more about prompting in depth:\n",
    "\n",
    "* Check out the whitepaper issued with today's content,\n",
    "* Try out the apps listed at the top of this notebook ([TextFX](https://textfx.withgoogle.com/), [SQL Talk](https://sql-talk-r5gdynozbq-uc.a.run.app/) and [NotebookLM](https://notebooklm.google/)),\n",
    "* Read the [Introduction to Prompting](https://ai.google.dev/gemini-api/docs/prompting-intro) from the Gemini API docs,\n",
    "* Explore the Gemini API's [prompt gallery](https://ai.google.dev/gemini-api/prompts) and try them out in AI Studio,\n",
    "* Check out the Gemini API cookbook for [inspirational examples](https://github.com/google-gemini/cookbook/blob/main/examples/) and [educational quickstarts](https://github.com/google-gemini/cookbook/blob/main/quickstarts/).\n",
    "\n",
    "Be sure to check out the codelabs on day 3 too, where you will explore some more advanced prompting with code execution.\n",
    "\n",
    "And please share anything exciting you have tried in the Discord!\n",
    "\n",
    "*- [Mark McD](https://linktr.ee/markmcd)*"
   ]
  }
 ],
 "metadata": {
  "colab": {
   "name": "day-1-prompting.ipynb",
   "toc_visible": true
  },
  "kaggle": {
   "accelerator": "none",
   "dataSources": [],
   "dockerImageVersionId": 30786,
   "isGpuEnabled": false,
   "isInternetEnabled": true,
   "language": "python",
   "sourceType": "notebook"
  },
  "kernelspec": {
   "display_name": "Python 3",
   "language": "python",
   "name": "python3"
  },
  "language_info": {
   "codemirror_mode": {
    "name": "ipython",
    "version": 3
   },
   "file_extension": ".py",
   "mimetype": "text/x-python",
   "name": "python",
   "nbconvert_exporter": "python",
   "pygments_lexer": "ipython3",
   "version": "3.10.14"
  },
  "papermill": {
   "default_parameters": {},
   "duration": 89.770743,
   "end_time": "2025-03-31T00:12:15.449021",
   "environment_variables": {},
   "exception": null,
   "input_path": "__notebook__.ipynb",
   "output_path": "__notebook__.ipynb",
   "parameters": {},
   "start_time": "2025-03-31T00:10:45.678278",
   "version": "2.6.0"
  }
 },
 "nbformat": 4,
 "nbformat_minor": 5
}
